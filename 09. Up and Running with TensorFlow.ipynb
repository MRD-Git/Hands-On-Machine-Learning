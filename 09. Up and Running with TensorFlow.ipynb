{
 "cells": [
  {
   "cell_type": "markdown",
   "metadata": {},
   "source": [
    "# Up and Running with TensorFlow\n",
    "page 229<br>\n",
    "See\n",
    "- https://github.com/ageron/handson-ml/blob/master/09_up_and_running_with_tensorflow.ipynb,\n",
    "- https://docs.scipy.org/doc/numpy-1.14.0/reference/generated/numpy.allclose.html,\n",
    "- https://docs.scipy.org/doc/numpy/reference/generated/numpy.c_.html,\n",
    "- https://www.tensorflow.org/api_docs/python/tf/matmul,\n",
    "- https://en.wikipedia.org/wiki/Automatic_differentiation,\n",
    "- https://www.tensorflow.org/guide/summaries_and_tensorboard, and\n",
    "- https://www.youtube.com/watch?v=eBbEDRsCmv4 for details.\n",
    "\n",
    "TensorFlow is a software by Google that allows the user to define a machine learning program structure and to run this structure efficiently in optimized C++ code. Parallelization to GPUs and CPUs is also possible. \n",
    "- It runs on Mac, Windows, and Linux.\n",
    "- It is compatible with Scikit-Learn.\n",
    "- It supports the use of many interesting APIs / packages (see e.g. page 231).\n",
    "- High flexibility: any neural network architecture can be constructed.\n",
    "- Highly efficient C++ implementation.\n",
    "- Automatically takes care of calculating gradients via \"automatic differentiation\" (or \"autodiff\").\n",
    "- The network structure can be visualized with its \"TensorBoard\".\n",
    "- Continuous development, cloud services, \"tensorflow.js\", etc. keep TensorFlow at the cutting edge.\n",
    "\n",
    "### Creating Your First Graph and Running It in a Session"
   ]
  },
  {
   "cell_type": "code",
   "execution_count": 1,
   "metadata": {},
   "outputs": [
    {
     "name": "stderr",
     "output_type": "stream",
     "text": [
      "/anaconda3/lib/python3.6/site-packages/tensorflow/python/framework/dtypes.py:493: FutureWarning: Passing (type, 1) or '1type' as a synonym of type is deprecated; in a future version of numpy, it will be understood as (type, (1,)) / '(1,)type'.\n",
      "  _np_qint8 = np.dtype([(\"qint8\", np.int8, 1)])\n",
      "/anaconda3/lib/python3.6/site-packages/tensorflow/python/framework/dtypes.py:494: FutureWarning: Passing (type, 1) or '1type' as a synonym of type is deprecated; in a future version of numpy, it will be understood as (type, (1,)) / '(1,)type'.\n",
      "  _np_quint8 = np.dtype([(\"quint8\", np.uint8, 1)])\n",
      "/anaconda3/lib/python3.6/site-packages/tensorflow/python/framework/dtypes.py:495: FutureWarning: Passing (type, 1) or '1type' as a synonym of type is deprecated; in a future version of numpy, it will be understood as (type, (1,)) / '(1,)type'.\n",
      "  _np_qint16 = np.dtype([(\"qint16\", np.int16, 1)])\n",
      "/anaconda3/lib/python3.6/site-packages/tensorflow/python/framework/dtypes.py:496: FutureWarning: Passing (type, 1) or '1type' as a synonym of type is deprecated; in a future version of numpy, it will be understood as (type, (1,)) / '(1,)type'.\n",
      "  _np_quint16 = np.dtype([(\"quint16\", np.uint16, 1)])\n",
      "/anaconda3/lib/python3.6/site-packages/tensorflow/python/framework/dtypes.py:497: FutureWarning: Passing (type, 1) or '1type' as a synonym of type is deprecated; in a future version of numpy, it will be understood as (type, (1,)) / '(1,)type'.\n",
      "  _np_qint32 = np.dtype([(\"qint32\", np.int32, 1)])\n",
      "/anaconda3/lib/python3.6/site-packages/tensorflow/python/framework/dtypes.py:502: FutureWarning: Passing (type, 1) or '1type' as a synonym of type is deprecated; in a future version of numpy, it will be understood as (type, (1,)) / '(1,)type'.\n",
      "  np_resource = np.dtype([(\"resource\", np.ubyte, 1)])\n"
     ]
    },
    {
     "data": {
      "text/plain": [
       "<tf.Tensor 'add_1:0' shape=() dtype=int32>"
      ]
     },
     "execution_count": 1,
     "metadata": {},
     "output_type": "execute_result"
    }
   ],
   "source": [
    "# import tensorflow\n",
    "import tensorflow as tf\n",
    "# declare variables\n",
    "x = tf.Variable(3, name=\"x\")\n",
    "y = tf.Variable(4, name=\"y\")\n",
    "# declare a function\n",
    "f = x*x*y + y + 2\n",
    "f\n",
    "# until now, no calculation has been executed"
   ]
  },
  {
   "cell_type": "markdown",
   "metadata": {},
   "source": [
    "The above code does not actually calculate anything! Although in particular the last line looks like it is performing a mathematical calculation, all the above code does is to create a compuational graph. Even the variables \"x\" and \"y\" are in fact not initialized, yet! In order to run the calculation that is represented by the graph, one has to establish a session and run it as follows."
   ]
  },
  {
   "cell_type": "code",
   "execution_count": 2,
   "metadata": {},
   "outputs": [
    {
     "name": "stdout",
     "output_type": "stream",
     "text": [
      "42\n"
     ]
    }
   ],
   "source": [
    "# open a session\n",
    "sess = tf.Session()\n",
    "# initialize the variables (probably, this means that some memory is associated to them)\n",
    "sess.run(x.initializer)\n",
    "sess.run(y.initializer)\n",
    "# run the function f in the session and store the outcome in result\n",
    "result = sess.run(f)\n",
    "# print the result\n",
    "print(result)\n",
    "# close the session\n",
    "sess.close()"
   ]
  },
  {
   "cell_type": "markdown",
   "metadata": {},
   "source": [
    "The below code is equivalent and a bit quicker to type because inside the \"with\" block the session remains throughout and is closed at the end."
   ]
  },
  {
   "cell_type": "code",
   "execution_count": 3,
   "metadata": {},
   "outputs": [
    {
     "name": "stdout",
     "output_type": "stream",
     "text": [
      "42\n"
     ]
    }
   ],
   "source": [
    "# shorten the code by using a \"with\" block so \"sess\" can be spared inside the block (less typing to do for the ...\n",
    "with tf.Session() as sess: # ... programmer\n",
    "    x.initializer.run()    # intialize x\n",
    "    y.initializer.run()    # intialize y\n",
    "    print(f.eval())        # evaluate f and print the result (still inside the session block)"
   ]
  },
  {
   "cell_type": "markdown",
   "metadata": {},
   "source": [
    "Instead of initializing every variable manually, initialization can be achieved globally with a node that performs the initialization. See the following code!"
   ]
  },
  {
   "cell_type": "code",
   "execution_count": 4,
   "metadata": {},
   "outputs": [
    {
     "name": "stdout",
     "output_type": "stream",
     "text": [
      "42\n"
     ]
    }
   ],
   "source": [
    "# declare a global initializer\n",
    "init = tf.global_variables_initializer()\n",
    "# as above, the \"with\" environment eases the programmer's job (no need to type \"sess.\" almost everywhere) \n",
    "with tf.Session() as sess:\n",
    "    # initialize everything\n",
    "    init.run()\n",
    "    # perform the computation\n",
    "    result = f.eval()\n",
    "    # print the result\n",
    "    print(result)"
   ]
  },
  {
   "cell_type": "markdown",
   "metadata": {},
   "source": [
    "Yet another possibility for simplifying the code is to use an \"InteractiveSession\". It automatically sets itself as the default session and thus requires no manual initialization of variables. However, manual closure at the end of the run is still required."
   ]
  },
  {
   "cell_type": "code",
   "execution_count": 5,
   "metadata": {},
   "outputs": [
    {
     "name": "stdout",
     "output_type": "stream",
     "text": [
      "42\n"
     ]
    }
   ],
   "source": [
    "# this is even shorter (but it might interfere with other sessions, so pay caution if other sessions are open)\n",
    "sess = tf.InteractiveSession()\n",
    "# as above, initialize and run everything, then print the result\n",
    "init.run()\n",
    "rsult = f.eval()\n",
    "print(result)\n",
    "# the downside of omitting the \"with\" environment is that such environment (or actually its end) cannot indicate ...\n",
    "# ... the end of the session; so it needs to be closed manually\n",
    "sess.close()"
   ]
  },
  {
   "cell_type": "markdown",
   "metadata": {},
   "source": [
    "As long as no other session aside the default session from \"InteractiveSession\" is required, the last option above seems to be the most useful option: it requires no manual initialization of variables and avoids (possibly disturbing) indentation. Only manual closing is required.<br><br>\n",
    "Typically, a TensorFlow program consists of two parts: (i) first, it creates a graph that represents the model and its detailed computation steps and (ii) second, it runs a loop repeatedly for training, thus gradually improving its model parameters.\n",
    "## Managing Graphs\n",
    "page 234<br>\n",
    "Every node that is created will automatically be added to the default graph."
   ]
  },
  {
   "cell_type": "code",
   "execution_count": 6,
   "metadata": {},
   "outputs": [
    {
     "data": {
      "text/plain": [
       "True"
      ]
     },
     "execution_count": 6,
     "metadata": {},
     "output_type": "execute_result"
    }
   ],
   "source": [
    "x1 = tf.Variable(1)                # declare the variable x1\n",
    "x1.graph is tf.get_default_graph() # check if it is part of the default graph: yes, it is"
   ]
  },
  {
   "cell_type": "markdown",
   "metadata": {},
   "source": [
    "There is nothing wrong with the default graph. But if one wants to add a variable (now \"x2\") to another graph, this can be done by temporarily turning that other graph into the default graph."
   ]
  },
  {
   "cell_type": "code",
   "execution_count": 7,
   "metadata": {},
   "outputs": [
    {
     "name": "stdout",
     "output_type": "stream",
     "text": [
      "True\n",
      "False\n"
     ]
    }
   ],
   "source": [
    "graph = tf.Graph()                        # new graph\n",
    "with graph.as_default():                  # the new graph is the default graph inside this \"with\" environment\n",
    "    x2 = tf.Variable(2)                   # add the variable \"x2\" and end the environment\n",
    "print(x2.graph is graph)                  # check if \"x2\" is part of \"graph\": yes, it is\n",
    "print(x2.graph is tf.get_default_graph()) # check if \"x2\" is part of the default graph: no, it is not"
   ]
  },
  {
   "cell_type": "markdown",
   "metadata": {},
   "source": [
    "**Suggestion or Tip**<br>\n",
    "In Jupyter (or in a Python shell), it is common to run the same commands more than once while you are experimenting. As a result, you may end up with a default graph containing many duplicate nodes. One solution is to restart the Jupyter kernel (or the Python shell), but a more convenient solution is to just reset the default graph by running \"tf.reset_default_graph()\".\n",
    "## Lifecycle of a Node Value\n",
    "page 235<br>\n",
    "TensorFlow automatically checks on which nodes another node depends. Then, these nodes will be run before the dependent node. This is illustrated by the following code."
   ]
  },
  {
   "cell_type": "code",
   "execution_count": 8,
   "metadata": {},
   "outputs": [
    {
     "name": "stdout",
     "output_type": "stream",
     "text": [
      "10\n",
      "15\n"
     ]
    }
   ],
   "source": [
    "w = tf.constant(3)         # node with a constant value\n",
    "x = w + 2                  # another node, dependent on \"w\"\n",
    "y = x + 5                  # another node, dependent on \"x\"\n",
    "z = x * 3                  # another node, also dependent on \"x\"\n",
    "with tf.Session() as sess: # run everything inside a \"with\" environment\n",
    "    print(y.eval())        # 10\n",
    "    print(z.eval())        # 15"
   ]
  },
  {
   "cell_type": "markdown",
   "metadata": {},
   "source": [
    "The above outputs are as expected: the dependent nodes have been run first. Otherwise, the results would be different. **Importantly**, TensorFlow does not reuse the \"old\" results for \"w\" and \"x\", which has already been calculated for \"y\". Instead, it evaluates \"w\" and \"x\" twice. All node values are dropped when the graph has been run. Only variables (and partially also queues and readers, see Chapter 12) are maintained beyond the end of the graph. A variable is \"born\" when it is initialized and \"dies\" when its session is closed.<br>\n",
    "Evaluating \"w\" and \"x\" twice is inefficient. To avoid such inefficiency, one can calculate \"y\" and \"z\" in one go, i.e., with one and the same graph as follows."
   ]
  },
  {
   "cell_type": "code",
   "execution_count": 9,
   "metadata": {},
   "outputs": [
    {
     "name": "stdout",
     "output_type": "stream",
     "text": [
      "10\n",
      "15\n"
     ]
    }
   ],
   "source": [
    "with tf.Session() as sess:\n",
    "    y_val, z_val = sess.run([y, z])\n",
    "    print(y_val) # 10\n",
    "    print(z_val) # 15"
   ]
  },
  {
   "cell_type": "markdown",
   "metadata": {},
   "source": [
    "**Warning / caution**<br>\n",
    "In single-process TensorFlow, multiple sessions do not share any state, even if they reuse the same graph (each session would have its own copy of every variable). In distributed TensorFlow (see Chapter 12), variable state is sotred on the servers, not in the sessions, so multiple sessions can share the same variables.\n",
    "## Linear Regression with TensorFlow\n",
    "page 235<br>\n",
    "TensorFlow operations - or \"ops\" for short - can handle (almost) any number of inputs and outputs. It handles these inputs and outputs in the form of **tensors** (hence the name \"TensorFlow\"), i.e., multidimensional arrays. They are very similar to NumPy arrays or NumPy ndarrays, e.g., they also have a type and shape. They may carry floats or strings. Operations on the tensors like taking the transpose or multiplying them are rather intuitive. For a specific example, there is a link to TensorFlow's API documentation for \"tf.matmul\" at the top of this notebook. (There is also a link to the documentation on NumPy's \"np.c_\" operation.)<br><br>\n",
    "Here, we use all this to reiterate the optimization of the California Housing dataset via the Normal Equation in TensorFlow."
   ]
  },
  {
   "cell_type": "code",
   "execution_count": 10,
   "metadata": {},
   "outputs": [
    {
     "name": "stdout",
     "output_type": "stream",
     "text": [
      "[[-3.7465141e+01]\n",
      " [ 4.3573415e-01]\n",
      " [ 9.3382923e-03]\n",
      " [-1.0662201e-01]\n",
      " [ 6.4410698e-01]\n",
      " [-4.2513184e-06]\n",
      " [-3.7732250e-03]\n",
      " [-4.2664889e-01]\n",
      " [-4.4051403e-01]]\n"
     ]
    }
   ],
   "source": [
    "# relevant imports\n",
    "import numpy as np\n",
    "from sklearn.datasets import fetch_california_housing\n",
    "# get the data, its shape, and add a bias input feature x_0 = 1\n",
    "housing = fetch_california_housing()\n",
    "m, n = housing.data.shape\n",
    "housing_data_plus_bias = np.c_[np.ones((m, 1)), housing.data]\n",
    "# declare the features as variable \"x\" and the target as variable \"y\"\n",
    "X = tf.constant(housing_data_plus_bias, dtype=tf.float32, name=\"X\")\n",
    "y = tf.constant(housing.target.reshape(-1, 1), dtype=tf.float32, name=\"y\")\n",
    "# build the transpose of the data and use it to deduce theta via the normal equation, see Equation 4-4 on page 108\n",
    "XT = tf.transpose(X)\n",
    "theta = tf.matmul(tf.matmul(tf.matrix_inverse(tf.matmul(XT, X)), XT), y)\n",
    "# until now, we have just made declarations that are necessary for the tensorflow graph ...\n",
    "# ... now, we run the graph and print the resulting values for theta\n",
    "with tf.Session() as sess:\n",
    "    theta_value = theta.eval()\n",
    "    print(theta_value)"
   ]
  },
  {
   "cell_type": "markdown",
   "metadata": {},
   "source": [
    "## Implementing Gradient Descent\n",
    "page 237<br>\n",
    "Similar to our routine in Chapter 4, we now move beyond the Normal Equation to actual machine learning. First, we manually implement Batch Gradient Descent in TensorFlow. Then, we use TensorFlow's autodiff feature to compute the gradients automatically. And finally, we will use some of TensorFlow's out-of-the-box optimizers.<br><br>\n",
    "**Warning / caution**<br>\n",
    "When using Gradient Descent, remember that it is important to first normalize the input feature vectors, or else training may be much slower. You can do this using TensorFlow, NumPy, Scikit-Learn's StandardScaler, or any other solution you prefer. The following code assumes that this normalization has already been done.\n",
    "### Manually Computing the Gradients\n",
    "page 237<br>\n",
    "Taking into account the above warning, we first normalize the features."
   ]
  },
  {
   "cell_type": "code",
   "execution_count": 11,
   "metadata": {},
   "outputs": [
    {
     "data": {
      "text/plain": [
       "(20640, 9)"
      ]
     },
     "execution_count": 11,
     "metadata": {},
     "output_type": "execute_result"
    }
   ],
   "source": [
    "# import StandardScaler from Scikit-Learn and establish an instance of it\n",
    "from sklearn.preprocessing import StandardScaler\n",
    "scaler = StandardScaler()\n",
    "# normalize the data and then add a bias term x_0 = 1\n",
    "scaled_housing_data = scaler.fit_transform(housing.data)\n",
    "scaled_housing_data_plus_bias = np.c_[np.ones((m, 1)), scaled_housing_data]\n",
    "scaled_housing_data_plus_bias.shape"
   ]
  },
  {
   "cell_type": "markdown",
   "metadata": {},
   "source": [
    "The following procedure should seem familiar: we have already coded Batch Gradient Descent in Chapter 4. Now, we do it with TensorFlow. Where necessary, functions (e.g., \"tf.random_uniform()\" or \"tf.assign()\") can be looked up on the TensorFlow documentation linked above."
   ]
  },
  {
   "cell_type": "code",
   "execution_count": 12,
   "metadata": {},
   "outputs": [
    {
     "name": "stdout",
     "output_type": "stream",
     "text": [
      "Epoch 0 MSE = 4.280337\n",
      "Epoch 100 MSE = 0.58247656\n",
      "Epoch 200 MSE = 0.53001195\n",
      "Epoch 300 MSE = 0.5278852\n",
      "Epoch 400 MSE = 0.52692956\n",
      "Epoch 500 MSE = 0.5262425\n",
      "Epoch 600 MSE = 0.52574044\n",
      "Epoch 700 MSE = 0.52537286\n",
      "Epoch 800 MSE = 0.52510303\n",
      "Epoch 900 MSE = 0.5249041\n",
      "[[ 2.0685523e+00]\n",
      " [ 8.3150929e-01]\n",
      " [ 1.2610334e-01]\n",
      " [-2.5601009e-01]\n",
      " [ 2.9207098e-01]\n",
      " [-1.8531521e-03]\n",
      " [-3.9988447e-02]\n",
      " [-8.4451884e-01]\n",
      " [-8.1476104e-01]]\n"
     ]
    }
   ],
   "source": [
    "# learning schedule\n",
    "n_epochs = 1000\n",
    "learning_rate = 0.01\n",
    "# declare variables and nodes\n",
    "X = tf.constant(scaled_housing_data_plus_bias, dtype=tf.float32, name=\"X\")  # features\n",
    "y = tf.constant(housing.target.reshape(-1, 1), dtype=tf.float32, name=\"y\")  # target values\n",
    "theta = tf.Variable(tf.random_uniform([n + 1, 1], -1.0, 1.0), name=\"theta\") # initialize random bias and weights\n",
    "y_pred = tf.matmul(X, theta, name=\"predictions\")                            # make predictions\n",
    "error = y_pred - y                                                          # deviations from target values\n",
    "mse = tf.reduce_mean(tf.square(error), name=\"mse\")                          # cost function\n",
    "gradients = 2/m * tf.matmul(tf.transpose(X), error)                         # gradient on the cost function; see ...\n",
    "                                                                            # ... Equation 4-6 on page 115 and ...\n",
    "                                                                            # ... own .ipynb on Chapter 4\n",
    "training_op = tf.assign(theta, theta - learning_rate * gradients)           # learning step: update theta\n",
    "# build global initializer (initializes all the variables)\n",
    "init = tf.global_variables_initializer()\n",
    "# run it!\n",
    "with tf.Session() as sess:\n",
    "    sess.run(init)            # run the initializer\n",
    "    for epoch in range(n_epochs):\n",
    "        if epoch % 100 == 0:  # print the current epoch and mean squared error every 100 steps\n",
    "            print(\"Epoch\", epoch, \"MSE =\", mse.eval())\n",
    "        sess.run(training_op) # run the learning step\n",
    "    best_theta = theta.eval() # assign the final theta to a variable outside tensorflow\n",
    "# print the result\n",
    "print(best_theta)  "
   ]
  },
  {
   "cell_type": "markdown",
   "metadata": {},
   "source": [
    "Done! Simple as that.\n",
    "### Using autodiff\n",
    "page 238<br>\n",
    "Above, we have used the analytic formula given in Equation 4-6 of the book (see also code on Chapter 4) to express the gradient in a compact way. Usually, such a hands-on analytic approach should work, at least in principle. But in reality, it will not always be practical. For example the gradient (w.r.t. \"a\" and \"b\") of the following function ..."
   ]
  },
  {
   "cell_type": "code",
   "execution_count": 13,
   "metadata": {},
   "outputs": [
    {
     "name": "stdout",
     "output_type": "stream",
     "text": [
      "0.0\n",
      "0.0\n",
      "2.898088625641223\n",
      "-0.19869949020717656\n"
     ]
    }
   ],
   "source": [
    "def my_func(a, b):\n",
    "    z = 0\n",
    "    for i in range(100):\n",
    "        z = a * np.cos(z + i) + z * np.sin(b - i)\n",
    "    return z\n",
    "print(my_func(0, 0))\n",
    "print(my_func(0, 1))\n",
    "print(my_func(1, 0))\n",
    "print(my_func(1, 1))"
   ]
  },
  {
   "cell_type": "markdown",
   "metadata": {},
   "source": [
    "... is very difficult to calculate analytically. (Hint given in the book: \"don't even try\".)<br>\n",
    "Fortunately, we can simply use TensorFlow's \"autodiff\" feature. Apart from \"reset_graph\" and \"gradients\", the following code is exactly the same as the one for Batch Gradient Descent above."
   ]
  },
  {
   "cell_type": "code",
   "execution_count": 14,
   "metadata": {},
   "outputs": [
    {
     "name": "stdout",
     "output_type": "stream",
     "text": [
      "Epoch 0 MSE = 12.408029\n",
      "Epoch 100 MSE = 0.7551966\n",
      "Epoch 200 MSE = 0.5420869\n",
      "Epoch 300 MSE = 0.53316975\n",
      "Epoch 400 MSE = 0.53053766\n",
      "Epoch 500 MSE = 0.52879685\n",
      "Epoch 600 MSE = 0.52754843\n",
      "Epoch 700 MSE = 0.52664953\n",
      "Epoch 800 MSE = 0.52600086\n",
      "Epoch 900 MSE = 0.5255332\n",
      "[[ 2.0685525e+00]\n",
      " [ 8.1063598e-01]\n",
      " [ 1.2685777e-01]\n",
      " [-2.0784083e-01]\n",
      " [ 2.4839847e-01]\n",
      " [-1.3083883e-03]\n",
      " [-3.9607048e-02]\n",
      " [-8.5861266e-01]\n",
      " [-8.2600272e-01]]\n"
     ]
    }
   ],
   "source": [
    "# function taken from Github link above\n",
    "def reset_graph(seed=42):\n",
    "    tf.reset_default_graph()\n",
    "    tf.set_random_seed(seed)\n",
    "    np.random.seed(seed)\n",
    "# resetting the graph\n",
    "reset_graph()\n",
    "# code as for Batch Gradient Descent above\n",
    "n_epochs = 1000\n",
    "learning_rate = 0.01\n",
    "X = tf.constant(scaled_housing_data_plus_bias, dtype=tf.float32, name=\"X\")\n",
    "y = tf.constant(housing.target.reshape(-1, 1), dtype=tf.float32, name=\"y\")\n",
    "theta = tf.Variable(tf.random_uniform([n + 1, 1], -1.0, 1.0), name=\"theta\")\n",
    "y_pred = tf.matmul(X, theta, name=\"predictions\")\n",
    "error = y_pred - y\n",
    "mse = tf.reduce_mean(tf.square(error), name=\"mse\")\n",
    "# updated gradient node\n",
    "gradients = tf.gradients(mse, [theta])[0]\n",
    "# code as for Batch Gradient Descent above\n",
    "training_op = tf.assign(theta, theta - learning_rate * gradients)\n",
    "init = tf.global_variables_initializer()\n",
    "with tf.Session() as sess:\n",
    "    sess.run(init)\n",
    "    for epoch in range(n_epochs):\n",
    "        if epoch % 100 == 0:\n",
    "            print(\"Epoch\", epoch, \"MSE =\", mse.eval())\n",
    "        sess.run(training_op)\n",
    "    best_theta = theta.eval()\n",
    "print(best_theta)"
   ]
  },
  {
   "cell_type": "markdown",
   "metadata": {},
   "source": [
    "While not necessary for Batch Gradient Descent, the autodiff feature is going to be very useful so one more comment on it might be appropriate: \"tf.gradients()\" receives an operation (in this case \"mse\" as defined in the same block) as well as a list of variables (in this case just \"theta\") and then it calculated the gradient of that operation w.r.t. every variable.<br><br>\n",
    "With Table 9-2, the surrounding text, and Appendix D, the book provides some more details on \"main solutions to compute gradients automatically\". In case this should ever become interesting (e.g., for backpropagation), consulting the book and/or the wikipedia page on *automatic differentiation* (linked at the top) might be a good starting point for digging further into the topic. Here, it is considered sufficient to note that TensorFlow uses \"Reverse-mode autodiff\" which computes all gradients in just $n_{\\rm outputs}+1$ graph traversals. In our example, $n_{\\rm outputs}=1$, since \"mse\" is a scalar.\n",
    "### Using an Optimizer\n",
    "page 239<br>\n",
    "As has just been demonstrated, TensorFlow can compute the gradient efficiently. But there is even more in the box: instead of calculating the gradient, one may use a \"GradientDescentOptimizer\" for training. The below code is again the same as above but replaces \"gradients = ...\" and \"training_op = ...\" with other optimizing commands."
   ]
  },
  {
   "cell_type": "code",
   "execution_count": 15,
   "metadata": {},
   "outputs": [
    {
     "name": "stdout",
     "output_type": "stream",
     "text": [
      "Epoch 0 MSE = 12.408029\n",
      "Epoch 100 MSE = 0.7551966\n",
      "Epoch 200 MSE = 0.5420869\n",
      "Epoch 300 MSE = 0.53316975\n",
      "Epoch 400 MSE = 0.53053766\n",
      "Epoch 500 MSE = 0.52879685\n",
      "Epoch 600 MSE = 0.52754843\n",
      "Epoch 700 MSE = 0.52664953\n",
      "Epoch 800 MSE = 0.52600086\n",
      "Epoch 900 MSE = 0.5255332\n",
      "[[ 2.0685525e+00]\n",
      " [ 8.1063598e-01]\n",
      " [ 1.2685777e-01]\n",
      " [-2.0784083e-01]\n",
      " [ 2.4839847e-01]\n",
      " [-1.3083883e-03]\n",
      " [-3.9607048e-02]\n",
      " [-8.5861266e-01]\n",
      " [-8.2600272e-01]]\n"
     ]
    }
   ],
   "source": [
    "# code is the same as above\n",
    "reset_graph()\n",
    "n_epochs = 1000\n",
    "learning_rate = 0.01\n",
    "X = tf.constant(scaled_housing_data_plus_bias, dtype=tf.float32, name=\"X\")\n",
    "y = tf.constant(housing.target.reshape(-1, 1), dtype=tf.float32, name=\"y\")\n",
    "theta = tf.Variable(tf.random_uniform([n + 1, 1], -1.0, 1.0), name=\"theta\")\n",
    "y_pred = tf.matmul(X, theta, name=\"predictions\")\n",
    "error = y_pred - y\n",
    "mse = tf.reduce_mean(tf.square(error), name=\"mse\")\n",
    "# replace \"gradients\" and \"training_op\"\n",
    "optimizer = tf.train.GradientDescentOptimizer(learning_rate=learning_rate)\n",
    "training_op = optimizer.minimize(mse)\n",
    "# code is the same as above\n",
    "init = tf.global_variables_initializer()\n",
    "with tf.Session() as sess:\n",
    "    sess.run(init)\n",
    "    for epoch in range(n_epochs):\n",
    "        if epoch % 100 == 0:\n",
    "            print(\"Epoch\", epoch, \"MSE =\", mse.eval())\n",
    "        sess.run(training_op)\n",
    "    best_theta = theta.eval()\n",
    "print(best_theta)"
   ]
  },
  {
   "cell_type": "markdown",
   "metadata": {},
   "source": [
    "Works wonderfully. There are different optimizers available. Just to show off, the book also suggests the following routine, using a \"MomentumOptimizer\" instead of a \"GradientDescentOptimizer\"."
   ]
  },
  {
   "cell_type": "code",
   "execution_count": 16,
   "metadata": {},
   "outputs": [
    {
     "name": "stdout",
     "output_type": "stream",
     "text": [
      "Epoch 0 MSE = 12.408029\n",
      "Epoch 100 MSE = 0.52520055\n",
      "Epoch 200 MSE = 0.52433306\n",
      "Epoch 300 MSE = 0.524321\n",
      "Epoch 400 MSE = 0.52432114\n",
      "Epoch 500 MSE = 0.5243208\n",
      "Epoch 600 MSE = 0.52432054\n",
      "Epoch 700 MSE = 0.52432054\n",
      "Epoch 800 MSE = 0.5243205\n",
      "Epoch 900 MSE = 0.5243205\n",
      "[[ 2.068558  ]\n",
      " [ 0.8296182 ]\n",
      " [ 0.11875144]\n",
      " [-0.26552498]\n",
      " [ 0.3056947 ]\n",
      " [-0.00450307]\n",
      " [-0.03932622]\n",
      " [-0.89988816]\n",
      " [-0.8705434 ]]\n"
     ]
    }
   ],
   "source": [
    "# code is the same as above\n",
    "reset_graph()\n",
    "n_epochs = 1000\n",
    "learning_rate = 0.01\n",
    "X = tf.constant(scaled_housing_data_plus_bias, dtype=tf.float32, name=\"X\")\n",
    "y = tf.constant(housing.target.reshape(-1, 1), dtype=tf.float32, name=\"y\")\n",
    "theta = tf.Variable(tf.random_uniform([n + 1, 1], -1.0, 1.0), name=\"theta\")\n",
    "y_pred = tf.matmul(X, theta, name=\"predictions\")\n",
    "error = y_pred - y\n",
    "mse = tf.reduce_mean(tf.square(error), name=\"mse\")\n",
    "# replace \"gradients\" and \"training_op\"\n",
    "optimizer = tf.train.MomentumOptimizer(learning_rate=learning_rate, momentum=0.9)\n",
    "# code is the same as above\n",
    "training_op = optimizer.minimize(mse)\n",
    "init = tf.global_variables_initializer()\n",
    "with tf.Session() as sess:\n",
    "    sess.run(init)\n",
    "    for epoch in range(n_epochs):\n",
    "        if epoch % 100 == 0:\n",
    "            print(\"Epoch\", epoch, \"MSE =\", mse.eval())\n",
    "        sess.run(training_op)\n",
    "    best_theta = theta.eval()\n",
    "print(best_theta)"
   ]
  },
  {
   "cell_type": "markdown",
   "metadata": {},
   "source": [
    "This shall be enough. Let's move forward to the next subject.\n",
    "## Feeding Data to the Training Algorithm\n",
    "page 239<br>\n",
    "When we want to use Mini-batch Gradient Descent instead of (full) Batch Gradient Descent, we need a way to feed the mini-batches to the algorithm. The following simple code illuminates how this can be done."
   ]
  },
  {
   "cell_type": "code",
   "execution_count": 17,
   "metadata": {},
   "outputs": [
    {
     "name": "stdout",
     "output_type": "stream",
     "text": [
      "[[6. 7. 8.]]\n",
      "[[ 9. 10. 11.]\n",
      " [12. 13. 14.]]\n"
     ]
    }
   ],
   "source": [
    "# reset the graph\n",
    "reset_graph()\n",
    "# define a placeholder node and define its output tensor's data type (necessary) and its shape (not necessary)\n",
    "# here, we use a matrix with any number of rows (specified as \"None\") and 3 columns\n",
    "A = tf.placeholder(tf.float32, shape=(None, 3))\n",
    "B = A + 5\n",
    "# open a session and run it\n",
    "with tf.Session() as sess:\n",
    "    # evaluate B by feeding the 1x3 matrix [[1, 2, 3]] to A\n",
    "    B_val_1 = B.eval(feed_dict={A: [[1, 2, 3]]})\n",
    "    # evaluate B by feeding the 2x3 matrix [[4, 5, 6], [ 7, 8, 9]] to A\n",
    "    B_val_2 = B.eval(feed_dict={A: [[4, 5, 6], [ 7, 8, 9]]})\n",
    "# print the results\n",
    "print(B_val_1)\n",
    "print(B_val_2)"
   ]
  },
  {
   "cell_type": "markdown",
   "metadata": {},
   "source": [
    "**General note**<br>\n",
    "You can actually feed the output of *any* operations, not just placeholders. In this case TensorFlow does not try to evalutate these operations; is uses the values you feed it.<br><br>\n",
    "For **Mini-batch Gradient Descent**, we only need to tweak our above code for (full) Batch Gradient Descent slightly. Specifically, we take the code with a \"GradientDescentOptimizer\" and implement the following changes:\n",
    "- replace variables X and y by placeholderes X and y,\n",
    "- specify the batch size and infer the number of mini-batches,\n",
    "- add a function that returns mini-batches of features and the according labels,\n",
    "- loop through the number of mini-batches, and feed mini-batches to the placeholders while doing so."
   ]
  },
  {
   "cell_type": "code",
   "execution_count": 18,
   "metadata": {},
   "outputs": [
    {
     "name": "stdout",
     "output_type": "stream",
     "text": [
      "[[ 2.0714476 ]\n",
      " [ 0.8462012 ]\n",
      " [ 0.11558535]\n",
      " [-0.26835832]\n",
      " [ 0.32982782]\n",
      " [ 0.00608358]\n",
      " [ 0.07052915]\n",
      " [-0.87988573]\n",
      " [-0.8634251 ]]\n"
     ]
    }
   ],
   "source": [
    "# code is the same as above\n",
    "reset_graph()\n",
    "n_epochs = 1000\n",
    "learning_rate = 0.01\n",
    "# replace previous definitions for X (features) and y (target values) by placeholders\n",
    "X = tf.placeholder(tf.float32, shape=(None, n + 1), name=\"x\")\n",
    "y = tf.placeholder(tf.float32, shape=(None, 1), name=\"y\")\n",
    "# specify the batch size and infer the number of mini-batches\n",
    "batch_size = 100\n",
    "n_batches = int(np.ceil(m / batch_size))\n",
    "# code is the same as above\n",
    "theta = tf.Variable(tf.random_uniform([n + 1, 1], -1.0, 1.0), name=\"theta\")\n",
    "y_pred = tf.matmul(X, theta, name=\"predictions\")\n",
    "error = y_pred - y\n",
    "mse = tf.reduce_mean(tf.square(error), name=\"mse\")\n",
    "optimizer = tf.train.GradientDescentOptimizer(learning_rate=learning_rate)\n",
    "training_op = optimizer.minimize(mse)\n",
    "init = tf.global_variables_initializer()\n",
    "# add a function that returns mini-batches of features and the according labels (taken from the Github link above)\n",
    "def fetch_batch(epoch, batch_index, batch_size):\n",
    "    np.random.seed(epoch * n_batches + batch_index)  # random seed should be different for all mini-batches\n",
    "    indices = np.random.randint(m, size=batch_size)  # returns batch_size (100) random integers between 0 and m-1\n",
    "    X_batch = scaled_housing_data_plus_bias[indices] # 100 random features ...\n",
    "    y_batch = housing.target.reshape(-1, 1)[indices] # ... and their corresponding target values\n",
    "    return X_batch, y_batch\n",
    "# code is the same as above apart from the for-loop (which now includes \"sess.run\") replacing the if-loop\n",
    "with tf.Session() as sess:\n",
    "    sess.run(init)\n",
    "    for epoch in range(n_epochs):\n",
    "        # loop through the number of mini-batches\n",
    "        for batch_index in range(n_batches):\n",
    "            X_batch, y_batch = fetch_batch(epoch, batch_index, batch_size) # get a mini-batch, ...\n",
    "            sess.run(training_op, feed_dict={X: X_batch, y: y_batch})      # ... feed it to the algorithm, and run it\n",
    "        # code is the same as above\n",
    "    best_theta = theta.eval()\n",
    "print(best_theta)"
   ]
  },
  {
   "cell_type": "markdown",
   "metadata": {},
   "source": [
    "**General note**<br>\n",
    "We don't need to pass the value of X and y when avalutating theta since it does not depend on either of them.\n",
    "## Saving and Restoring Models\n",
    "page 241<br>\n",
    "Once a model is trained, the parameters should be saved. But also during training, one should regularly save them so they can be restored in case the program crashes. TensorFlow makes it quite easy to save the model:\n",
    "- just create a \"tf.train.Saver()\" node at the end of construction (but before initialization) and\n",
    "- run this node during the execution phase whenever the model shall be saved, passing it the relevant session and a path.\n",
    "\n",
    "The below demonstration uses the code with TensorFlow's \"GradientDescentOptimizer\" from further above."
   ]
  },
  {
   "cell_type": "code",
   "execution_count": 19,
   "metadata": {},
   "outputs": [
    {
     "name": "stdout",
     "output_type": "stream",
     "text": [
      "Epoch 0 MSE = 12.408029\n",
      "Epoch 100 MSE = 0.7551966\n",
      "Epoch 200 MSE = 0.5420869\n",
      "Epoch 300 MSE = 0.53316975\n",
      "Epoch 400 MSE = 0.53053766\n",
      "Epoch 500 MSE = 0.52879685\n",
      "Epoch 600 MSE = 0.52754843\n",
      "Epoch 700 MSE = 0.52664953\n",
      "Epoch 800 MSE = 0.52600086\n",
      "Epoch 900 MSE = 0.5255332\n",
      "[[ 2.0685525e+00]\n",
      " [ 8.1063598e-01]\n",
      " [ 1.2685777e-01]\n",
      " [-2.0784083e-01]\n",
      " [ 2.4839847e-01]\n",
      " [-1.3083883e-03]\n",
      " [-3.9607048e-02]\n",
      " [-8.5861266e-01]\n",
      " [-8.2600272e-01]]\n"
     ]
    }
   ],
   "source": [
    "# code is the same as above\n",
    "reset_graph()\n",
    "n_epochs = 1000\n",
    "learning_rate = 0.01\n",
    "X = tf.constant(scaled_housing_data_plus_bias, dtype=tf.float32, name=\"X\")\n",
    "y = tf.constant(housing.target.reshape(-1, 1), dtype=tf.float32, name=\"y\")\n",
    "theta = tf.Variable(tf.random_uniform([n + 1, 1], -1.0, 1.0), name=\"theta\")\n",
    "y_pred = tf.matmul(X, theta, name=\"predictions\")\n",
    "error = y_pred - y\n",
    "mse = tf.reduce_mean(tf.square(error), name=\"mse\")\n",
    "optimizer = tf.train.GradientDescentOptimizer(learning_rate=learning_rate)\n",
    "training_op = optimizer.minimize(mse)\n",
    "init = tf.global_variables_initializer()\n",
    "# construction of the graph is almost complete: finally, create a \"saver\" node;   step 1/3\n",
    "saver = tf.train.Saver()\n",
    "# code is the same as above\n",
    "with tf.Session() as sess:\n",
    "    sess.run(init)\n",
    "    for epoch in range(n_epochs):\n",
    "        # save the model every 100 steps (code adopted from further above);       step 2/3\n",
    "        if epoch % 100 == 0:\n",
    "            save_path = saver.save(sess, \"/tmp/my_model.ckpt\")\n",
    "        # code is the same as above\n",
    "            print(\"Epoch\", epoch, \"MSE =\", mse.eval())\n",
    "        sess.run(training_op)\n",
    "    best_theta = theta.eval()\n",
    "    # save the final model still within the live session                          step 3/3\n",
    "    save_path = saver.save(sess, \"/tmp/my_model_final.ckpt\")\n",
    "    # code is the same as above\n",
    "print(best_theta)"
   ]
  },
  {
   "cell_type": "markdown",
   "metadata": {},
   "source": [
    "That was easy. And restoring a model is similarly easy:\n",
    "- build the model (not necessary here as we still have the graph defined above) and then\n",
    "- restore the variables **instead** of initializing them.\n",
    "\n",
    "In the below code, we attribute the name \"best_theta_restored\" to the restored variable \"theta\" so we can print it outside TensorFlow. NumPy's \"allclose\" function checks whether all entries of two variables are equal up to a small tolerance (\"all\" entries should be very \"close\")."
   ]
  },
  {
   "cell_type": "code",
   "execution_count": 20,
   "metadata": {},
   "outputs": [
    {
     "name": "stdout",
     "output_type": "stream",
     "text": [
      "INFO:tensorflow:Restoring parameters from /tmp/my_model_final.ckpt\n",
      "[[ 2.0685525e+00]\n",
      " [ 8.1063598e-01]\n",
      " [ 1.2685777e-01]\n",
      " [-2.0784083e-01]\n",
      " [ 2.4839847e-01]\n",
      " [-1.3083883e-03]\n",
      " [-3.9607048e-02]\n",
      " [-8.5861266e-01]\n",
      " [-8.2600272e-01]]\n"
     ]
    },
    {
     "data": {
      "text/plain": [
       "True"
      ]
     },
     "execution_count": 20,
     "metadata": {},
     "output_type": "execute_result"
    }
   ],
   "source": [
    "with tf.Session() as sess:\n",
    "    saver.restore(sess, \"/tmp/my_model_final.ckpt\")\n",
    "    best_theta_restored = theta.eval()\n",
    "print(best_theta_restored)\n",
    "np.allclose(best_theta, best_theta_restored)"
   ]
  },
  {
   "cell_type": "markdown",
   "metadata": {},
   "source": [
    "TensorFlow's \"tf.train.Saver()\" allows the user to specify which variables to save / restore and under what name. In the following example, only \"theta\" can be saved / restored, namely under the name \"weights\". In this context, it seems important to note that a variable's name specified within \"tf.train.Saver()\" is relevant for TensorFlow's namespace, but not necessarily for Python's namespace. See the discussion on https://stackoverflow.com/questions/33648167/why-do-we-name-variables-in-tensorflow for details."
   ]
  },
  {
   "cell_type": "code",
   "execution_count": 21,
   "metadata": {},
   "outputs": [
    {
     "name": "stdout",
     "output_type": "stream",
     "text": [
      "INFO:tensorflow:Restoring parameters from /tmp/my_model_weights.ckpt\n"
     ]
    },
    {
     "data": {
      "text/plain": [
       "True"
      ]
     },
     "execution_count": 21,
     "metadata": {},
     "output_type": "execute_result"
    }
   ],
   "source": [
    "# code is the same as above\n",
    "reset_graph()\n",
    "n_epochs = 1000\n",
    "learning_rate = 0.01\n",
    "X = tf.constant(scaled_housing_data_plus_bias, dtype=tf.float32, name=\"X\")\n",
    "y = tf.constant(housing.target.reshape(-1, 1), dtype=tf.float32, name=\"y\")\n",
    "theta = tf.Variable(tf.random_uniform([n + 1, 1], -1.0, 1.0), name=\"theta\")\n",
    "y_pred = tf.matmul(X, theta, name=\"predictions\")\n",
    "error = y_pred - y\n",
    "mse = tf.reduce_mean(tf.square(error), name=\"mse\")\n",
    "optimizer = tf.train.GradientDescentOptimizer(learning_rate=learning_rate)\n",
    "training_op = optimizer.minimize(mse)\n",
    "init = tf.global_variables_initializer()\n",
    "# save only theta and save it under the name \"weights\"\n",
    "saver = tf.train.Saver({\"weights\": theta})\n",
    "# code is the same as above\n",
    "with tf.Session() as sess:\n",
    "    sess.run(init)\n",
    "    for epoch in range(n_epochs):\n",
    "        # skip saving during training (otherwise, the code continues as above)\n",
    "        sess.run(training_op)\n",
    "    best_theta = theta.eval()\n",
    "    save_path = saver.save(sess, \"/tmp/my_model_weights.ckpt\")\n",
    "# skip printing \"best_theta\", restore it from the checkpoint, and check if restoration was successful\n",
    "with tf.Session() as sess:\n",
    "    saver.restore(sess, \"/tmp/my_model_weights.ckpt\")\n",
    "    best_theta_restored = theta.eval()\n",
    "np.allclose(best_theta, best_theta_restored)"
   ]
  },
  {
   "cell_type": "markdown",
   "metadata": {},
   "source": [
    "By default, TensorFlow's \"tf.train.Saver()\" also saves the graph's structure under a similarly named file with the extension \".meta\" at the end. So we can reset the graph completely and then reload it instead of building it once more from scratch. That's very handy! **Once the graph has been rebuilt, one can also restore its state.** This is demonstrated below."
   ]
  },
  {
   "cell_type": "code",
   "execution_count": 22,
   "metadata": {},
   "outputs": [
    {
     "name": "stdout",
     "output_type": "stream",
     "text": [
      "INFO:tensorflow:Restoring parameters from /tmp/my_model_final.ckpt\n"
     ]
    },
    {
     "data": {
      "text/plain": [
       "True"
      ]
     },
     "execution_count": 22,
     "metadata": {},
     "output_type": "execute_result"
    }
   ],
   "source": [
    "# entire code taken from Github link above\n",
    "reset_graph()                                                       # notice that this resets the graph\n",
    "saver = tf.train.import_meta_graph(\"/tmp/my_model_final.ckpt.meta\") # load the graph structure from checkpoint\n",
    "theta = tf.get_default_graph().get_tensor_by_name(\"theta:0\")        # get the graph and infer \"theta\" from it\n",
    "with tf.Session() as sess:                                          # run a session\n",
    "    saver.restore(sess, \"/tmp/my_model_final.ckpt\")                 # restore the graph's state\n",
    "    best_theta_restored = theta.eval()                              # evaluate theta\n",
    "np.allclose(best_theta, best_theta_restored)                        # check if it (almost) equals the original value"
   ]
  },
  {
   "cell_type": "markdown",
   "metadata": {},
   "source": [
    "Very nice! For the moment, this shall be enough on \"saving and restoring models\".\n",
    "## Visualizing the Graph and Training Curves Using TensorBoard\n",
    "page 242<br>\n",
    "Until now, we have been relying on the \"print()\" function to get an idea of the training progress. There is a better way: using *TensorBoard*! Feeding it some training statistics, TensorBoard will produce good-looking, interactive visualizations of training metrics (e.g., learning curves) in the web browser. If it has access to the graph used by TensorFlow, TensorBoard will also provide an interactive visualization of that. This last feature can be particularly useful to identify misconceptions in the model.<br><br>\n",
    "An important step is to write the graph's definition and some training statistics into a log directory that TensorBoard can read from. A different log directory should be used for different runs because otherwise, TensorBoard will read and display all stats and graphs at once. Such visualizations might be very cluttered. A simple solution for distinguishing different runs is to include a time stamp in the log directory.<br><br>\n",
    "In the code below, we implement all the necessary steps to visualize a learning metric (here: the mean squared error) and the model's graph within TensorBoard. Specifically, we\n",
    "1. create a directory with a time stamp,\n",
    "2. build nodes for (i) the summary and for (ii) saving that summary and the graph at the end of the construction phase,\n",
    "3. save the summary and the graph every few epochs, and\n",
    "4. close the \"file_writer\" at the end of the run."
   ]
  },
  {
   "cell_type": "code",
   "execution_count": 23,
   "metadata": {},
   "outputs": [
    {
     "name": "stdout",
     "output_type": "stream",
     "text": [
      "tf_logs/9_TF/run-20190919132004/\n",
      "[[ 2.0714476 ]\n",
      " [ 0.8462012 ]\n",
      " [ 0.11558535]\n",
      " [-0.26835832]\n",
      " [ 0.32982782]\n",
      " [ 0.00608358]\n",
      " [ 0.07052915]\n",
      " [-0.87988573]\n",
      " [-0.8634251 ]]\n"
     ]
    }
   ],
   "source": [
    "# step 1\n",
    "# create a directory with a time stamp\n",
    "from datetime import datetime                    # import datetime\n",
    "now = datetime.utcnow().strftime(\"%Y%m%d%H%M%S\") # get current UTC time as a string with specified format\n",
    "root_logdir = \"tf_logs/9_TF\"                     # this directory will in the same folder as this .ipynb notebook\n",
    "logdir = \"{}/run-{}/\".format(root_logdir, now)   # folder with timestamp (inside the folder \"tf_logs/9_TF\")\n",
    "print(logdir)                                    # print the total path w.r.t. the path of this .ipynb notebook\n",
    "# code is the same as for Mini-batch Gradient Descent above\n",
    "reset_graph()\n",
    "n_epochs = 1000\n",
    "learning_rate = 0.01\n",
    "X = tf.placeholder(tf.float32, shape=(None, n + 1), name=\"x\")\n",
    "y = tf.placeholder(tf.float32, shape=(None, 1), name=\"y\")\n",
    "batch_size = 100\n",
    "n_batches = int(np.ceil(m / batch_size))\n",
    "theta = tf.Variable(tf.random_uniform([n + 1, 1], -1.0, 1.0), name=\"theta\")\n",
    "y_pred = tf.matmul(X, theta, name=\"predictions\")\n",
    "error = y_pred - y\n",
    "mse = tf.reduce_mean(tf.square(error), name=\"mse\")\n",
    "optimizer = tf.train.GradientDescentOptimizer(learning_rate=learning_rate)\n",
    "training_op = optimizer.minimize(mse)\n",
    "# step 2\n",
    "# before initialization, build a node for the summary and a node for saving that summary and the graph\n",
    "mse_summary = tf.summary.scalar('MSE', mse)                         # \"mse\" will be saved via \"mse_summary\"\n",
    "file_writer = tf.summary.FileWriter(logdir, tf.get_default_graph()) # saving of the graph under \"logdir\"\n",
    "# code is the same as for Mini-batch Gradient Descent above\n",
    "init = tf.global_variables_initializer()\n",
    "def fetch_batch(epoch, batch_index, batch_size):\n",
    "    np.random.seed(epoch * n_batches + batch_index)\n",
    "    indices = np.random.randint(m, size=batch_size)\n",
    "    X_batch = scaled_housing_data_plus_bias[indices]\n",
    "    y_batch = housing.target.reshape(-1, 1)[indices]\n",
    "    return X_batch, y_batch\n",
    "with tf.Session() as sess:\n",
    "    sess.run(init)\n",
    "    for epoch in range(n_epochs):\n",
    "        for batch_index in range(n_batches):\n",
    "            X_batch, y_batch = fetch_batch(epoch, batch_index, batch_size)\n",
    "# step 3\n",
    "            # every 10 epochs, save the summary and the graph (for all batches) \n",
    "            if epoch % 10 == 0:\n",
    "                summary_str = mse_summary.eval(feed_dict={X: X_batch, y: y_batch}) # summary of current batch\n",
    "                step = epoch * n_batches + batch_index                             # step associated to current batch\n",
    "                file_writer.add_summary(summary_str, step)                         # add step and summary to file\n",
    "            # code is the same as for Mini-batch Gradient Descent above\n",
    "            sess.run(training_op, feed_dict={X: X_batch, y: y_batch})\n",
    "    best_theta = theta.eval()\n",
    "# step 4\n",
    "# close the file writer\n",
    "file_writer.close()\n",
    "# code is the same as for Mini-batch Gradient Descent above\n",
    "print(best_theta)"
   ]
  },
  {
   "cell_type": "markdown",
   "metadata": {},
   "source": [
    "**Warning / caution**<br>\n",
    "Avoid logging training stats at every single training step, as this would significantly slow down training.<br><br>\n",
    "To **visualize the graph and statistics in TensorBoard**, one should do the following.\n",
    "1. Open a new shell and navigate to the folder containing the folder in which the time-stamped logging directories are saved. Here, that folder would be \"Hands-On-ML\" (in which this notebook is also located), as it contains the folder \"tf_logs/9_TF\", which in turn contains all the folders with different time stamps (as specified by the above string \"logdir\").\n",
    "2. After navigating to that folder, run \"tensorboard --logdir tf_logs/9_TF/\" in the shell. This is assuming that the folder containing the time-stamped logging directories is indeed \"tf_logs/9_TF\" (as is the case, here). Otherwise, that part of the shell command must be adapted to the actual name of the folder containing the logs.\n",
    "3. Open a new browser window and navigate to \"http://localhost:6006/\".\n",
    "\n",
    "Good introductions to the functionality of TensorBoard can be found in the TensorBoard link and in the YouTube link above. The full plot range of scalar quantities will be displayed if the box \"Ignore outliers in chart scaling\" is unchecked.<br>\n",
    "The graph becomes accessible by clicking on the \"GRAPHS\" tab inside TensorBoard. After removing the nodes \"theta\", \"gradients\", \"GradientDescent\", and \"random_uniform\" from the main graph by right-clicking on it, the graph looks very much like the one in Figure 9-4 of the book (but still a bit different, possibly because of another TensorFlow version).\n",
    "<br><br>\n",
    "**Suggestion or Tip**<br>\n",
    "If you want to take a peek at the graph directly within Jupyter, you can use the \"show_graph()\" function available in the notebook for this chapter. It was originally written by A. Mordvintsev in his great deepdream tutorial notebook (http://goo.gl/EtCWUc). Another option is to install E. Jang's TensorFlow debugger tool (https://github.com/ericjang/tdb) which includes a Jupyter extension for graph visualization (and more).\n",
    "## Name Scopes\n",
    "page 245<br>\n",
    "When dealing with more complex models (e.g., with neural nets), the graph may contain many, many more nodes, thus producing a lot of clutter in TensorBoard's visual graph representation. To avoid such clutter, multiple nodes can be summarized under a common name via *name scopes*. These name scopes can be expanded and collapsed in TensorBoard so that the graph becomes more structured. Below, we use the above code to demonstrate the use of name scopes by summarizing \"error\" and \"mse\" in a name scope called \"loss\"."
   ]
  },
  {
   "cell_type": "code",
   "execution_count": 24,
   "metadata": {},
   "outputs": [
    {
     "name": "stdout",
     "output_type": "stream",
     "text": [
      "tf_logs/9_TF/run-20190919132655/\n",
      "[[ 2.0714476 ]\n",
      " [ 0.8462012 ]\n",
      " [ 0.11558535]\n",
      " [-0.26835832]\n",
      " [ 0.32982782]\n",
      " [ 0.00608358]\n",
      " [ 0.07052915]\n",
      " [-0.87988573]\n",
      " [-0.8634251 ]]\n",
      "loss/sub\n",
      "loss/mse\n"
     ]
    }
   ],
   "source": [
    "# the following code is the same as above (but skipping the import of datetime, which has been imported already)\n",
    "now = datetime.utcnow().strftime(\"%Y%m%d%H%M%S\")\n",
    "root_logdir = \"tf_logs/9_TF\"\n",
    "logdir = \"{}/run-{}/\".format(root_logdir, now)\n",
    "print(logdir)\n",
    "reset_graph()\n",
    "n_epochs = 1000\n",
    "learning_rate = 0.01\n",
    "X = tf.placeholder(tf.float32, shape=(None, n + 1), name=\"x\")\n",
    "y = tf.placeholder(tf.float32, shape=(None, 1), name=\"y\")\n",
    "batch_size = 100\n",
    "n_batches = int(np.ceil(m / batch_size))\n",
    "theta = tf.Variable(tf.random_uniform([n + 1, 1], -1.0, 1.0), name=\"theta\")\n",
    "y_pred = tf.matmul(X, theta, name=\"predictions\")\n",
    "# define \"error\" and \"mse\" inside a name scope called \"loss\"\n",
    "with tf.name_scope(\"loss\") as scope:\n",
    "    error = y_pred - y\n",
    "    mse = tf.reduce_mean(tf.square(error), name=\"mse\")\n",
    "# the following code is the same as above\n",
    "optimizer = tf.train.GradientDescentOptimizer(learning_rate=learning_rate)\n",
    "training_op = optimizer.minimize(mse)\n",
    "mse_summary = tf.summary.scalar('MSE', mse)\n",
    "file_writer = tf.summary.FileWriter(logdir, tf.get_default_graph())\n",
    "init = tf.global_variables_initializer()\n",
    "def fetch_batch(epoch, batch_index, batch_size):\n",
    "    np.random.seed(epoch * n_batches + batch_index)\n",
    "    indices = np.random.randint(m, size=batch_size)\n",
    "    X_batch = scaled_housing_data_plus_bias[indices]\n",
    "    y_batch = housing.target.reshape(-1, 1)[indices]\n",
    "    return X_batch, y_batch\n",
    "with tf.Session() as sess:\n",
    "    sess.run(init)\n",
    "    for epoch in range(n_epochs):\n",
    "        for batch_index in range(n_batches):\n",
    "            X_batch, y_batch = fetch_batch(epoch, batch_index, batch_size)\n",
    "            if epoch % 10 == 0:\n",
    "                summary_str = mse_summary.eval(feed_dict={X: X_batch, y: y_batch})\n",
    "                step = epoch * n_batches + batch_index\n",
    "                file_writer.add_summary(summary_str, step)\n",
    "            sess.run(training_op, feed_dict={X: X_batch, y: y_batch})\n",
    "    best_theta = theta.eval()\n",
    "file_writer.close()\n",
    "print(best_theta)\n",
    "# print the name of the ops \"error\" and \"mse\" (they should now be prefixed by \"loss/\")\n",
    "print(error.op.name)\n",
    "print(mse.op.name)"
   ]
  },
  {
   "cell_type": "markdown",
   "metadata": {},
   "source": [
    "As the above output shows, the operations \"error\" and \"mse\" are referred to as \"loss/sub\" (for \"substitution\", as \"error\" is not an explicitly defined TensorFlow variable or the like) and \"loss/mse\". And in TensorBoard's representation of the graph, the node \"loss\" appears and can be expanded to reveal \"error\" and \"mse\". The graph looks very similar to Figure 9-5 in the book (but not exactly the same, possible because of a different TensorFlow version).\n",
    "## Modularity\n",
    "page 246<br>\n",
    "We will demonstrate TensorFlow's modularity with an example of *ReLU*s. A *Rectified Lineare Unit*, or *ReLU* for short, is a function\n",
    "$$h_{\\vec{W},b}={\\rm max}(\\vec{X}\\cdot\\vec{w}+b,0)\\,.$$\n",
    "ReLUs are not necessary to demonstrate modularity but it is good to introduce them at last, as they play an important role in machine learning. The following block is not intended to produce something useful but rather to show that copy-pasting code will easily lead to failures in the code. Also, such code is hard to maintain. A common bon mot among coders is \"Two or more: use a for.\", where \"for\" means a for-loop."
   ]
  },
  {
   "cell_type": "code",
   "execution_count": 25,
   "metadata": {},
   "outputs": [],
   "source": [
    "n_features = 3\n",
    "X = tf.placeholder(tf.float32, shape=(None, n_features), name=\"X\")\n",
    "w1 = tf.Variable(tf.random_normal((n_features, 1)), name=\"weights1\")\n",
    "w2 = tf.Variable(tf.random_normal((n_features, 1)), name=\"weights2\")\n",
    "b1 = tf.Variable(0.0, name=\"bias1\")\n",
    "b2 = tf.Variable(0.0, name=\"bias2\")\n",
    "z1 = tf.add(tf.matmul(X, w1), b1, name=\"z1\")\n",
    "z2 = tf.add(tf.matmul(X, w2), b2, name=\"z2\")\n",
    "relu1 = tf.maximum(z1, 0., name=\"relu1\") # building two (or more) ReLUs by copy-pasting code can easily lead to ...\n",
    "relu2 = tf.maximum(z1, 0., name=\"relu2\") # ... failures like the faulty z1 (instead of z2) in this line\n",
    "output = tf.add(relu1, relu2, name=\"output\")"
   ]
  },
  {
   "cell_type": "markdown",
   "metadata": {},
   "source": [
    "So instead of using the repetitive code above, we now define a function that builds ReLUs and then run this function as often as we want. In order to display the graph in TensorBoard, we save its structure via \"tf.summary.FileWriter()\""
   ]
  },
  {
   "cell_type": "code",
   "execution_count": 26,
   "metadata": {},
   "outputs": [
    {
     "name": "stdout",
     "output_type": "stream",
     "text": [
      "Tensor(\"output:0\", shape=(?, 1), dtype=float32)\n",
      "tf_logs/9_TF/relu1/\n"
     ]
    }
   ],
   "source": [
    "# very important: reset the graph\n",
    "reset_graph()\n",
    "# define a function that builds a ReLU\n",
    "def relu(X):\n",
    "    w_shape = (int(X.get_shape()[1]), 1)                      # get the shape of X\n",
    "    w =tf.Variable(tf.random_normal(w_shape), name=\"weights\") # weight matrix with the same shape as X and random ...\n",
    "                                                              # components (normally distributed)\n",
    "    b = tf.Variable(0.0, name=\"bias\")                         # scalar bias term\n",
    "    z = tf.add(tf.matmul(X, w), b, name=\"linear\")             # prediction (use \"linear\" instead of \"z\" as name)\n",
    "    return tf.maximum(z, 0., name=\"relu\")                     # return the prediction if positive and 0 otherwise\n",
    "# specify the number of features (n) and the feature matrix X\n",
    "n_features = 3\n",
    "X = tf.placeholder(tf.float32, shape=(None, n_features), name=\"X\")\n",
    "# build 5 relus and output their sum via the \"print()\" function\n",
    "relus =[relu(X) for i in range(5)]\n",
    "output = tf.add_n(relus, name=\"output\")\n",
    "print(output)\n",
    "# we use \"tf_logs/9_TF/relu1\" instead of \"logs/relu1\" as the log directory (see Github code linked above)\n",
    "logdir = \"tf_logs/9_TF/relu1/\"\n",
    "print(logdir)\n",
    "file_writer = tf.summary.FileWriter(logdir, tf.get_default_graph())\n",
    "file_writer.close()"
   ]
  },
  {
   "cell_type": "markdown",
   "metadata": {},
   "source": [
    "The above code does not save any scalars etc. that TensorBoard could display but only the graph structure. Apparently, the browser tab in which TensorBoard is running needs to be closed and reopened to \"update\" the available graphs. But it is not necessary to shut down and restart TensorBoard via the command line.<br><br>\n",
    "Once the graph is displayed (at best with all nodes inside the main graph), the structure becomes apparent. But it is a little hard to read because all nodes required for a ReLU appear 5 times. Only the first instance of a named node (e.g. \"bias\") is displayed under its default name while all further instances bear an index \"\\_i\" denoting the i-th repetition (e.g. \"bias_1\"), see also Figure 9-6 in the book."
   ]
  },
  {
   "cell_type": "code",
   "execution_count": 27,
   "metadata": {},
   "outputs": [
    {
     "name": "stdout",
     "output_type": "stream",
     "text": [
      "Tensor(\"output:0\", shape=(?, 1), dtype=float32)\n",
      "tf_logs/9_TF/relu2/\n"
     ]
    }
   ],
   "source": [
    "reset_graph()\n",
    "def relu(X):\n",
    "    with tf.name_scope(\"relu\"):                     # define the \"relu\" name scope and indent the according lines\n",
    "        w_shape = (int(X.get_shape()[1]), 1)\n",
    "        w =tf.Variable(tf.random_normal(w_shape), name=\"weights\")\n",
    "        b = tf.Variable(0.0, name=\"bias\")\n",
    "        z = tf.add(tf.matmul(X, w), b, name=\"linear\")\n",
    "        return tf.maximum(z, 0., name=\"relu\")\n",
    "n_features = 3\n",
    "X = tf.placeholder(tf.float32, shape=(None, n_features), name=\"X\")\n",
    "relus =[relu(X) for i in range(5)]\n",
    "output = tf.add_n(relus, name=\"output\")\n",
    "print(output)\n",
    "logdir = \"tf_logs/9_TF/relu2/\"                      # save the graph in the folder \"tf_logs/9_TF/relu2/\"\n",
    "print(logdir)\n",
    "file_writer = tf.summary.FileWriter(logdir, tf.get_default_graph())\n",
    "file_writer.close()"
   ]
  },
  {
   "cell_type": "markdown",
   "metadata": {},
   "source": [
    "As the above code demonstrates, we can group all nodes of a ReLU together by using name scopes. This leads to a much simpler graph structure, see also Figure 9-7 in the book.\n",
    "## Sharing Variables\n",
    "page 248<br>\n",
    "Iteratively adjusting many parameters is key to machine learning. Therefore, it is important to pass updated parameters (possibly many of them) around to functions (possibly also many of them) that depend on these parameters."
   ]
  },
  {
   "cell_type": "code",
   "execution_count": 28,
   "metadata": {},
   "outputs": [
    {
     "name": "stdout",
     "output_type": "stream",
     "text": [
      "[<tf.Tensor 'relu/max:0' shape=(?, 1) dtype=float32>, <tf.Tensor 'relu_1/max:0' shape=(?, 1) dtype=float32>, <tf.Tensor 'relu_2/max:0' shape=(?, 1) dtype=float32>, <tf.Tensor 'relu_3/max:0' shape=(?, 1) dtype=float32>, <tf.Tensor 'relu_4/max:0' shape=(?, 1) dtype=float32>]\n"
     ]
    }
   ],
   "source": [
    "# reset the graph\n",
    "reset_graph()\n",
    "# define a function for ReLUs that receive \"threshold\" as a parameter\n",
    "def relu(X, threshold):\n",
    "    # put all the following in the name scope \"relu\"\n",
    "    with tf.name_scope(\"relu\"):\n",
    "        # the following is the same as above\n",
    "        w_shape = (int(X.get_shape()[1]), 1)\n",
    "        w = tf.Variable(tf.random_normal(w_shape), name=\"weights\")\n",
    "        b = tf.Variable(0.0, name=\"bias\")\n",
    "        z = tf.add(tf.matmul(X, w), b, name=\"z\")\n",
    "        # now use the \"threshold\" that was passed as a parameter\n",
    "        return tf.maximum(z, threshold, name=\"max\")\n",
    "# define the threshold, X, build ReLUs, and add up their results\n",
    "threshold = tf.Variable(0.0, name=\"threshold\")\n",
    "X = tf.placeholder(tf.float32, shape=(None, n_features), name=\"X\")\n",
    "relus = [relu(X, threshold) for i in range(5)]\n",
    "output = tf.add_n(relus, name=\"output\")\n",
    "print(relus)"
   ]
  },
  {
   "cell_type": "markdown",
   "metadata": {},
   "source": [
    "The above code uses five ReLUs, all of which receive the same parameter \"threshold\". One could update \"threshold\" and the code will perfectly fine because \"threshold\" is passed explicitly as an argument to the \"relu\" function. However, this approach reaches its limits for functions that depend on many, many parameters. There are several alternatives:\n",
    "- Create and maintain (update) a complete dictionary of all parameters and pass that dictionary to all the functions that depend on a parameter.\n",
    "- Create a new Python class for each module. (I do not really understand this but according to the footnote on page 249, this should be the cleanest solution.)\n",
    "- Use a solution (explained further below) that is apparently very popular with TensorFlow.\n",
    "- Set the shared variable as an attribute of the ReLU upon its first call.\n",
    "\n",
    "Let's try the last option first."
   ]
  },
  {
   "cell_type": "code",
   "execution_count": 29,
   "metadata": {},
   "outputs": [
    {
     "name": "stdout",
     "output_type": "stream",
     "text": [
      "[<tf.Tensor 'relu/max:0' shape=(?, 1) dtype=float32>, <tf.Tensor 'relu_1/max:0' shape=(?, 1) dtype=float32>, <tf.Tensor 'relu_2/max:0' shape=(?, 1) dtype=float32>, <tf.Tensor 'relu_3/max:0' shape=(?, 1) dtype=float32>, <tf.Tensor 'relu_4/max:0' shape=(?, 1) dtype=float32>]\n"
     ]
    }
   ],
   "source": [
    "# everything is the same as above apart from those parts with extra comments\n",
    "reset_graph()\n",
    "def relu(X):                                                    # \"threshold\" is not passed as a parameter\n",
    "    with tf.name_scope(\"relu\"):\n",
    "        if not hasattr(relu, \"threshold\"):                      # returns True or False\n",
    "            relu.threshold = tf.Variable(0.0, name=\"threshold\") # initialize the attribute \"threshold\" if necessary \n",
    "        w_shape = (int(X.get_shape()[1]), 1)\n",
    "        w = tf.Variable(tf.random_normal(w_shape), name=\"weights\")\n",
    "        b = tf.Variable(0.0, name=\"bias\")\n",
    "        z = tf.add(tf.matmul(X, w), b, name=\"z\")\n",
    "        return tf.maximum(z, threshold, name=\"max\")\n",
    "threshold = tf.Variable(0.0, name=\"threshold\")\n",
    "X = tf.placeholder(tf.float32, shape=(None, n_features), name=\"X\")\n",
    "relus = [relu(X) for i in range(5)]                             # \"threshold\" is not passed as a parameter\n",
    "output = tf.add_n(relus, name=\"output\")\n",
    "print(relus)"
   ]
  },
  {
   "cell_type": "markdown",
   "metadata": {},
   "source": [
    "As indicated in the above list, there is a popular solution for TensorFlow. It uses the \"get_variable()\" function to create the variable if it does not exist yet and to reuse it if it does exist already. This is similar to the above code but now, the desired behaviour (creating or reusing the variable) is controlled by an attribute of \"variable_scope()\"."
   ]
  },
  {
   "cell_type": "code",
   "execution_count": 30,
   "metadata": {},
   "outputs": [
    {
     "name": "stdout",
     "output_type": "stream",
     "text": [
      "Tensor(\"output:0\", shape=(?, 1), dtype=float32)\n",
      "tf_logs/9_TF/relu3/\n"
     ]
    }
   ],
   "source": [
    "reset_graph()\n",
    "def relu(X):\n",
    "    with tf.variable_scope(\"relu\", reuse=True):     # use tf.variable_scope() instead of tf.name_scope() and note ...\n",
    "                                                    # ... that existing variables will be reused in following runs\n",
    "        threshold = tf.get_variable(\"threshold\")    # use \"tf.get_variable()\" to get \"threshold\"\n",
    "        w_shape = (int(X.get_shape()[1]), 1)        # shape of weight matrix \"w\"\n",
    "        w = tf.Variable(tf.random_normal(w_shape), name=\"weights\") # random initialization of \"w\"\n",
    "        b = tf.Variable(0.0, name=\"bias\")                          # bias term \"b\"\n",
    "        z = tf.add(tf.matmul(X, w), b, name=\"z\")                   # prediction \"z\"\n",
    "        return tf.maximum(z, threshold, name=\"max\") # ReLU output\n",
    "X = tf.placeholder(tf.float32, shape=(None, n_features), name=\"X\") # declare a placeholder node \"X\"\n",
    "with tf.variable_scope(\"relu\"):                                    # establish the variable scope \"relu\" which is ...\n",
    "                                                                   # ... also used by \"relu(X)\"\n",
    "    threshold = tf.get_variable(\"threshold\", shape=(),             # in this variable scope, declare \"threshold\" ...\n",
    "                                initializer=tf.constant_initializer(0.0)) # ... initialize it to 0 on the first ...\n",
    "                                                                   # ... run and reuse it in following runs (for ...\n",
    "                                                                   # ... relu(X), reuse=True in this variable scope)\n",
    "relus = [relu(X) for relu_index in range(5)]        # list of 5 ReLUs\n",
    "output = tf.add_n(relus, name=\"output\")             # sum of 5 ReLUs\n",
    "print(output)\n",
    "logdir = \"tf_logs/9_TF/relu3/\"                      # save the graph in the folder \"tf_logs/9_TF/relu3/\"\n",
    "print(logdir)\n",
    "file_writer = tf.summary.FileWriter(logdir, tf.get_default_graph())\n",
    "file_writer.close()"
   ]
  },
  {
   "cell_type": "markdown",
   "metadata": {},
   "source": [
    "If the \"reuse\" attribute of \"tf.variable_scope()\" had not been set to \"True\" in the third line above, the code would trigger an exception upon repeated call of the \"relu(X)\" function since \"threshold\" has been initialized already in the first run. Try it out using \"reuse=False\" in the third line!<br><br>\n",
    "** Warning / caution**<br>\n",
    "Once \"reuse\" is set to \"True\", it cannot be set back to \"False\" within the block. Moreover, if you define other variable scopes inside this one, they will automatically inherit \"reuse=True\". Lastly, only variables created by \"get_variable()\" can be reused this way.<br><br>\n",
    "**General note**<br>\n",
    "Variables created using \"get_variable()\" are always named using the name of their \"variable_scope\" as a prefix (e.g., \"relu/threshold\"), but for all other nodes (including variables created with \"tf.Variable()\") the variable scope acts like a new name scope. In particular, if a name scope with an identical name was already created, then a suffix is added to make the name unique. Fore example, all nodes created in the preceding code (except the \"threshold\" variable) have a name prefixed with \"relus_1/\" to \"relu_5/\", as shown in Figure 9-8.<br><br>\n",
    "Indeed, the above code produces a graph very similiar to the one shown in Figure 9-8. However, it is a bit unfortunate that the \"threshold\" variable is defined outside the function \"relu(X)\". This can be fixed by telling the relevant variable_scope to reuse \"threshold\" after its first use, as shown in the code below."
   ]
  },
  {
   "cell_type": "code",
   "execution_count": 31,
   "metadata": {},
   "outputs": [
    {
     "name": "stdout",
     "output_type": "stream",
     "text": [
      "Tensor(\"output:0\", shape=(?, 1), dtype=float32)\n",
      "tf_logs/9_TF/relu4/\n"
     ]
    }
   ],
   "source": [
    "reset_graph()\n",
    "def relu(X):\n",
    "    with tf.variable_scope(\"relu\"):                        # set the variable scope\n",
    "        threshold = tf.get_variable(\"threshold\", shape=(), # initialize \"threshold\"\n",
    "                                    initializer=tf.constant_initializer(0.0))\n",
    "        w_shape = (int(X.get_shape()[1]), 1)\n",
    "        w = tf.Variable(tf.random_normal(w_shape), name=\"weights\")\n",
    "        b = tf.Variable(0.0, name=\"bias\")\n",
    "        z = tf.add(tf.matmul(X, w), b, name=\"z\")\n",
    "        return tf.maximum(z, threshold, name=\"max\")\n",
    "X = tf.placeholder(tf.float32, shape=(None, n_features), name=\"X\")\n",
    "with tf.variable_scope(\"relu\") as scope:\n",
    "    first_relu = relu(X)                                   # use \"relu(X)\" once, thus initializing \"threshold\" ...\n",
    "    scope.reuse_variables()                                # ... and then reuse it ...\n",
    "    relus = [first_relu] + [relu(X) for i in range(4)]     # ... in following calls of \"relu(X)\"\n",
    "output = tf.add_n(relus, name=\"output\")\n",
    "print(output)\n",
    "logdir = \"tf_logs/9_TF/relu4/\"                             # save the graph in the folder \"tf_logs/9_TF/relu4/\"\n",
    "print(logdir)\n",
    "file_writer = tf.summary.FileWriter(logdir, tf.get_default_graph())\n",
    "file_writer.close()"
   ]
  },
  {
   "cell_type": "markdown",
   "metadata": {},
   "source": [
    "Both the above code (which comes from the Github link above) and the following code (which corresponds to the last code block displayed in Chapter 9 of the book) lead to graphs very similar to Figure 9-9 in the book."
   ]
  },
  {
   "cell_type": "code",
   "execution_count": 32,
   "metadata": {},
   "outputs": [
    {
     "name": "stdout",
     "output_type": "stream",
     "text": [
      "Tensor(\"output:0\", shape=(?, 1), dtype=float32)\n",
      "tf_logs/9_TF/relu5/\n"
     ]
    }
   ],
   "source": [
    "reset_graph()\n",
    "def relu(X):\n",
    "    with tf.variable_scope(\"relu\"):                               # set the variable scope\n",
    "        threshold = tf.get_variable(\"threshold\", shape=(),        # initialize \"threshold\"\n",
    "                                    initializer=tf.constant_initializer(0.0))\n",
    "        w_shape = (int(X.get_shape()[1]), 1)\n",
    "        w = tf.Variable(tf.random_normal(w_shape), name=\"weights\")\n",
    "        b = tf.Variable(0.0, name=\"bias\")\n",
    "        z = tf.add(tf.matmul(X, w), b, name=\"z\")\n",
    "        return tf.maximum(z, threshold, name=\"max\")\n",
    "X = tf.placeholder(tf.float32, shape=(None, n_features), name=\"X\")\n",
    "relus = [] # this list of ReLUs will be filled during the excution of the following loop\n",
    "for relu_index in range(5):\n",
    "    with tf.variable_scope(\"relu\",reuse=(relu_index>0)) as scope: # reuse=False for the first ReLU but ...\n",
    "        relus.append(relu(X))                                     # reuse=True for following ReLUs\n",
    "output = tf.add_n(relus, name=\"output\")\n",
    "print(output)\n",
    "logdir = \"tf_logs/9_TF/relu5/\"                                    # save the graph in the folder \"tf_logs/9_TF/relu5/\"\n",
    "print(logdir)\n",
    "file_writer = tf.summary.FileWriter(logdir, tf.get_default_graph())\n",
    "file_writer.close()"
   ]
  },
  {
   "cell_type": "markdown",
   "metadata": {},
   "source": [
    "## Exercises\n",
    "page 251\n",
    "### 1.-11.\n",
    "Solutions are shown in Appendix A of the book and in the separate notebook *ExercisesWithoutCode*.\n",
    "### 12.\n",
    "Implement Logistic Regression with Mini-batch Gradient Descent using TensorFlow. Train it and evaluate it on the moons dataset (introduced in Chapter 5). Try adding all the bells and whistles:\n",
    "- Define the graph within a \"logistic_regression()\" function that can be reused easily.\n",
    "- Save checkpoints using a \"Saver\" at regular intervals during training, and save the final model at the end of training.\n",
    "- Restore the last checkpoint upon startup if training was interrupted.\n",
    "- Define the graph using nice scopes so the graph looks good in TensorBoard.\n",
    "- Try tweaking some hyperparameters such as the learning rate or the mini-batch size and look at the shape of the learning curve.\n",
    "\n",
    "[The following code is heavily based on the solution shown in the Github link above.]\n",
    "First, let's make moons and display the data. The classes are 0 and 1 (or -1 and +1, or \"negative\" and \"positive\") and the features are simply x- and y-coordinates."
   ]
  },
  {
   "cell_type": "code",
   "execution_count": 33,
   "metadata": {},
   "outputs": [
    {
     "data": {
      "image/png": "[encoded data removed]",
      "text/plain": [
       "<Figure size 432x288 with 1 Axes>"
      ]
     },
     "metadata": {
      "needs_background": "light"
     },
     "output_type": "display_data"
    }
   ],
   "source": [
    "# make moons\n",
    "from sklearn.datasets import make_moons                      # import moons\n",
    "m = 1000                                                     # number of data points\n",
    "X_moons, y_moons = make_moons(m, noise=0.1, random_state=42) # make noisy dataset\n",
    "# make nice pictures with matplotlib\n",
    "%matplotlib inline\n",
    "import matplotlib\n",
    "import matplotlib.pyplot as plt\n",
    "# display the generated moons dataset (two classes)\n",
    "plt.rcParams['axes.labelsize'] = 14\n",
    "plt.rcParams['xtick.labelsize'] = 12\n",
    "plt.rcParams['ytick.labelsize'] = 12\n",
    "plt.plot(X_moons[y_moons == 1, 0], X_moons[y_moons == 1, 1], 'go', label=\"Positive\") # positive class (green)\n",
    "plt.plot(X_moons[y_moons == 0, 0], X_moons[y_moons == 0, 1], 'r^', label=\"Negative\") # negative class (red)\n",
    "plt.legend()\n",
    "plt.show()"
   ]
  },
  {
   "cell_type": "markdown",
   "metadata": {},
   "source": [
    "As discussed in Chapter 4, Logistic Regression first employs a linear model, $\\theta^{T}\\cdot x$, where $x$ is a feature vector including a bias term. Then, the result of this linear model, $t$, is fed to the logistic function\n",
    "$$\\sigma(t)=\\frac{1}{1+e^{-t}}\\,.$$\n",
    "So in particular, the feature vector first needs to have a bias term. Let's add it!<br>\n",
    "Additionally, we shall reshape the target data into a column vector."
   ]
  },
  {
   "cell_type": "code",
   "execution_count": 34,
   "metadata": {},
   "outputs": [
    {
     "name": "stdout",
     "output_type": "stream",
     "text": [
      "[[ 1.         -0.05146968  0.44419863]\n",
      " [ 1.          1.03201691 -0.41974116]\n",
      " [ 1.          0.86789186 -0.25482711]\n",
      " [ 1.          0.288851   -0.44866862]\n",
      " [ 1.         -0.83343911  0.53505665]]\n",
      "(1000, 3)\n",
      "(1000,)\n",
      "(1000, 1)\n"
     ]
    }
   ],
   "source": [
    "X_moons_with_bias = np.c_[np.ones((m, 1)), X_moons] # add a column with 1s to the feature matrix\n",
    "print(X_moons_with_bias[:5])                        # show the first 5 rows of the feature matrix\n",
    "print(X_moons_with_bias.shape)                      # shape of feature data\n",
    "print(y_moons.shape)                                # shape of target data\n",
    "y_moons_column_vector = y_moons.reshape(-1, 1)      # reshaping it\n",
    "print(y_moons_column_vector.shape)                  # reshaped target data"
   ]
  },
  {
   "cell_type": "markdown",
   "metadata": {},
   "source": [
    "Partition the data into training and test sets, and also build a function that returns mini-batches of the training data."
   ]
  },
  {
   "cell_type": "code",
   "execution_count": 35,
   "metadata": {},
   "outputs": [
    {
     "name": "stdout",
     "output_type": "stream",
     "text": [
      "[[ 1.          1.93189866  0.13158788]\n",
      " [ 1.          1.07172763  0.13482039]\n",
      " [ 1.         -1.01148674 -0.04686381]\n",
      " [ 1.          0.02201868  0.19079139]\n",
      " [ 1.         -0.98941204  0.02473116]]\n",
      "[[1]\n",
      " [0]\n",
      " [0]\n",
      " [1]\n",
      " [0]]\n"
     ]
    }
   ],
   "source": [
    "# set size of test set\n",
    "test_ratio = 0.2\n",
    "test_size = int(m * test_ratio)\n",
    "# training set\n",
    "X_train = X_moons_with_bias[:-test_size]\n",
    "X_test = X_moons_with_bias[-test_size:]\n",
    "# test set\n",
    "y_train = y_moons_column_vector[:-test_size]\n",
    "y_test = y_moons_column_vector[-test_size:]\n",
    "# build a function that returns a mini-batch (size: \"batch_size) of training data\n",
    "def random_batch(X_train, y_train, batch_size):\n",
    "    rnd_indices = np.random.randint(0, len(X_train),batch_size) # random indices between 0 and \"test_size\" (see above)\n",
    "    X_batch = X_train[rnd_indices]                              # features\n",
    "    y_batch = y_train[rnd_indices]                              # classes\n",
    "    return X_batch, y_batch                                     # return features and classes\n",
    "# try the function out for a mini-batch of size 5\n",
    "X_batch, y_batch = random_batch(X_train, y_train, 5)\n",
    "print(X_batch)\n",
    "print(y_batch)"
   ]
  },
  {
   "cell_type": "markdown",
   "metadata": {},
   "source": [
    "Now, it's time to build a graph for Mini-batch Gradient Descent on Logistic Regression. Here, TensorFlow has its own implementation of the sigmoid (Equation 4-14 in the book). We shall use it!"
   ]
  },
  {
   "cell_type": "code",
   "execution_count": 36,
   "metadata": {},
   "outputs": [
    {
     "name": "stdout",
     "output_type": "stream",
     "text": [
      "Tensor(\"truediv:0\", shape=(?, 1), dtype=float32)\n",
      "Tensor(\"Sigmoid:0\", shape=(?, 1), dtype=float32)\n"
     ]
    }
   ],
   "source": [
    "reset_graph()  # resetting the graph\n",
    "n_inputs = 2   # number of inputs (x- and y-cooridnates, the bias term will be added \"by hand\" via \"+1\")\n",
    "X = tf.placeholder(tf.float32, shape=(None, n_inputs + 1),name=\"X\") # placeholder for data (note \"n_input + 1\")\n",
    "y = tf.placeholder(tf.float32, shape=(None, 1), name=\"y\")           # placeholder for classes (target values)\n",
    "theta = tf.Variable(tf.random_uniform([n_inputs + 1, 1], -1.0, 1.0, seed=42), name=\"theta\") # weight vector\n",
    "logits = tf.matmul(X, theta, name=\"logits\")                         # result of the linear model\n",
    "y_proba = 1 / (1 + tf.exp(-logits))                                 # sigmoid prediction of the Logistic Regression\n",
    "print(y_proba) # print this\n",
    "y_proba = tf.sigmoid(logits)                                        # TensorFlow's custom sigmoid (overwrites y_proba)\n",
    "print(y_proba) # print this"
   ]
  },
  {
   "cell_type": "markdown",
   "metadata": {},
   "source": [
    "We also need a cost function to be minimized. As discussed in Chapter 4 (pages 135/136 of the book), the \"log loss\" function,\n",
    "$$-log(p)\\quad\\text{if $y=1$},\\quad-log(1-p)\\quad\\text{if $y=0$}\\,,$$\n",
    "is a good cost function for Logistic Regression. If we implement it manually, it makes sense to add a tiny term to $p$ so $log(0)$ will be avoided for $p=0$. Yet, TensorFlow has a custom implmentation for the log loss, too. So we will use that."
   ]
  },
  {
   "cell_type": "code",
   "execution_count": 37,
   "metadata": {},
   "outputs": [
    {
     "name": "stdout",
     "output_type": "stream",
     "text": [
      "Tensor(\"Neg_1:0\", shape=(), dtype=float32)\n",
      "Tensor(\"log_loss/value:0\", shape=(), dtype=float32)\n"
     ]
    }
   ],
   "source": [
    "epsilon = 1e-7                                                                    # to avoid log(0) below\n",
    "loss = -tf.reduce_mean(y*tf.log(y_proba+epsilon)+(1-y)*tf.log(1-y_proba+epsilon)) # manual implementation of log loss\n",
    "print(loss)                                                                       # print this\n",
    "loss = tf.losses.log_loss(y, y_proba)                                             # tf also uses +1e-7 by default\n",
    "print(loss)                                                                       # print this"
   ]
  },
  {
   "cell_type": "markdown",
   "metadata": {},
   "source": [
    "Let's finish the TensorFlow model! It is in large parts the same as the main text above (see \"Feeding Data to the Training Algorithm\" / page 239 in the book)."
   ]
  },
  {
   "cell_type": "code",
   "execution_count": 38,
   "metadata": {},
   "outputs": [
    {
     "name": "stdout",
     "output_type": "stream",
     "text": [
      "Epoch: 0 \tLoss: 0.79260236\n",
      "Epoch: 100 \tLoss: 0.34346345\n",
      "Epoch: 200 \tLoss: 0.30754045\n",
      "Epoch: 300 \tLoss: 0.29288897\n",
      "Epoch: 400 \tLoss: 0.28533578\n",
      "Epoch: 500 \tLoss: 0.2804781\n",
      "Epoch: 600 \tLoss: 0.2780829\n",
      "Epoch: 700 \tLoss: 0.2761544\n",
      "Epoch: 800 \tLoss: 0.27551997\n",
      "Epoch: 900 \tLoss: 0.27491233\n",
      "[[0.54895616]\n",
      " [0.70724374]\n",
      " [0.51900256]\n",
      " [0.9911136 ]\n",
      " [0.5085905 ]]\n",
      "[[ True]\n",
      " [ True]\n",
      " [ True]\n",
      " [ True]\n",
      " [ True]]\n"
     ]
    }
   ],
   "source": [
    "learning_rate = 0.01                                                       # specify the learning rate\n",
    "optimizer = tf.train.GradientDescentOptimizer(learning_rate=learning_rate) # use tf's gradient descent optimizer\n",
    "training_op = optimizer.minimize(loss)                                     # training operation\n",
    "init = tf.global_variables_initializer()                                   # initialize the variables\n",
    "# plan how data will be fed to the algorithm\n",
    "n_epochs = 1000                                                            # number of epochs\n",
    "batch_size = 50                                                            # batch size\n",
    "n_batches = int(np.ceil(m / batch_size))                                   # number of batches\n",
    "# let's run the thing in tensorflow\n",
    "with tf.Session() as sess:                                                 # run a tensorflow session\n",
    "    sess.run(init)                                                         # run initializer\n",
    "    for epoch in range(n_epochs):                                          # epochs\n",
    "        for batch_index in range(n_batches): # batches\n",
    "            X_batch, y_batch = random_batch(X_train, y_train, batch_size)  # build batch\n",
    "            sess.run(training_op, feed_dict={X: X_batch, y: y_batch})      # run training step with current batch\n",
    "        loss_val = loss.eval({X: X_test, y: y_test})                       # evaluate loss on the test set\n",
    "        if epoch % 100 == 0:                                               # every 100 epochs ...\n",
    "            print(\"Epoch:\", epoch, \"\\tLoss:\", loss_val)                    # ... print the loss on the test set \n",
    "    y_proba_val = y_proba.eval(feed_dict={X: X_test, y: y_test})           # prediction of the final model\n",
    "# print final results\n",
    "print(y_proba_val[:5])                                                     # model output\n",
    "y_pred = (y_proba_val >= 0.5)                                              # class predictions\n",
    "print(y_pred[:5])                                                          # print the first 5 class predictions"
   ]
  },
  {
   "cell_type": "markdown",
   "metadata": {},
   "source": [
    "For the test set, check\n",
    "$${\\rm precision}=\\frac{\\rm TP}{{\\rm TP}+{\\rm FP}}$$\n",
    "i.e., the fraction of positively classified instances that do actually belong to the positive class and\n",
    "$${\\rm recall}=\\frac{\\rm TP}{{\\rm TP}+{\\rm FN}}$$\n",
    "i.e., the fraction of actual positive instances that are classified positively.<br><br>\n",
    "While increasing the threshold, *precision is expected to go up* as false positives should decrease. But occasionally, it can also decrease as true positives get (wrongfully) filtered out. In contrast, *recall will decrease monotonically* while increasing the threshold since its nominator (the \"positive class\") is fixed and the numerator can only decrease."
   ]
  },
  {
   "cell_type": "code",
   "execution_count": 39,
   "metadata": {},
   "outputs": [
    {
     "name": "stdout",
     "output_type": "stream",
     "text": [
      "0.8627450980392157\n",
      "0.8888888888888888\n"
     ]
    }
   ],
   "source": [
    "from sklearn.metrics import precision_score, recall_score # import precisison and recall scores from scikit-learn\n",
    "print(precision_score(y_test, y_pred))                    # print precision score on test set\n",
    "print(recall_score(y_test, y_pred))                       # print recall score on test set"
   ]
  },
  {
   "cell_type": "markdown",
   "metadata": {},
   "source": [
    "We now visualize the predictions on the test set in a plot. The code makes use of the tilde \"~\" opearator. Apparently, this operator simly inverts the bits. In particular, it turns \"True\" into \"False\" and vice versa. See the contribution of user \"wberry\" on https://stackoverflow.com/questions/8305199/the-tilde-operator-in-python."
   ]
  },
  {
   "cell_type": "code",
   "execution_count": 40,
   "metadata": {},
   "outputs": [
    {
     "name": "stdout",
     "output_type": "stream",
     "text": [
      "(200, 1)\n",
      "(200,)\n"
     ]
    },
    {
     "data": {
      "image/png": "[encoded data removed]",
      "text/plain": [
       "<Figure size 432x288 with 1 Axes>"
      ]
     },
     "metadata": {
      "needs_background": "light"
     },
     "output_type": "display_data"
    }
   ],
   "source": [
    "print(y_pred.shape)                                                              # shape of a matrix\n",
    "y_pred_idx = y_pred.reshape(-1)                                                  # make the matrix a vector\n",
    "print(y_pred_idx.shape)                                                          # shape of a vector\n",
    "plt.plot(X_test[y_pred_idx, 1], X_test[y_pred_idx, 2], 'go', label=\"Positive\")   # positives\n",
    "plt.plot(X_test[~y_pred_idx, 1], X_test[~y_pred_idx, 2], 'r^', label=\"Negative\") # negatives\n",
    "plt.legend()                                                                     # add a legend\n",
    "plt.show()                                                                       # show the plot"
   ]
  },
  {
   "cell_type": "markdown",
   "metadata": {},
   "source": [
    "Well, that looks pretty bad! However, we are using a linear model, i.e., a linear decision boundary. Taking this into account, the result is actually quite good. We continue with a linear model but from now on involve higher-order polynomials in the hope that this will lead to better results. We also add all the fancy stuff mentioned in the original exercise.<br><br>\n",
    "We start by adding higher polynomials."
   ]
  },
  {
   "cell_type": "code",
   "execution_count": 41,
   "metadata": {},
   "outputs": [
    {
     "name": "stdout",
     "output_type": "stream",
     "text": [
      "[[ 1.00000000e+00 -5.14696757e-02  4.44198631e-01  2.64912752e-03\n",
      "   1.97312424e-01 -1.36349734e-04  8.76459084e-02]\n",
      " [ 1.00000000e+00  1.03201691e+00 -4.19741157e-01  1.06505890e+00\n",
      "   1.76182639e-01  1.09915879e+00 -7.39511049e-02]\n",
      " [ 1.00000000e+00  8.67891864e-01 -2.54827114e-01  7.53236288e-01\n",
      "   6.49368582e-02  6.53727646e-01 -1.65476722e-02]\n",
      " [ 1.00000000e+00  2.88850997e-01 -4.48668621e-01  8.34348982e-02\n",
      "   2.01303531e-01  2.41002535e-02 -9.03185778e-02]\n",
      " [ 1.00000000e+00 -8.33439108e-01  5.35056649e-01  6.94620746e-01\n",
      "   2.86285618e-01 -5.78924095e-01  1.53179024e-01]]\n"
     ]
    }
   ],
   "source": [
    "X_train_enhanced = np.c_[X_train,                  # original data (including the bias term)\n",
    "                         np.square(X_train[:, 1]), # squares ...\n",
    "                         np.square(X_train[:, 2]), # ... without mixing\n",
    "                         X_train[:, 1] ** 3,       # cubics ...\n",
    "                         X_train[:, 2] ** 3]       # ... without mixing\n",
    "X_test_enhanced = np.c_[X_test,                    # and the same for the features of the test set\n",
    "                        np.square(X_test[:, 1]),\n",
    "                        np.square(X_test[:, 2]),\n",
    "                        X_test[:, 1] ** 3,\n",
    "                        X_test[:, 2] ** 3]\n",
    "print(X_train_enhanced[:5])                        # print the first 5 instances"
   ]
  },
  {
   "cell_type": "markdown",
   "metadata": {},
   "source": [
    "Let's get serious! After resetting the graph, we define a function that receives a mini-batch and possibly more arguments (e.g., an initializer), performs a training step, and returns relevant data. We also build a function that returns a time-stamped log-directory. Then we consider 6 (+1) features, get a directory for saving our model, define placeholders for feeding the data to the algorithm, implement training steps, and finally save the model.<br>Now, the graph exists. Yet until now, it has not been run, yet."
   ]
  },
  {
   "cell_type": "code",
   "execution_count": 42,
   "metadata": {},
   "outputs": [
    {
     "name": "stdout",
     "output_type": "stream",
     "text": [
      "tf_logs/9_TF/logreg-exercise-20190919133634/\n"
     ]
    }
   ],
   "source": [
    "# reset the graph\n",
    "reset_graph()\n",
    "# define a function that performs a training step, makes a checkpoint, and returns relevant output.\n",
    "def logistic_regression(X, y, initializer=None, seed=42, learning_rate=0.01):\n",
    "    n_inputs_including_bias = int(X.get_shape()[1])\n",
    "    with tf.name_scope(\"logistic_regression\"):                                         # name scope\n",
    "        with tf.name_scope(\"model\"):                                                   # name scope\n",
    "            if initializer is None:                                                    # choose an initializer\n",
    "                initializer = tf.random_uniform([n_inputs_including_bias, 1], -1.0, 1.0, seed=seed)\n",
    "            theta = tf.Variable(initializer, name=\"theta\")                             # weights\n",
    "            logits = tf.matmul(X, theta, name=\"logits\")                                # prediction\n",
    "            y_proba = tf.sigmoid(logits)                                               # mapping to interval [0,1]\n",
    "        with tf.name_scope(\"train\"):                                                   # name scope\n",
    "            loss = tf.losses.log_loss(y, y_proba, scope=\"loss\")                        # loss function\n",
    "            optimizer = tf.train.GradientDescentOptimizer(learning_rate=learning_rate) # gradient descent optimizer\n",
    "            training_op = optimizer.minimize(loss)                                     # training step\n",
    "            loss_summary = tf.summary.scalar('log_loss', loss)                         # summary for records\n",
    "        with tf.name_scope(\"init\"):                                                    # name scope\n",
    "            init = tf.global_variables_initializer()                                   # initialize variables\n",
    "        with tf.name_scope(\"save\"):                                                    # name scope\n",
    "            saver = tf.train.Saver()                                                   # saving\n",
    "    return y_proba, loss, training_op, loss_summary, init, saver                       # returned data\n",
    "# define a function that returns a path for checkpoint files\n",
    "def log_dir(prefix=\"\"):\n",
    "    now = datetime.utcnow().strftime(\"%Y%m%d%H%M%S\")\n",
    "    root_logdir = \"tf_logs/9_TF\"\n",
    "    if prefix:\n",
    "        prefix += \"-\"\n",
    "    name = prefix + \"exercise-\" + now\n",
    "    return \"{}/{}/\".format(root_logdir, name)\n",
    "# with quadratic and cubic (no interference terms) features, we have 4+2=6 inputs (+1 for the bias term, see X below)\n",
    "n_inputs = 2 + 4\n",
    "# directory for saving the model\n",
    "logdir = log_dir(\"logreg\")\n",
    "print(logdir)\n",
    "# define placeholders for feeding data to the algorithm\n",
    "X = tf.placeholder(tf.float32, shape=(None, n_inputs + 1), name=\"X\")\n",
    "y = tf.placeholder(tf.float32, shape=(None, 1), name=\"y\")\n",
    "# perform a training step\n",
    "y_proba, loss, training_op, loss_summary, init, saver = logistic_regression(X, y)\n",
    "# build a file_writer via tf.summary.FileWriter\n",
    "file_writer = tf.summary.FileWriter(logdir, tf.get_default_graph())"
   ]
  },
  {
   "cell_type": "markdown",
   "metadata": {},
   "source": [
    "Let's run it now!"
   ]
  },
  {
   "cell_type": "code",
   "execution_count": 43,
   "metadata": {},
   "outputs": [
    {
     "name": "stdout",
     "output_type": "stream",
     "text": [
      "Epoch: 0 \tLoss: 0.629985\n",
      "Epoch: 500 \tLoss: 0.16122364\n",
      "Epoch: 1000 \tLoss: 0.1190321\n",
      "Epoch: 1500 \tLoss: 0.097329214\n",
      "Epoch: 2000 \tLoss: 0.08369793\n",
      "Epoch: 2500 \tLoss: 0.074375816\n",
      "Epoch: 3000 \tLoss: 0.06750215\n",
      "Epoch: 3500 \tLoss: 0.062206898\n",
      "Epoch: 4000 \tLoss: 0.058026794\n",
      "Epoch: 4500 \tLoss: 0.054562975\n",
      "Epoch: 5000 \tLoss: 0.051708292\n",
      "Epoch: 5500 \tLoss: 0.049237743\n",
      "Epoch: 6000 \tLoss: 0.047167286\n",
      "Epoch: 6500 \tLoss: 0.04537664\n",
      "Epoch: 7000 \tLoss: 0.043818746\n",
      "Epoch: 7500 \tLoss: 0.04237422\n",
      "Epoch: 8000 \tLoss: 0.041089162\n",
      "Epoch: 8500 \tLoss: 0.039970912\n",
      "Epoch: 9000 \tLoss: 0.038920246\n",
      "Epoch: 9500 \tLoss: 0.038010743\n",
      "Epoch: 10000 \tLoss: 0.037155695\n"
     ]
    }
   ],
   "source": [
    "# remaining import\n",
    "import os\n",
    "# planning the mini-batches\n",
    "n_epochs = 10001\n",
    "batch_size = 50\n",
    "n_batches = int(np.ceil(m / batch_size))\n",
    "# paths for saving stuff\n",
    "checkpoint_path = \"./tf_logs/9_TF/tmp/my_logreg_model.ckpt\"\n",
    "checkpoint_epoch_path = checkpoint_path + \".epoch\"\n",
    "final_model_path = \"./tf_logs/9_TF/my_logreg_model\"\n",
    "# run the graph\n",
    "with tf.Session() as sess:\n",
    "    # resume training where it stopped previously ...\n",
    "    if os.path.isfile(checkpoint_epoch_path): # if a checkpoint exists, restore that model and load its epoch number\n",
    "        with open(checkpoint_epoch_path, \"rb\") as f:\n",
    "            start_epoch = int(f.read())\n",
    "        print(\"Training was interrupted. Continuing at epoch\", start_epoch)\n",
    "        saver.restore(sess, checkpoint_path)\n",
    "    # ... or start over if no chekpoint is available\n",
    "    else:\n",
    "        start_epoch = 0\n",
    "        sess.run(init)\n",
    "    # loop through expchs\n",
    "    for epoch in range(start_epoch, n_epochs):\n",
    "        # loop through batches and save current model\n",
    "        for batch_index in range(n_batches):\n",
    "            X_batch, y_batch = random_batch(X_train_enhanced, y_train, batch_size)\n",
    "            sess.run(training_op, feed_dict={X: X_batch, y: y_batch})\n",
    "        loss_val, summary_str = sess.run([loss, loss_summary], feed_dict={X: X_test_enhanced, y: y_test})\n",
    "        file_writer.add_summary(summary_str, epoch)\n",
    "        # every 500 epochs, print the current epoch and update the check point\n",
    "        if epoch % 500 == 0:\n",
    "            print(\"Epoch:\", epoch, \"\\tLoss:\", loss_val)\n",
    "            saver.save(sess, checkpoint_path)\n",
    "            with open(checkpoint_epoch_path, \"wb\") as f:\n",
    "                f.write(b\"%d\" % (epoch + 1))\n",
    "    # save final model and delete checkpoints            \n",
    "    saver.save(sess, final_model_path)\n",
    "    y_proba_val = y_proba.eval(feed_dict={X: X_test_enhanced, y: y_test})\n",
    "    os.remove(checkpoint_epoch_path)\n"
   ]
  },
  {
   "cell_type": "markdown",
   "metadata": {},
   "source": [
    "With the higher order features, the predictions are much, much better than before."
   ]
  },
  {
   "cell_type": "code",
   "execution_count": 44,
   "metadata": {},
   "outputs": [
    {
     "name": "stdout",
     "output_type": "stream",
     "text": [
      "0.9797979797979798\n",
      "0.9797979797979798\n"
     ]
    },
    {
     "data": {
      "image/png": "[encoded data removed]",
      "text/plain": [
       "<Figure size 432x288 with 1 Axes>"
      ]
     },
     "metadata": {
      "needs_background": "light"
     },
     "output_type": "display_data"
    }
   ],
   "source": [
    "y_pred = (y_proba_val >= 0.5)          # binary classification\n",
    "print(precision_score(y_test, y_pred)) # precision on test set\n",
    "print(recall_score(y_test, y_pred))    # recall on test set\n",
    "y_pred_idx = y_pred.reshape(-1)        # bring predictions in the right shape\n",
    "# plot the predictions\n",
    "plt.plot(X_test[y_pred_idx, 1], X_test[y_pred_idx, 2], 'go', label=\"Positive\")\n",
    "plt.plot(X_test[~y_pred_idx, 1], X_test[~y_pred_idx, 2], 'r^', label=\"Negative\")\n",
    "plt.legend()\n",
    "plt.show()"
   ]
  },
  {
   "cell_type": "markdown",
   "metadata": {},
   "source": [
    "Now, we also play around with some hyperparameters, which is the last item on our to-do list. The \"reciprocal\" function from \"scipy.stats\" is usefule when exploring an unknown parameter range. See https://docs.scipy.org/doc/scipy/reference/generated/scipy.stats.reciprocal.html for details."
   ]
  },
  {
   "cell_type": "code",
   "execution_count": 45,
   "metadata": {},
   "outputs": [
    {
     "name": "stdout",
     "output_type": "stream",
     "text": [
      "Iteration 0\n",
      "  logdir: tf_logs/9_TF/logreg-exercise-20190919134554/\n",
      "  batch size: 54\n",
      "  learning_rate: 0.004430375245218265\n",
      "  training: .....................\n",
      "  precision: 0.9797979797979798\n",
      "  recall: 0.9797979797979798\n",
      "Iteration 1\n",
      "  logdir: tf_logs/9_TF/logreg-exercise-20190919135503/\n",
      "  batch size: 22\n",
      "  learning_rate: 0.0017826497151386947\n",
      "  training: .....................\n",
      "  precision: 0.9797979797979798\n",
      "  recall: 0.9797979797979798\n",
      "Iteration 2\n",
      "  logdir: tf_logs/9_TF/logreg-exercise-20190919141355/\n",
      "  batch size: 74\n",
      "  learning_rate: 0.00203228544324115\n",
      "  training: .....................\n",
      "  precision: 0.9696969696969697\n",
      "  recall: 0.9696969696969697\n",
      "Iteration 3\n",
      "  logdir: tf_logs/9_TF/logreg-exercise-20190919141925/\n",
      "  batch size: 58\n",
      "  learning_rate: 0.004491523825137997\n",
      "  training: .....................\n",
      "  precision: 0.9797979797979798\n",
      "  recall: 0.9797979797979798\n",
      "Iteration 4\n",
      "  logdir: tf_logs/9_TF/logreg-exercise-20190919142629/\n",
      "  batch size: 61\n",
      "  learning_rate: 0.07963234721775589\n",
      "  training: .....................\n",
      "  precision: 0.9801980198019802\n",
      "  recall: 1.0\n",
      "Iteration 5\n",
      "  logdir: tf_logs/9_TF/logreg-exercise-20190919143317/\n",
      "  batch size: 92\n",
      "  learning_rate: 0.0004634250583294876\n",
      "  training: .....................\n",
      "  precision: 0.912621359223301\n",
      "  recall: 0.9494949494949495\n",
      "Iteration 6\n",
      "  logdir: tf_logs/9_TF/logreg-exercise-20190919143905/\n",
      "  batch size: 74\n",
      "  learning_rate: 0.047706818419354494\n",
      "  training: .....................\n",
      "  precision: 0.98\n",
      "  recall: 0.98989898989899\n",
      "Iteration 7\n",
      "  logdir: tf_logs/9_TF/logreg-exercise-20190919144553/\n",
      "  batch size: 58\n",
      "  learning_rate: 0.0001694044709524274\n",
      "  training: .....................\n",
      "  precision: 0.9\n",
      "  recall: 0.9090909090909091\n",
      "Iteration 8\n",
      "  logdir: tf_logs/9_TF/logreg-exercise-20190919145408/\n",
      "  batch size: 61\n",
      "  learning_rate: 0.04171461199412461\n",
      "  training: .....................\n",
      "  precision: 0.9801980198019802\n",
      "  recall: 1.0\n",
      "Iteration 9\n",
      "  logdir: tf_logs/9_TF/logreg-exercise-20190919150420/\n",
      "  batch size: 92\n",
      "  learning_rate: 0.00010742922968438615\n",
      "  training: .....................\n",
      "  precision: 0.8823529411764706\n",
      "  recall: 0.7575757575757576\n"
     ]
    }
   ],
   "source": [
    "# use the reciprocal function for efficient random exploration of a vast parameter range\n",
    "# link: https://docs.scipy.org/doc/scipy/reference/generated/scipy.stats.reciprocal.html\n",
    "from scipy.stats import reciprocal\n",
    "# determine the number of training iterations and loop through them\n",
    "n_search_iterations = 10\n",
    "for search_iteration in range(n_search_iterations):\n",
    "    # determine characteristics of the current training iterations (some of them are random)\n",
    "    batch_size = np.random.randint(1, 100)\n",
    "    learning_rate = reciprocal(0.0001, 0.1).rvs(random_state=search_iteration)\n",
    "    n_inputs = 2 + 4\n",
    "    logdir = log_dir(\"logreg\")\n",
    "    # show characteristics of the current training iteration\n",
    "    print(\"Iteration\", search_iteration)\n",
    "    print(\"  logdir:\", logdir)\n",
    "    print(\"  batch size:\", batch_size)\n",
    "    print(\"  learning_rate:\", learning_rate)\n",
    "    print(\"  training: \", end=\"\")\n",
    "    # reset the graph and build a new one (including a file writer)\n",
    "    reset_graph()\n",
    "    X = tf.placeholder(tf.float32, shape=(None, n_inputs + 1), name=\"X\")\n",
    "    y = tf.placeholder(tf.float32, shape=(None, 1), name=\"y\")\n",
    "    y_proba, loss, training_op, loss_summary, init, saver = logistic_regression(\n",
    "        X, y, learning_rate=learning_rate)\n",
    "    file_writer = tf.summary.FileWriter(logdir, tf.get_default_graph())\n",
    "    # number of epochs and batches\n",
    "    n_epochs = 10001\n",
    "    n_batches = int(np.ceil(m / batch_size))\n",
    "    # file path for the final model (note the dependence on \"search_iteration\")\n",
    "    final_model_path = \"./tf_logs/9_TF/my_logreg_model_%d\" % search_iteration\n",
    "    # run a tf session\n",
    "    with tf.Session() as sess:\n",
    "        sess.run(init)\n",
    "        # loop through epochs\n",
    "        for epoch in range(n_epochs):\n",
    "            # loop through batches\n",
    "            for batch_index in range(n_batches):\n",
    "                # build a mini-batch and feed it to the algorithm so it can make a training step\n",
    "                X_batch, y_batch = random_batch(X_train_enhanced, y_train, batch_size)\n",
    "                sess.run(training_op, feed_dict={X: X_batch, y: y_batch})\n",
    "            # get a summary and save it (\"loss_val\" is not used below)\n",
    "            loss_val, summary_str = sess.run([loss, loss_summary], feed_dict={X: X_test_enhanced, y: y_test})\n",
    "            file_writer.add_summary(summary_str, epoch)\n",
    "            # print a dot every 500 epochs without changing the line\n",
    "            if epoch % 500 == 0:\n",
    "                print(\".\", end=\"\")\n",
    "        # save the final model\n",
    "        saver.save(sess, final_model_path)\n",
    "        # make predictions\n",
    "        y_proba_val = y_proba.eval(feed_dict={X: X_test_enhanced, y: y_test})\n",
    "        y_pred = (y_proba_val >= 0.5)\n",
    "        # go to a new line and then print precision and recall scors\n",
    "        print()\n",
    "        print(\"  precision:\", precision_score(y_test, y_pred))\n",
    "        print(\"  recall:\", recall_score(y_test, y_pred))"
   ]
  },
  {
   "cell_type": "markdown",
   "metadata": {},
   "source": [
    "The above output may help with finding hyperparamters that return good results."
   ]
  }
 ],
 "metadata": {
  "kernelspec": {
   "display_name": "Python 3",
   "language": "python",
   "name": "python3"
  },
  "language_info": {
   "codemirror_mode": {
    "name": "ipython",
    "version": 3
   },
   "file_extension": ".py",
   "mimetype": "text/x-python",
   "name": "python",
   "nbconvert_exporter": "python",
   "pygments_lexer": "ipython3",
   "version": "3.6.9"
  }
 },
 "nbformat": 4,
 "nbformat_minor": 2
}
