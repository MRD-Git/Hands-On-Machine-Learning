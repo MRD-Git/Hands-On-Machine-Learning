{
 "cells": [
  {
   "cell_type": "markdown",
   "metadata": {},
   "source": [
    "# Autoencoders\n",
    "page 415<br>\n",
    "For details, see\n",
    "- https://github.com/ageron/handson-ml/blob/master/15_autoencoders.ipynb,\n",
    "- https://stackoverflow.com/questions/10019456/usage-of-sys-stdout-flush-method,\n",
    "- https://en.wikipedia.org/wiki/Matryoshka_doll,\n",
    "- https://wiseodd.github.io/techblog/2016/12/10/variational-autoencoder,\n",
    "- https://datascience.stackexchange.com/questions/35741/latent-loss-in-variational-autoencoder-drowns-generative-loss, and\n",
    "- the annotated document \"LatentLoss_VAE.pdf\".\n",
    "\n",
    "Autoencoders are artificial neural networks that learn low-dimensional representations – **codings** - of input data without supervision (the training set is unlabeled). The codings are useful for **dimensionality reductions** and for **unsupervised pretraining** of other deep neural networks. They can also be used as **generative models** that randomly produce data similar to the training data.\n",
    "\n",
    "Given an input, autoencoders return at best that input as output. The point is to do this under certain constraints, i.e., with reduced dimensions or with random noise. Autoencoders thus need to learn the patterns that are found in the training data. The codings are the byproduct of an autoencder's attempt to learn the **identity operation**.\n",
    "## Efficient Data Representations\n",
    "page 416<br>\n",
    "Consider the following two sequences.\n",
    "- 40, 27, 25, 36, 81, 57, 10, 73, 19, 68\n",
    "- 50, 25, 76, 38, 19, 58, 29, 88, 44, 22, 11, 34, 17, 52, 26, 13, 40, 20\n",
    "\n",
    "Naïvely, the first sequence should be easier to reproduce since it is shorter and thus easier to memorize than the second sequence. But the second sequence follows an easy pattern: even number are followed by their half and odd numbers by their triple plus 1. So to reproduce the second sequence one only needs to memorize the rules, the initial number, and the length of the sequence. By constraining autoencoders in certain ways, they are forced to find such patterns instead of just copying the input to the output.<br>\n",
    "In the early 1970s, William Chase and Herbert Simon found that expert chess players could memorize the positions of all chess figures by looking at the board for only about 5 seconds. But only for realistic configurations – not for impossible ones. So expert players can't necessarily memorize more, they just know the rules much better and use that information to restore the board's configuration (https://goo.gl/kSNcX0).<br>\n",
    "In order to have autoencoders learn patterns from data and then recreate the data from the data (much like the chess players), they consist of an **encoder** (or **recognition network**) and a **decoder** (or **generative network**). A simple example for an autoencoder is a Mulit-Layer Perceptron (MLP, chapter 10) where the number of outputs equals the number of inputs and the only hidden layer has less neurons than the input (and output) layer. An autoencoder's output is sometimes referred to as its **reconstruction** and for training, the cost function contains a **reconstruction loss** to penalize reconstructions that differ from the input. An autoencoder that cannot copy its input to its output because of a *dimensionality bottleneck* (as just described) is called **undercomplete**. (And for autoencoders, undercompleteness is not a bad thing.)\n",
    "## Performing PCA with an Undercomplete Linear Autoencoder\n",
    "page 417<br>\n",
    "If the undercomplete autoencoder uses linear activation functions and the mean squared error as a cost function, then it can be shown that it ends up doing Principal Component Analysis (PCA, see chapter 8). With additional code from github, this is easy to do."
   ]
  },
  {
   "cell_type": "code",
   "execution_count": 1,
   "metadata": {},
   "outputs": [
    {
     "name": "stderr",
     "output_type": "stream",
     "text": [
      "/anaconda3/lib/python3.6/site-packages/tensorflow/python/framework/dtypes.py:493: FutureWarning: Passing (type, 1) or '1type' as a synonym of type is deprecated; in a future version of numpy, it will be understood as (type, (1,)) / '(1,)type'.\n",
      "  _np_qint8 = np.dtype([(\"qint8\", np.int8, 1)])\n",
      "/anaconda3/lib/python3.6/site-packages/tensorflow/python/framework/dtypes.py:494: FutureWarning: Passing (type, 1) or '1type' as a synonym of type is deprecated; in a future version of numpy, it will be understood as (type, (1,)) / '(1,)type'.\n",
      "  _np_quint8 = np.dtype([(\"quint8\", np.uint8, 1)])\n",
      "/anaconda3/lib/python3.6/site-packages/tensorflow/python/framework/dtypes.py:495: FutureWarning: Passing (type, 1) or '1type' as a synonym of type is deprecated; in a future version of numpy, it will be understood as (type, (1,)) / '(1,)type'.\n",
      "  _np_qint16 = np.dtype([(\"qint16\", np.int16, 1)])\n",
      "/anaconda3/lib/python3.6/site-packages/tensorflow/python/framework/dtypes.py:496: FutureWarning: Passing (type, 1) or '1type' as a synonym of type is deprecated; in a future version of numpy, it will be understood as (type, (1,)) / '(1,)type'.\n",
      "  _np_quint16 = np.dtype([(\"quint16\", np.uint16, 1)])\n",
      "/anaconda3/lib/python3.6/site-packages/tensorflow/python/framework/dtypes.py:497: FutureWarning: Passing (type, 1) or '1type' as a synonym of type is deprecated; in a future version of numpy, it will be understood as (type, (1,)) / '(1,)type'.\n",
      "  _np_qint32 = np.dtype([(\"qint32\", np.int32, 1)])\n",
      "/anaconda3/lib/python3.6/site-packages/tensorflow/python/framework/dtypes.py:502: FutureWarning: Passing (type, 1) or '1type' as a synonym of type is deprecated; in a future version of numpy, it will be understood as (type, (1,)) / '(1,)type'.\n",
      "  np_resource = np.dtype([(\"resource\", np.ubyte, 1)])\n"
     ]
    },
    {
     "name": "stdout",
     "output_type": "stream",
     "text": [
      "(100, 3) (100, 3)\n"
     ]
    }
   ],
   "source": [
    "# imports and other useful things\n",
    "%matplotlib inline\n",
    "import matplotlib\n",
    "import matplotlib.pyplot as plt\n",
    "import numpy as np\n",
    "import numpy.random as rnd\n",
    "import tensorflow as tf\n",
    "from sklearn.preprocessing import StandardScaler\n",
    "plt.rcParams['axes.labelsize'] = 14\n",
    "plt.rcParams['xtick.labelsize'] = 12\n",
    "plt.rcParams['ytick.labelsize'] = 12\n",
    "def reset_graph(seed=42):\n",
    "    tf.reset_default_graph()\n",
    "    tf.set_random_seed(seed)\n",
    "    np.random.seed(seed)\n",
    "# build 3D dataset\n",
    "rnd.seed(42)\n",
    "m = 200                                    # instances\n",
    "w1, w2 = 0.1, 0.3                          # weights\n",
    "noise = 0.1                                # noise strength\n",
    "angles = rnd.rand(m) * 3 * np.pi / 2 - 0.5 # m random angles\n",
    "data = np.empty((m, 3))                    # 3-dimensional data\n",
    "data[:, 0] = np.cos(angles) + np.sin(angles)/2 + noise * rnd.randn(m) / 2 # dimensions 1, ...\n",
    "data[:, 1] = np.sin(angles) * 0.7 + noise * rnd.randn(m) / 2              # ... 2, and ...\n",
    "data[:, 2] = data[:, 0] * w1 + data[:, 1] * w2 + noise * rnd.randn(m)     # ... 3 are based on the same data (+ noise)\n",
    "# normalize data and make training and test sets\n",
    "scaler = StandardScaler()\n",
    "X_train = scaler.fit_transform(data[:100]) # train and apply the StandardScaler instance on the training data\n",
    "X_test = scaler.transform(data[100:])      # apply it on the test data\n",
    "print(X_train.shape, X_test.shape)         # print the dataset shapes"
   ]
  },
  {
   "cell_type": "markdown",
   "metadata": {},
   "source": [
    "After the usual helper and import commands and the creation of the dataset, we now construct a simple undercomplete autoencoder, train it, and display its codings (which we obtain after training is complete)."
   ]
  },
  {
   "cell_type": "code",
   "execution_count": 2,
   "metadata": {},
   "outputs": [
    {
     "data": {
      "image/png": "[encoded data removed]",
      "text/plain": [
       "<Figure size 288x216 with 1 Axes>"
      ]
     },
     "metadata": {
      "needs_background": "light"
     },
     "output_type": "display_data"
    }
   ],
   "source": [
    "reset_graph()        # always a good idea\n",
    "n_inputs = 3         # 3D inputs\n",
    "n_hidden = 2         # 2D codings\n",
    "n_outputs = n_inputs # 3D outputs\n",
    "learning_rate = 0.01 # learning rate\n",
    "n_iterations = 1000  # training iterations\n",
    "# constuction phase\n",
    "X = tf.placeholder(tf.float32, shape=[None, n_inputs])       # 3D input layer\n",
    "hidden = tf.layers.dense(X, n_hidden)                        # 2D hidden layer\n",
    "outputs = tf.layers.dense(hidden, n_outputs)                 # 3D output layer\n",
    "reconstruction_loss = tf.reduce_mean(tf.square(outputs - X)) # mean squared error\n",
    "optimizer = tf.train.AdamOptimizer(learning_rate)            # optimizer\n",
    "training_op = optimizer.minimize(reconstruction_loss)        # specify training operation\n",
    "init = tf.global_variables_initializer()                     # initializer\n",
    "codings = hidden                                             # we will want to check the codings\n",
    "# execution phae\n",
    "with tf.Session() as sess:                            # start a tensorflow session\n",
    "    init.run()                                        # initialize the variables\n",
    "    for iteration in range(n_iterations):             # loop over iterations\n",
    "        training_op.run(feed_dict={X: X_train})       # no labels: the autoencoder just tries to recreate the input\n",
    "    codings_val = codings.eval(feed_dict={X: X_test}) # training complete: time to get the codings for the test set\n",
    "# show codings (2D)\n",
    "fig = plt.figure(figsize=(4,3))\n",
    "plt.plot(codings_val[:,0], codings_val[:, 1], \"b.\")\n",
    "plt.xlabel(\"$z_1$\", fontsize=18)\n",
    "plt.ylabel(\"$z_2$\", fontsize=18, rotation=0)\n",
    "plt.show()"
   ]
  },
  {
   "cell_type": "markdown",
   "metadata": {},
   "source": [
    "As is clear from Figure 15-2 in the book (on page 419), the above **plot shows the two principal components** with the largest variance, thus **preserving as much information as possible**.\n",
    "## Stacked Autoencoders\n",
    "page 419<br>\n",
    "Like other neural networks, autoencoders may have multiple hidden layers. More hidden layers make the autoencoder more powerful. However, one must pay attention not to make the autoencoder too powerful. That could be the case if the autoencoder can easily reproduce the inputs by assigning numbers to them such that the encoder assigns different instances different numbers and the decoder simply inverts this. The architecture of a autoencoders is usually symmetrical. For example, an MNIST autoencoder might have 784 input [output] neurons, 300 neurons in the following [preceding] layer, and 150 neurons in the central / codings layer.\n",
    "### TensorFlow Implementation\n",
    "page 420<br>\n",
    "The following code implements an autoencoder for MNIST as described above. It should look fairly familiar but for the fact that there are no labels (no `y`)."
   ]
  },
  {
   "cell_type": "code",
   "execution_count": 3,
   "metadata": {},
   "outputs": [
    {
     "name": "stdout",
     "output_type": "stream",
     "text": [
      "Extracting /tmp/data/train-images-idx3-ubyte.gz\n",
      "Extracting /tmp/data/train-labels-idx1-ubyte.gz\n",
      "Extracting /tmp/data/t10k-images-idx3-ubyte.gz\n",
      "Extracting /tmp/data/t10k-labels-idx1-ubyte.gz\n",
      "0 Train MSE: 0.020401113\n",
      "1 Train MSE: 0.01141915\n",
      "2 Train MSE: 0.010222081\n",
      "3 Train MSE: 0.009899909\n",
      "4 Train MSE: 0.010372396\n"
     ]
    }
   ],
   "source": [
    "# further imports\n",
    "import sys\n",
    "from functools import partial\n",
    "from tensorflow.examples.tutorials.mnist import input_data\n",
    "mnist = input_data.read_data_sets(\"/tmp/data/\")\n",
    "### construction phase\n",
    "reset_graph()\n",
    "# architecture\n",
    "n_inputs = 28 * 28 # 784 neurons for MNIST\n",
    "n_hidden1 = 300\n",
    "n_hidden2 = 150    # codings\n",
    "n_hidden3 = n_hidden1\n",
    "n_outputs = n_inputs\n",
    "# training details\n",
    "n_epochs = 5\n",
    "batch_size = 150\n",
    "learning_rate = 0.01\n",
    "l2_reg = 0.0001\n",
    "# building\n",
    "he_init = tf.contrib.layers.variance_scaling_initializer()\n",
    "l2_regularizer = tf.contrib.layers.l2_regularizer(l2_reg)\n",
    "my_dense_layer = partial(tf.layers.dense, activation=tf.nn.elu,\n",
    "                         kernel_initializer=he_init, kernel_regularizer=l2_regularizer)\n",
    "X = tf.placeholder(tf.float32, shape=[None, n_inputs])\n",
    "hidden1 = my_dense_layer(X, n_hidden1)\n",
    "hidden2 = my_dense_layer(hidden1, n_hidden2)                       # codings\n",
    "hidden3 = my_dense_layer(hidden2, n_hidden3)\n",
    "outputs = my_dense_layer(hidden3, n_outputs, activation=None)\n",
    "reconstruction_loss = tf.reduce_mean(tf.square(outputs - X))       # MSE (the input shall be reconstructed)\n",
    "reg_losses = tf.get_collection(tf.GraphKeys.REGULARIZATION_LOSSES) # get the regularization losses and add them to ...\n",
    "loss = tf.add_n([reconstruction_loss] + reg_losses)                # ... the MSE to get the total loss\n",
    "optimizer = tf.train.AdamOptimizer(learning_rate)\n",
    "training_op = optimizer.minimize(loss)\n",
    "init = tf.global_variables_initializer()\n",
    "saver = tf.train.Saver()                                           # saver node (not in book)\n",
    "### execution phase\n",
    "with tf.Session() as sess:\n",
    "    init.run()\n",
    "    for epoch in range(n_epochs):\n",
    "        n_batches = mnist.train.num_examples // batch_size\n",
    "        for iteration in range(n_batches):\n",
    "            print(\"\\r{}%\".format(100 * iteration // n_batches), end=\"\")       # from github\n",
    "            sys.stdout.flush()                                                # see contribution of \"Andrew Clark\" ...\n",
    "            # ... on https://stackoverflow.com/questions/10019456/usage-of-sys-stdout-flush-method\n",
    "            # the above command seems to be unnecessary on macOS but might be needed on other systems\n",
    "            X_batch, y_batch = mnist.train.next_batch(batch_size)\n",
    "            sess.run(training_op, feed_dict={X: X_batch})                     # y_batch not needed for autoencoder\n",
    "        loss_train = reconstruction_loss.eval(feed_dict={X: X_batch})         # training loss of this epoch\n",
    "        print(\"\\r{}\".format(epoch), \"Train MSE:\", loss_train)                 # print training loss\n",
    "        saver.save(sess, \"./tf_logs/15_AEs/1_MNIST/my_model_all_layers.ckpt\") # save current model"
   ]
  },
  {
   "cell_type": "markdown",
   "metadata": {},
   "source": [
    "Nice. All of this works as expected. Now, we will visualize the original (left) and reconstructed digits (right) using further helper functions shown on the github link further above."
   ]
  },
  {
   "cell_type": "code",
   "execution_count": 4,
   "metadata": {},
   "outputs": [
    {
     "name": "stdout",
     "output_type": "stream",
     "text": [
      "INFO:tensorflow:Restoring parameters from ./tf_logs/15_AEs/1_MNIST/my_model_all_layers.ckpt\n"
     ]
    },
    {
     "data": {
      "image/png": "[encoded data removed]",
      "text/plain": [
       "<Figure size 576x432 with 4 Axes>"
      ]
     },
     "metadata": {
      "needs_background": "light"
     },
     "output_type": "display_data"
    }
   ],
   "source": [
    "# show in MNIST instance in grayscale\n",
    "def plot_image(image, shape=[28, 28]):\n",
    "    plt.imshow(image.reshape(shape), cmap=\"Greys\", interpolation=\"nearest\")\n",
    "    plt.axis(\"off\")\n",
    "# show original and reconstructed digits for n_test_digits instances\n",
    "def show_reconstructed_digits(X, outputs, model_path=None, n_test_digits=2):\n",
    "    # obtain output from session\n",
    "    with tf.Session() as sess:\n",
    "        # restore model if path is provided\n",
    "        if model_path:\n",
    "            saver.restore(sess, model_path)\n",
    "        X_test = mnist.test.images[:n_test_digits]\n",
    "        outputs_val = outputs.eval(feed_dict={X: X_test})\n",
    "    # make plots of original and reconstruction for every \"digit_index\"\n",
    "    fig = plt.figure(figsize=(8, 3 * n_test_digits))\n",
    "    for digit_index in range(n_test_digits):\n",
    "        plt.subplot(n_test_digits, 2, digit_index * 2 + 1)\n",
    "        plot_image(X_test[digit_index])\n",
    "        plt.subplot(n_test_digits, 2, digit_index * 2 + 2)\n",
    "        plot_image(outputs_val[digit_index])\n",
    "# apply the above function to instances of the trained model\n",
    "show_reconstructed_digits(X, outputs, \"./tf_logs/15_AEs/1_MNIST/my_model_all_layers.ckpt\")"
   ]
  },
  {
   "cell_type": "markdown",
   "metadata": {},
   "source": [
    "### Tying Weights\n",
    "page 421<br>\n",
    "When an autoencoder is indeed symmetrical – just like the one above – a common and meaningful thing to do is to **tie the weights** of the decoder to those of the encoder in a way that reflects that symmetry. The manual implementation with TensorFlow is a bit verbose (it uses unusually much code) but – in this case – still more convenient than relying on TensorFlow's `dense()` layer function."
   ]
  },
  {
   "cell_type": "code",
   "execution_count": 5,
   "metadata": {},
   "outputs": [
    {
     "name": "stdout",
     "output_type": "stream",
     "text": [
      "0 Train MSE: 0.015067337\n",
      "1 Train MSE: 0.017049927\n",
      "2 Train MSE: 0.017900065\n",
      "3 Train MSE: 0.017234083\n",
      "4 Train MSE: 0.015850084\n"
     ]
    }
   ],
   "source": [
    "### construction\n",
    "# architecture\n",
    "reset_graph()\n",
    "n_inputs = 28 * 28 # 784 MNIST\n",
    "n_hidden1 = 300\n",
    "n_hidden2 = 150    # codings\n",
    "n_hidden3 = n_hidden1\n",
    "n_outputs = n_inputs\n",
    "# training details\n",
    "learning_rate = 0.01\n",
    "l2_reg = 0.0005\n",
    "n_epochs = 5\n",
    "batch_size = 150\n",
    "# definitions\n",
    "activation = tf.nn.elu\n",
    "regularizer = tf.contrib.layers.l2_regularizer(l2_reg)\n",
    "initializer = tf.contrib.layers.variance_scaling_initializer()\n",
    "# weights\n",
    "weights1_init = initializer([n_inputs, n_hidden1])\n",
    "weights2_init = initializer([n_hidden1, n_hidden2])\n",
    "weights1 = tf.Variable(weights1_init, dtype=tf.float32, name=\"weights1\")\n",
    "weights2 = tf.Variable(weights2_init, dtype=tf.float32, name=\"weights2\")\n",
    "weights3 = tf.transpose(weights2, name=\"weights3\")\n",
    "weights4 = tf.transpose(weights1, name=\"weights4\")\n",
    "# biases\n",
    "biases1 = tf.Variable(tf.zeros(n_hidden1), name=\"biases1\")\n",
    "biases2 = tf.Variable(tf.zeros(n_hidden2), name=\"biases2\")\n",
    "biases3 = tf.Variable(tf.zeros(n_hidden3), name=\"biases3\")\n",
    "biases4 = tf.Variable(tf.zeros(n_outputs), name=\"biases4\")\n",
    "# layers\n",
    "X = tf.placeholder(tf.float32, shape=[None, n_inputs])\n",
    "hidden1 = activation(tf.matmul(X, weights1) + biases1)\n",
    "hidden2 = activation(tf.matmul(hidden1, weights2) + biases2)\n",
    "hidden3 = activation(tf.matmul(hidden2, weights3) + biases3)\n",
    "outputs = tf.matmul(hidden3, weights4) + biases4\n",
    "# cost function\n",
    "reconstruction_loss = tf.reduce_mean(tf.square(outputs - X))\n",
    "reg_loss = regularizer(weights1) + regularizer(weights2)\n",
    "loss = reconstruction_loss + reg_loss\n",
    "# training step\n",
    "optimizer = tf.train.AdamOptimizer(learning_rate)\n",
    "training_op = optimizer.minimize(loss)\n",
    "# initializer and saver\n",
    "init = tf.global_variables_initializer()\n",
    "saver = tf.train.Saver()\n",
    "### execution\n",
    "with tf.Session() as sess:\n",
    "    init.run()\n",
    "    for epoch in range(n_epochs):\n",
    "        n_batches = mnist.train.num_examples // batch_size\n",
    "        for iteration in range(n_batches):\n",
    "            print(\"\\r{}%\".format(100 * iteration // n_batches), end=\"\")\n",
    "            sys.stdout.flush()\n",
    "            X_batch, y_batch = mnist.train.next_batch(batch_size)\n",
    "            sess.run(training_op, feed_dict={X: X_batch})\n",
    "        loss_train = reconstruction_loss.eval(feed_dict={X: X_batch})\n",
    "        print(\"\\r{}\".format(epoch), \"Train MSE:\", loss_train)\n",
    "        saver.save(sess, \"./tf_logs/15_AEs/2_Tying/my_model_tying_weights.ckpt\")"
   ]
  },
  {
   "cell_type": "markdown",
   "metadata": {},
   "source": [
    "A few things are worth pointing out, here:\n",
    "- Both `weights3` and `weights4` are not variables because they are tied to `weights2` and `weights1`, respectively.\n",
    "- Since they are no variables, there is no point in regularizing them.\n",
    "- Biases are never tied and never regularized.\n",
    "\n",
    "### Training One Autoencoder at a Time\n",
    "page 422<br>\n",
    "Symmetric autoencoders with $1+2n$ hidden layers (*stacked* autoencoders) can be interpreted as autoencoders of autencoders, much like **Matryoshka dolls** (see link above). Consequently, the autoencoders of autoencoders can be trained one at a time. This way, very deep autoencoders can be trained. And it can be done in different fashions: with different graphs or with one and the same graph but different training phases. The first option is not shown in the book but we shall reproduce it here."
   ]
  },
  {
   "cell_type": "code",
   "execution_count": 6,
   "metadata": {},
   "outputs": [
    {
     "name": "stdout",
     "output_type": "stream",
     "text": [
      "0 Train MSE: 0.018517498\n",
      "1 Train MSE: 0.01868246\n",
      "2 Train MSE: 0.018467506\n",
      "0 Train MSE: 0.0044959383\n",
      "1 Train MSE: 0.004276294\n",
      "2 Train MSE: 0.0048194486\n",
      "3 Train MSE: 0.004666596\n",
      "4 Train MSE: 0.004436274\n"
     ]
    },
    {
     "data": {
      "image/png": "[encoded data removed]",
      "text/plain": [
       "<Figure size 576x432 with 4 Axes>"
      ]
     },
     "metadata": {
      "needs_background": "light"
     },
     "output_type": "display_data"
    }
   ],
   "source": [
    "# everything github\n",
    "reset_graph()\n",
    "# function that trains an autoencoder\n",
    "def train_autoencoder(X_train, n_neurons, n_epochs, batch_size, learning_rate = 0.01, l2_reg = 0.0005,\n",
    "                      seed=42, hidden_activation=tf.nn.elu, output_activation=tf.nn.elu):\n",
    "    # next is the crucial step: everytime this function is called (for every \"Matryoshka level\"), a new graph is used\n",
    "    graph = tf.Graph()              # get graph and make ...\n",
    "    with graph.as_default():        # ... it the default graph\n",
    "        tf.set_random_seed(seed)    # random seed for tensorflow\n",
    "        n_inputs = X_train.shape[1] # number of features\n",
    "        X = tf.placeholder(tf.float32, shape=[None, n_inputs]) # input layer\n",
    "        # define an own fully connected layer ...\n",
    "        my_dense_layer = partial(tf.layers.dense, kernel_initializer=tf.contrib.layers.variance_scaling_initializer(),\n",
    "                                 kernel_regularizer=tf.contrib.layers.l2_regularizer(l2_reg))\n",
    "        # ... and use it to build the coding and output layer of the current \"Matryoshka level\"\n",
    "        hidden = my_dense_layer(X, n_neurons, activation=hidden_activation, name=\"hidden\")\n",
    "        outputs = my_dense_layer(hidden, n_inputs, activation=output_activation, name=\"outputs\")\n",
    "        reconstruction_loss = tf.reduce_mean(tf.square(outputs - X))       # the reconstruction loss and the ...\n",
    "        reg_losses = tf.get_collection(tf.GraphKeys.REGULARIZATION_LOSSES) # ... regularization loss yield the ...\n",
    "        loss = tf.add_n([reconstruction_loss] + reg_losses)                # ... total cost function (as before)\n",
    "        optimizer = tf.train.AdamOptimizer(learning_rate) # optimizer\n",
    "        training_op = optimizer.minimize(loss)            # training operation\n",
    "        init = tf.global_variables_initializer()          # initializer (no saver this time)\n",
    "    with tf.Session(graph=graph) as sess: # run a session using the graph specified above\n",
    "        init.run()\n",
    "        for epoch in range(n_epochs):\n",
    "            n_batches = len(X_train) // batch_size\n",
    "            for iteration in range(n_batches):\n",
    "                print(\"\\r{}%\".format(100 * iteration // n_batches), end=\"\")\n",
    "                sys.stdout.flush()\n",
    "                indices = rnd.permutation(len(X_train))[:batch_size]\n",
    "                X_batch = X_train[indices]\n",
    "                sess.run(training_op, feed_dict={X: X_batch})\n",
    "            loss_train = reconstruction_loss.eval(feed_dict={X: X_batch})\n",
    "            print(\"\\r{}\".format(epoch), \"Train MSE:\", loss_train)\n",
    "        # get all trainable variables, in particular weights and biases\n",
    "        params = dict([(var.name, var.eval()) for var in tf.get_collection(tf.GraphKeys.TRAINABLE_VARIABLES)])\n",
    "        # cache the output of the hidden layer\n",
    "        hidden_val = hidden.eval(feed_dict={X: X_train})\n",
    "        return (hidden_val,                 # cached output of hidden layer\n",
    "                params[\"hidden/kernel:0\"],  # weights of hidden layer\n",
    "                params[\"hidden/bias:0\"],    # bias of hidden layer\n",
    "                params[\"outputs/kernel:0\"], # weights of output layer\n",
    "                params[\"outputs/bias:0\"])   # bias of hidden layer\n",
    "# use the above function for two \"Matryoshka levels\"\n",
    "phase1_out = train_autoencoder(mnist.train.images, n_neurons=300, n_epochs=3, batch_size=150, output_activation=None)\n",
    "hidden_output, W1, b1, W4, b4 = phase1_out  # cached output, weights and bias of hidden layer, and for output layer\n",
    "phase2_out = train_autoencoder(hidden_output, n_neurons=150, n_epochs=5, batch_size=150)\n",
    "_, W2, b2, W3, b3 = phase2_out              # as before but not cached output\n",
    "# reset the graph and build the network with the parameters we have just collected\n",
    "reset_graph()\n",
    "n_inputs = 28*28                            # MNIST: 784 (may have changed in the above \"train_autoencoder\" function)\n",
    "X = tf.placeholder(tf.float32, shape=[None, n_inputs])\n",
    "hidden1 = tf.nn.elu(tf.matmul(X, W1) + b1)\n",
    "hidden2 = tf.nn.elu(tf.matmul(hidden1, W2) + b2)\n",
    "hidden3 = tf.nn.elu(tf.matmul(hidden2, W3) + b3)\n",
    "outputs = tf.matmul(hidden3, W4) + b4\n",
    "# display input and output\n",
    "show_reconstructed_digits(X, outputs)"
   ]
  },
  {
   "cell_type": "markdown",
   "metadata": {},
   "source": [
    "So this shows how it works when **two different graphs** are used. **Now**, we turn to the approach using **only one graph**, as shown in the book. The book also features Figure 15-5 (on page 423). It looks quite complicated but might still be used to clarify things."
   ]
  },
  {
   "cell_type": "code",
   "execution_count": 7,
   "metadata": {},
   "outputs": [
    {
     "name": "stdout",
     "output_type": "stream",
     "text": [
      "Training phase #1\n",
      "0 Train MSE: 0.0073349117\n",
      "1 Train MSE: 0.0078198435\n",
      "2 Train MSE: 0.007697416\n",
      "3 Train MSE: 0.0074176565\n",
      "Training phase #2\n",
      "0 Train MSE: 0.49426538\n",
      "1 Train MSE: 0.006815778\n",
      "2 Train MSE: 0.003242379\n",
      "3 Train MSE: 0.0025059856\n",
      "Test MSE: 0.009807365\n"
     ]
    }
   ],
   "source": [
    "### github\n",
    "reset_graph()\n",
    "### construction\n",
    "# architecture\n",
    "n_inputs = 28 * 28\n",
    "n_hidden1 = 300\n",
    "n_hidden2 = 150  # codings\n",
    "n_hidden3 = n_hidden1\n",
    "n_outputs = n_inputs\n",
    "# training details\n",
    "learning_rate = 0.01\n",
    "l2_reg = 0.0001\n",
    "n_epochs = [4, 4]\n",
    "batch_sizes = [150, 150]\n",
    "# layer details (activation, regularization, initialization)\n",
    "activation = tf.nn.elu\n",
    "regularizer = tf.contrib.layers.l2_regularizer(l2_reg)\n",
    "initializer = tf.contrib.layers.variance_scaling_initializer()\n",
    "weights1_init = initializer([n_inputs, n_hidden1])\n",
    "weights2_init = initializer([n_hidden1, n_hidden2])\n",
    "weights3_init = initializer([n_hidden2, n_hidden3])\n",
    "weights4_init = initializer([n_hidden3, n_outputs])\n",
    "weights1 = tf.Variable(weights1_init, dtype=tf.float32, name=\"weights1\")\n",
    "weights2 = tf.Variable(weights2_init, dtype=tf.float32, name=\"weights2\")\n",
    "weights3 = tf.Variable(weights3_init, dtype=tf.float32, name=\"weights3\")\n",
    "weights4 = tf.Variable(weights4_init, dtype=tf.float32, name=\"weights4\")\n",
    "biases1 = tf.Variable(tf.zeros(n_hidden1), name=\"biases1\")\n",
    "biases2 = tf.Variable(tf.zeros(n_hidden2), name=\"biases2\")\n",
    "biases3 = tf.Variable(tf.zeros(n_hidden3), name=\"biases3\")\n",
    "biases4 = tf.Variable(tf.zeros(n_outputs), name=\"biases4\")\n",
    "# layers\n",
    "X = tf.placeholder(tf.float32, shape=[None, n_inputs])\n",
    "hidden1 = activation(tf.matmul(X, weights1) + biases1)\n",
    "hidden2 = activation(tf.matmul(hidden1, weights2) + biases2)\n",
    "hidden3 = activation(tf.matmul(hidden2, weights3) + biases3)\n",
    "outputs = tf.matmul(hidden3, weights4) + biases4\n",
    "### book\n",
    "optimizer = tf.train.AdamOptimizer(learning_rate)                              # optimizer\n",
    "### execution\n",
    "with tf.name_scope(\"phase1\"):                                                  # phase 1\n",
    "    phase1_outputs = tf.matmul(hidden1, weights4) + biases4                    # skip layers 2 and 3: use hidden1\n",
    "    phase1_reconstruction_loss = tf.reduce_mean(tf.square(phase1_outputs - X)) # reconstruction loss\n",
    "    phase1_reg_loss = regularizer(weights1) + regularizer(weights4)            # regularization loss (no tying!)\n",
    "    phase1_loss = phase1_reconstruction_loss + phase1_reg_loss                 # total loss in phase 1\n",
    "    phase1_training_op = optimizer.minimize(phase1_loss)                       # training op in phase 1\n",
    "with tf.name_scope(\"phase2\"):                                                  # phase 2\n",
    "    phase2_reconstruction_loss = tf.reduce_mean(tf.square(hidden3 - hidden1))  # focus on the middle part: 1, 2, and 3\n",
    "    phase2_reg_loss = regularizer(weights2) + regularizer(weights3)            # regularization loss of layers 2 and 3\n",
    "    phase2_loss = phase2_reconstruction_loss + phase2_reg_loss                 # total loss in phase 2\n",
    "    train_vars = [weights2, biases2, weights3, biases3]                        # train only these variables\n",
    "    phase2_training_op = optimizer.minimize(phase2_loss, var_list =train_vars) # training operation in phase 2\n",
    "### github\n",
    "init = tf.global_variables_initializer()                                       # initializer node\n",
    "saver = tf.train.Saver()                                                       # saver node\n",
    "training_ops = [phase1_training_op, phase2_training_op]                        # list of training operations\n",
    "reconstruct_losses = [phase1_reconstruction_loss, phase2_reconstruction_loss]  # list of reconstruction losses\n",
    "reconstruction_loss = tf.reduce_mean(tf.square(outputs - X))                   # final (overall) reconstruction loss\n",
    "with tf.Session() as sess:                                                     # start session\n",
    "    init.run()                                                                 # initialize all variables\n",
    "    for phase in range(2):                                                     # loop over phases\n",
    "        print(\"Training phase #{}\".format(phase + 1))                          # print current phase\n",
    "        for epoch in range(n_epochs[phase]):                                   # loop over epochs\n",
    "            n_batches = mnist.train.num_examples // batch_sizes[phase]         # number of batches\n",
    "            for iteration in range(n_batches):                                 # loop over iterations\n",
    "                print(\"\\r{}%\".format(100 * iteration // n_batches), end=\"\")    # show percentage of epoch\n",
    "                sys.stdout.flush()                                             # do print now\n",
    "                X_batch, y_batch = mnist.train.next_batch(batch_sizes[phase])  # get batch\n",
    "                sess.run(training_ops[phase], feed_dict={X: X_batch})          # run training operation\n",
    "            loss_train = reconstruct_losses[phase].eval(feed_dict={X:X_batch}) # get current reconstruction loss ...\n",
    "            print(\"\\r{}\".format(epoch), \"Train MSE:\", loss_train)              # ... and print it\n",
    "            saver.save(sess, \"./tf_logs/15_AEs/3_SingleGraphStack/my_model_one_at_a_time.ckpt\")\n",
    "    loss_test = reconstruction_loss.eval(feed_dict={X: mnist.test.images})     # get overall reconstruction loss ...\n",
    "    print(\"Test MSE:\", loss_test)                                              # ... on test set and print it"
   ]
  },
  {
   "cell_type": "markdown",
   "metadata": {},
   "source": [
    "**Suggestion or Tip**<br>\n",
    "Since hidden layer 1 is frozen during phase 2, its output will always be the same for any given training instance. To avoid having to recompute the output of hidden layer 1 at every single epoch, you can compute it for the whole training set at the end of phase 1, then directly feed the cached output of hidden layer 1 during phase 2. This can give you a nice perfromance boost.\n",
    "\n",
    "An implementation of this suggestion is conveniently shown on github and we shall go through it. It uses almost completely the same code as above but for **caching the output of phase 1** and feeding it trough a dictionary to the training operation in phase 2."
   ]
  },
  {
   "cell_type": "code",
   "execution_count": 8,
   "metadata": {},
   "outputs": [
    {
     "name": "stdout",
     "output_type": "stream",
     "text": [
      "Training phase #1\n",
      "0 Train MSE: 0.0074969046\n",
      "1 Train MSE: 0.0077131772\n",
      "2 Train MSE: 0.0073315497\n",
      "3 Train MSE: 0.007824379\n",
      "Training phase #2\n",
      "0 Train MSE: 0.2864308\n",
      "1 Train MSE: 0.0060940017\n",
      "2 Train MSE: 0.0028154477\n",
      "3 Train MSE: 0.0021938253\n",
      "Test MSE: 0.009802806\n"
     ]
    }
   ],
   "source": [
    "### everything github but comments\n",
    "with tf.Session() as sess:\n",
    "    init.run()\n",
    "    for phase in range(2):\n",
    "        print(\"Training phase #{}\".format(phase + 1))\n",
    "        # first additional if-statement (caching output of hidden layer 1)\n",
    "        if phase+1 == 2:                                                    # in phase 2, get the output of hidden ...\n",
    "            hidden1_cache = hidden1.eval(feed_dict={X: mnist.train.images}) # ... layer 1 and reuse it whenever needed\n",
    "        for epoch in range(n_epochs[phase]):\n",
    "            n_batches = mnist.train.num_examples // batch_sizes[phase]\n",
    "            for iteration in range(n_batches):\n",
    "                print(\"\\r{}%\".format(100 * iteration // n_batches), end=\"\")\n",
    "                sys.stdout.flush()\n",
    "                # second additional if-statement (make dictionary according to phase 1 (default) and phase 2 (cached))\n",
    "                if phase+1 == 2:                                           # in phase 2, randomize ...\n",
    "                    indices = rnd.permutation(mnist.train.num_examples)    # ... the cached output of hidden layer ...\n",
    "                    hidden1_batch = hidden1_cache[indices[:batch_sizes[phase]]]\n",
    "                    feed_dict = {hidden1: hidden1_batch}                   # ... 1 and feed it to the ...\n",
    "                    sess.run(training_ops[phase], feed_dict=feed_dict)     # ... training operation of phase 2\n",
    "                else:                                                      # in phase 1, get the training batch as ...\n",
    "                    X_batch, y_batch = mnist.train.next_batch(batch_sizes[phase])\n",
    "                    feed_dict = {X: X_batch}                               # usual and feed it to the training ...\n",
    "                    sess.run(training_ops[phase], feed_dict=feed_dict)     # ... operation of phase 1\n",
    "            loss_train = reconstruct_losses[phase].eval(feed_dict=feed_dict)\n",
    "            print(\"\\r{}\".format(epoch), \"Train MSE:\", loss_train)\n",
    "            saver.save(sess, \"./tf_logs/15_AEs/4_StackCached/my_model_with_caching.ckpt\")\n",
    "    loss_test = reconstruction_loss.eval(feed_dict={X: mnist.test.images})\n",
    "    print(\"Test MSE:\", loss_test)"
   ]
  },
  {
   "cell_type": "markdown",
   "metadata": {},
   "source": [
    "### Visualizing the Reconstruction\n",
    "page 425<br>\n",
    "Autoencoder shall mimick an identity function so they can be tested by checking how much their outputs differ from their inputs. Let's restore the previous model (with only one graph) and **compare its reconstructions to the originals!**<br>\n",
    "Remark: the graph is still the one of the stacked autoencoders with a single graph, even though we have reused it already for demonstrating the caching of the first \"Matryoshka level\" autoencoder."
   ]
  },
  {
   "cell_type": "code",
   "execution_count": 9,
   "metadata": {},
   "outputs": [
    {
     "name": "stdout",
     "output_type": "stream",
     "text": [
      "./tf_logs/15_AEs/3_SingleGraphStack/my_model_one_at_a_time.ckpt\n",
      "INFO:tensorflow:Restoring parameters from ./tf_logs/15_AEs/3_SingleGraphStack/my_model_one_at_a_time.ckpt\n"
     ]
    },
    {
     "data": {
      "image/png": "[encoded data removed]",
      "text/plain": [
       "<Figure size 432x288 with 4 Axes>"
      ]
     },
     "metadata": {
      "needs_background": "light"
     },
     "output_type": "display_data"
    }
   ],
   "source": [
    "model = \"./tf_logs/15_AEs/3_SingleGraphStack/my_model_one_at_a_time.ckpt\"\n",
    "print(model)\n",
    "n_test_digits = 2\n",
    "X_test = mnist.test.images[:n_test_digits]\n",
    "with tf.Session() as sess:\n",
    "    saver.restore(sess, model) # not shown in the book\n",
    "    outputs_val = outputs.eval(feed_dict={X: X_test})\n",
    "for digit_index in range(n_test_digits):\n",
    "    plt.subplot(n_test_digits, 2, digit_index * 2 + 1)\n",
    "    plot_image(X_test[digit_index])\n",
    "    plt.subplot(n_test_digits, 2, digit_index * 2 + 2)\n",
    "    plot_image(outputs_val[digit_index])"
   ]
  },
  {
   "cell_type": "markdown",
   "metadata": {},
   "source": [
    "this looks actually quite good! The autoencoder seems to perform its task reasonably well.\n",
    "### Visualizing Features\n",
    "page 425<br>\n",
    "Once a neural net (CNN, autoencoder, or else) has been trained, one might wish to inspect what exactly it has learned. One way to do that is to search for the input instances that activate this neuron the most. This is particularly useful for the top hidden layer that – in particular for CNNs – should show high-level, easily interpretable features. Usually, each neurons in the top hidden layer should activate strongly for the same kind of input (e.g. cats). However, this technique does not work so well for lower lying features that are not unique for to a certain class of input instances. So often it is not clear what exactly gets a neuron all excited about.<br>\n",
    "Another technique is to visualize the weights of a neuron that connect it to the previous layer. Doing this for the first hidden layer visualizes low-level features."
   ]
  },
  {
   "cell_type": "code",
   "execution_count": 10,
   "metadata": {},
   "outputs": [
    {
     "name": "stdout",
     "output_type": "stream",
     "text": [
      "./tf_logs/15_AEs/3_SingleGraphStack/my_model_one_at_a_time.ckpt\n",
      "INFO:tensorflow:Restoring parameters from ./tf_logs/15_AEs/3_SingleGraphStack/my_model_one_at_a_time.ckpt\n",
      "(784, 300) (300, 784)\n"
     ]
    },
    {
     "data": {
      "image/png": "[encoded data removed]",
      "text/plain": [
       "<Figure size 432x288 with 5 Axes>"
      ]
     },
     "metadata": {
      "needs_background": "light"
     },
     "output_type": "display_data"
    }
   ],
   "source": [
    "# book, github, and own code\n",
    "model = \"./tf_logs/15_AEs/3_SingleGraphStack/my_model_one_at_a_time.ckpt\"\n",
    "print(model)\n",
    "with tf.Session() as sess:\n",
    "    saver.restore(sess, model)\n",
    "    weights1_val = weights1.eval() # 300 neurons in first hidden layer, each with 784 connections to inpul layer\n",
    "    print(weights1_val.shape, weights1_val.T.shape)\n",
    "for i in range(5):\n",
    "    plt.subplot(1, 5, i+1)\n",
    "    plot_image(weights1_val.T[i])\n",
    "plt.show()"
   ]
  },
  {
   "cell_type": "markdown",
   "metadata": {},
   "source": [
    "Well, that certainly looks very \"interesting\". In the book, Figure 15-7 on page 426 shows similar visualizations of a stacked denoising autoencoder (see the main text below said image in the book). The last of those visualizations seems to look for vertical strokes.<br>\n",
    "Another approach is to **train the input** in **such** a way **that the activation of a neuron becomes maximal**. This can be achieved by starting with a random image and apply backpropagation on the pixels of that image. Finally, if the autoencoder is used for unsupervised pretraining of a classifier (follows next), the usefulness of the autoencoder's neurons can be assumed to be high if the classifier performs well.\n",
    "## Unsupervised Pretraining Using Stacked Autoencoders\n",
    "page 426<br>\n",
    "In chapter 11 we pointed out the possibility to obtain formidable results with relatively littel training by reusing the lower layer of a highly performant model for a related taks and only train a few top layers on the actual task. In short, this technique works because the lower level features are usually more domain agnostic. In that light, autoencoders can be helpful for unsupervised pretraining on unlabelled data. The idea is to train a stacked autoencoder (usually one Matryoshka level at a time) on the data and then only freeze this autoencoder's layers up to the coding layer. The decoding layers (above the coding layer) are disregarded and replaced by other layers for classification. Only these few layers shall be trained on the little available labelled data. If enough labelled data is available, lower layers of the autoencoder may also be retrained.<br><br>\n",
    "**General note**<br>\n",
    "This situation is actually quite common, because building a large unlabeled dataset is often cheap (e.g., a simple script can download millions of images off the internet), but labeling them can only be done reliably by humans (e.g., classifying images as cute or not). Labeling instances is time-consuming and costly, so it is quite common to have only a few thousand labeled instances.<br><br>\n",
    "The pretraining approach was demonstrated in 2006 by Geoffrey Hinten *et al*. (for restricted Boltzmann machines) and in 2007 by Yoshua Bengio *et al*. (for autoencoders, see http://papers.nips.cc/paper/3048-greedy-layer-wise-training-of-deep-networks.pdf). The following code is a fully connected neural network (or MLP) with only two hidden layers and one output layer. The values for the two hidden layer are imported from a previous autoencoder model on a similar task (and with a compatible architecture). Depending on the value of `freeze` in the code below, these layers will be frozen or they will be retrained. The output layer will always be trained. The code follows largely but not completely from github."
   ]
  },
  {
   "cell_type": "code",
   "execution_count": 11,
   "metadata": {},
   "outputs": [
    {
     "name": "stdout",
     "output_type": "stream",
     "text": [
      "freezing layers 1 and 2\n",
      "INFO:tensorflow:Restoring parameters from ./tf_logs/15_AEs/4_StackCached/my_model_with_caching.ckpt\n",
      "0 Train accuracy: 0.87333333\tTest accuracy: 0.8773\n",
      "1 Train accuracy: 0.93333334\tTest accuracy: 0.9022\n",
      "2 Train accuracy: 0.8933333\tTest accuracy: 0.9036\n",
      "3 Train accuracy: 0.94666666\tTest accuracy: 0.9101\n"
     ]
    }
   ],
   "source": [
    "### construction phase\n",
    "reset_graph()\n",
    "# architecture\n",
    "n_inputs = 28 * 28\n",
    "n_hidden1 = 300     # trainable (and pretrained)\n",
    "n_hidden2 = 150     # trainable (and pretrained)\n",
    "n_outputs = 10      # trainable\n",
    "# training details\n",
    "freeze = 1          # choose 0 [1] to train [freeze] the two hidden layers (hidden1 and hidden2)\n",
    "learning_rate = 0.01\n",
    "l2_reg = 0.0005\n",
    "n_epochs = 4\n",
    "batch_size = 150\n",
    "n_labeled_instances = 20000\n",
    "# layer details\n",
    "activation = tf.nn.elu\n",
    "regularizer = tf.contrib.layers.l2_regularizer(l2_reg)\n",
    "initializer = tf.contrib.layers.variance_scaling_initializer()\n",
    "# 3 layers with trainable parameters\n",
    "weights1_init = initializer([n_inputs, n_hidden1])\n",
    "weights2_init = initializer([n_hidden1, n_hidden2])\n",
    "weights3_init = initializer([n_hidden2, n_outputs])\n",
    "weights1 = tf.Variable(weights1_init, dtype=tf.float32, name=\"weights1\")\n",
    "weights2 = tf.Variable(weights2_init, dtype=tf.float32, name=\"weights2\")\n",
    "weights3 = tf.Variable(weights3_init, dtype=tf.float32, name=\"weights3\")\n",
    "biases1 = tf.Variable(tf.zeros(n_hidden1), name=\"biases1\")\n",
    "biases2 = tf.Variable(tf.zeros(n_hidden2), name=\"biases2\")\n",
    "biases3 = tf.Variable(tf.zeros(n_outputs), name=\"biases3\")\n",
    "# network building\n",
    "X = tf.placeholder(tf.float32, shape=[None, n_inputs])\n",
    "y = tf.placeholder(tf.int32, shape=[None])\n",
    "hidden1 = activation(tf.matmul(X, weights1) + biases1)\n",
    "hidden2 = activation(tf.matmul(hidden1, weights2) + biases2)\n",
    "logits = tf.matmul(hidden2, weights3) + biases3\n",
    "# cost function\n",
    "cross_entropy = tf.nn.sparse_softmax_cross_entropy_with_logits(labels=y, logits=logits) # failure cost\n",
    "reg_loss = regularizer(weights1) + regularizer(weights2) + regularizer(weights3)        # regularization cost\n",
    "loss = cross_entropy + reg_loss                                                         # total cost\n",
    "# optimizer and training operation\n",
    "optimizer = tf.train.AdamOptimizer(learning_rate)\n",
    "if freeze==0:\n",
    "    training_op = optimizer.minimize(loss)\n",
    "    print(\"training all layers\")\n",
    "else:\n",
    "    training_op = optimizer.minimize(loss, var_list=[weights3, biases3])\n",
    "    print(\"freezing layers 1 and 2\")\n",
    "# define accuracy\n",
    "correct = tf.nn.in_top_k(logits, y, 1)                  # \"True\" if \"y\" is in the top \"k=1\" \"logits\" (output ...\n",
    "accuracy = tf.reduce_mean(tf.cast(correct, tf.float32)) # ... dimension = \"y\" dimension); build accuracy\n",
    "# initializer and saver (for importing pretrained variables) nodes\n",
    "init = tf.global_variables_initializer()\n",
    "pretrain_saver = tf.train.Saver([weights1, weights2,    # get only the variables for \"hidden1\" and \"hidden2\" ...\n",
    "                                 biases1, biases2])     # ... but not for \"logits\" (the trainable output layer)\n",
    "with tf.Session() as sess:\n",
    "    # initialize the variables but overwrite the weights and biases of hidden1 and hidden2\n",
    "    init.run()\n",
    "    pretrain_saver.restore(sess, \"./tf_logs/15_AEs/4_StackCached/my_model_with_caching.ckpt\")\n",
    "    # loop over epochs (everything as usual but for the training operation, which - depending on the chosen value ...\n",
    "    # ... for \"freeze\" - will train all parameters or only those of the \"logits\" output layer)\n",
    "    for epoch in range(n_epochs):\n",
    "        n_batches = n_labeled_instances // batch_size\n",
    "        for iteration in range(n_batches):\n",
    "            print(\"\\r{}%\".format(100 * iteration // n_batches), end=\"\")\n",
    "            sys.stdout.flush()\n",
    "            indices = rnd.permutation(n_labeled_instances)[:batch_size]\n",
    "            X_batch, y_batch = mnist.train.images[indices], mnist.train.labels[indices]\n",
    "            sess.run(training_op, feed_dict={X: X_batch, y: y_batch})\n",
    "        accuracy_val = accuracy.eval(feed_dict={X: X_batch, y: y_batch})\n",
    "        print(\"\\r{}\".format(epoch), \"Train accuracy:\", accuracy_val, end=\"\\t\")\n",
    "        # skip saving, here\n",
    "        accuracy_val = accuracy.eval(feed_dict={X: mnist.test.images, y: mnist.test.labels})\n",
    "        print(\"Test accuracy:\", accuracy_val)"
   ]
  },
  {
   "cell_type": "markdown",
   "metadata": {},
   "source": [
    "Do compare the performance when `freeze = 0` vs when `freeze = 1` to see how it works!\n",
    "\n",
    "Up to now, we have used undercomplete autoencoders (dimension of coding layer smaller than dimension of input) in order to force the autoencoder to learn patterns. But there are also other ways to force an autoencoder to learn something, even when the coding layer is as large or even larger than the input. The latter would be an **overcomplete** autoencoder. Let's have a look at those things now!\n",
    "## Denoising Autoencoders\n",
    "page 428<br>\n",
    "Apart from making an autoencoder undercomplete, one may also constrain it – and thus incite to learn patterns in the data – by feeding the algorithm the default input but adding noise immediately afterwards. Then, the algorithm cannot just copy the noisy data to the output. Instead, it needs to filter the noise out by finding the patterns that govern the data and focus on those patterns. The added noise can stem from a gaussian distribution whose random events are added to the input or by randomly suppressing the input with dropout operation right after the input. Both techniques work very similarly.<br>\n",
    "The idea to use autoencoders for denoising has been around since the 1980s (e.g., in Yann LeCun's masters thesis). Pascal Vincent showed that autoencoders can be used for feature extraction (https://goo.gl/K9pqcx, 2008) and he introduced stacked denoising autoencoders (https://goo.gl/HgCDIA, 2010).\n",
    "\n",
    "Now, let's walk the walk and deal with the **TensorFlow Implementation**!"
   ]
  },
  {
   "cell_type": "code",
   "execution_count": 12,
   "metadata": {},
   "outputs": [
    {
     "name": "stdout",
     "output_type": "stream",
     "text": [
      "autoencoder constrained by dropout noise\n",
      "0 Train MSE: 0.030295799\n",
      "1 Train MSE: 0.029293908\n",
      "2 Train MSE: 0.027048983\n",
      "3 Train MSE: 0.025302099\n",
      "4 Train MSE: 0.0243453\n",
      "5 Train MSE: 0.0247929\n",
      "6 Train MSE: 0.023794234\n"
     ]
    }
   ],
   "source": [
    "### construction\n",
    "reset_graph()\n",
    "# architecture\n",
    "n_inputs = 28 * 28\n",
    "n_hidden1 = 300\n",
    "n_hidden2 = 150       # codings\n",
    "n_hidden3 = n_hidden1 # symmetric encoder ...\n",
    "n_outputs = n_inputs  # ... and decoder\n",
    "# training details\n",
    "learning_rate = 0.01\n",
    "n_epochs = 7\n",
    "batch_size = 150\n",
    "# input layer\n",
    "X = tf.placeholder(tf.float32, shape=[None, n_inputs])\n",
    "# choice of constraint: added noise or dropout\n",
    "use_dropout = 1\n",
    "if use_dropout==0: # apply noise\n",
    "    print(\"autoencoder constrained by added noise\")\n",
    "    noise_level = 1.0\n",
    "    X_noisy = X + noise_level * tf.random_normal(tf.shape(X))               # \"tf.shape(X)\" is commented on below\n",
    "    X_next = X_noisy\n",
    "else:              # apply dropout\n",
    "    print(\"autoencoder constrained by dropout noise\")\n",
    "    dropout_rate = 0.3\n",
    "    training = tf.placeholder_with_default(False, shape=(),name=\"training\") # dropout is only [not] applied during ...\n",
    "    X_drop = tf.layers.dropout(X, dropout_rate, training=training)          # ... training [testing] (see sess below)\n",
    "    X_next = X_drop\n",
    "# hidden layers and output layer\n",
    "hidden1 = tf.layers.dense(X_next, n_hidden1, activation=tf.nn.relu, name=\"hidden1\")\n",
    "hidden2 = tf.layers.dense(hidden1, n_hidden2, activation=tf.nn.relu, name=\"hidden2\")\n",
    "hidden3 = tf.layers.dense(hidden2, n_hidden3, activation=tf.nn.relu, name=\"hidden3\")\n",
    "outputs = tf.layers.dense(hidden3, n_outputs, name=\"outputs\")\n",
    "# cost function (no regularization), optimizer, and training operation\n",
    "reconstruction_loss = tf.reduce_mean(tf.square(outputs - X))\n",
    "optimizer = tf.train.AdamOptimizer(learning_rate)\n",
    "training_op = optimizer.minimize(reconstruction_loss)\n",
    "# initializer node (saver is not used here)   \n",
    "init = tf.global_variables_initializer()\n",
    "### execution\n",
    "with tf.Session() as sess:\n",
    "    init.run()\n",
    "    for epoch in range(n_epochs):\n",
    "        n_batches = mnist.train.num_examples // batch_size\n",
    "        for iteration in range(n_batches):\n",
    "            print(\"\\r{}%\".format(100 * iteration // n_batches), end=\"\")\n",
    "            sys.stdout.flush()\n",
    "            X_batch, y_batch = mnist.train.next_batch(batch_size)\n",
    "            if use_dropout==0: # noise: use default training operation\n",
    "                sess.run(training_op, feed_dict={X: X_batch})\n",
    "            else:              # dropout: specify that dropout shall be applied during training\n",
    "                sess.run(training_op, feed_dict={X: X_batch, training: True})\n",
    "        loss_train = reconstruction_loss.eval(feed_dict={X: X_batch})\n",
    "        print(\"\\r{}\".format(epoch), \"Train MSE:\", loss_train)"
   ]
  },
  {
   "cell_type": "markdown",
   "metadata": {},
   "source": [
    "Do play with `use_dropout` to use added noise (`0`) or dropout (`1`) to constrain the autoencoder. Note that dropout shall only be applied during testing. It is not necessary to set `training` to `False` since we have made this the default. It only needs to be set to `true` during training.\n",
    "\n",
    "**Warning / caution**<br>\n",
    "Since the shape of `X` is only partially defined during the construction phase, we cannot know in advance the shape of the noise that we must add to `X`. We cannot call `X.get_shape()` becasue this would just return the partially defined shape of `X` (`[None, n_inputs]`), and `random_normal()` expects a fully defined shape so it would raise an exception. Instead, we call `tf.shape(X)`, which creates an operation that will retrun the shape of `X` at runtime, which will be fully defined at that point.\n",
    "## Sparse Autoencoders\n",
    "page 430<br>\n",
    "Pushing sparsity of the coding layer is also a way to constrain autoencoders. It means that for any instance, the number of firing neurons in the coding layer shall be kept below a certain threshold. Imagine you were only allowed to talk five minutes per day: you would probably think well about what to say instead of just mindlessly waste the potential. This is what drives sparse autoencoders to learn efficient patterns.\n",
    "\n",
    "To impose **relative sparsity** in the coding layer, one must first **measure its typical sparsity** on the training data. The trainig batch must be sufficiently large as to well represent each neurons average activation. Once this value is known, e.g. $q=0.3$, one may impose a target for its average activation, e.g. $p=0.1$. To achieve that target, **sparsity loss** is imposed on deviations from the target. In priniciple, one could just use some square error in the fashion of $(0.3-0.1)^2$ but the **Kullback-Leibler divergence** (Equation 15-1),\n",
    "$$D_{KL}(P||Q)=\\sum_iP(i)\\log\\frac{P(i)}{Q(i)}\\,,$$\n",
    "works much better because of its much steeper gradients (see Figure 15-10 on page 431 in the book). In the above formula, $D_{KL}(P||Q)$ denotes the Kullback-Leibler divergence between the imposed probability distribution $P$ and the observed probability distribution $Q$ (all the $P_i$ have to add up to 1, and all the $Q_i$, too). So for a given neuron, the Kullback-Leibler divergence is simply (Equation 15-2)\n",
    "$$D_{KL}(p||q)=p\\log\\frac{p}{q}+(1-p)\\log\\frac{1-p}{1-q}\\,,$$\n",
    "and shown in the plot below."
   ]
  },
  {
   "cell_type": "code",
   "execution_count": 13,
   "metadata": {},
   "outputs": [
    {
     "name": "stdout",
     "output_type": "stream",
     "text": [
      "Note the steepness of the Kullback-Leibler divergence!\n",
      "Particularly also close to 0 (divergence)!\n"
     ]
    },
    {
     "data": {
      "image/png": "[encoded data removed]",
      "text/plain": [
       "<Figure size 432x288 with 1 Axes>"
      ]
     },
     "metadata": {
      "needs_background": "light"
     },
     "output_type": "display_data"
    }
   ],
   "source": [
    "# github only! (apart from comments and last line)\n",
    "p = 0.1                                               # target probability\n",
    "q = np.linspace(0.001, 0.999, 500)                    # hypothetical mean probabilities\n",
    "kl_div = p*np.log(p/q) + (1-p)*np.log((1-p)/(1-q))    # Kullback-Leibler divergence values for many q (blue y-data)\n",
    "mse = (p - q)**2                                      # hypothetical mean squared errors (red y-data)\n",
    "plt.plot([p, p], [0, 0.3], \"k:\")                      # black dotted line (vertical)\n",
    "plt.text(0.05, 0.32, \"Target\\nsparsity\", fontsize=14) # \"Target sparsity\" text\n",
    "plt.plot(q, kl_div, \"b-\", label=\"KL divergence\")      # Kullback-Leibler divergence plot\n",
    "plt.plot(q, mse, \"r--\", label=\"MSE\")                  # mean squared error plot\n",
    "plt.legend(loc=\"upper left\")                          # legend\n",
    "plt.xlabel(\"Actual sparsity\")                         # x-label\n",
    "plt.ylabel(\"Cost\", rotation=0)                        # y-label\n",
    "plt.axis([0, 1, 0, 0.95])                             # axes ranges\n",
    "print(\"Note the steepness of the Kullback-Leibler divergence!\\nParticularly also close to 0 (divergence)!\")"
   ]
  },
  {
   "cell_type": "markdown",
   "metadata": {},
   "source": [
    "Once the sparsity loss is computed for every neuron, one may add the total sparsity loss to the reconstruction loss to obtain the total loss function that the alogrithm trains on. The sparsity loss is usually weighted with a **sparsity weight hyperparameter** that allows the user to tune the sparsity constraint up and down. If the constraint is very weak, the algorithm might reconstruct the input very well by more or less copying the input to the output. And if the constraint is to strong, the coding layer becomes almost inactive, thus leading to poor results. So the hyperparameter must be tuned well!<br><br>\n",
    "And now to the **TensorFlow Implementation**!"
   ]
  },
  {
   "cell_type": "code",
   "execution_count": 14,
   "metadata": {},
   "outputs": [
    {
     "name": "stdout",
     "output_type": "stream",
     "text": [
      "0 Train MSE:  0.14306302 \tSparsity loss:  0.48000106 \tTotal loss:  0.23906323\n",
      "1 Train MSE:  0.0601003 \tSparsity loss:  0.008880448 \tTotal loss:  0.061876386\n",
      "2 Train MSE:  0.053482294 \tSparsity loss:  0.049979452 \tTotal loss:  0.06347819\n",
      "3 Train MSE:  0.048346188 \tSparsity loss:  0.055491075 \tTotal loss:  0.059444405\n",
      "4 Train MSE:  0.04506336 \tSparsity loss:  0.010088855 \tTotal loss:  0.04708113\n",
      "5 Train MSE:  0.041321483 \tSparsity loss:  0.008463459 \tTotal loss:  0.043014176\n",
      "6 Train MSE:  0.038870737 \tSparsity loss:  0.015069475 \tTotal loss:  0.04188463\n",
      "7 Train MSE:  0.036700238 \tSparsity loss:  0.024786627 \tTotal loss:  0.041657563\n",
      "8 Train MSE:  0.033531196 \tSparsity loss:  0.3194489 \tTotal loss:  0.097420976\n",
      "9 Train MSE:  0.030284239 \tSparsity loss:  0.12491542 \tTotal loss:  0.055267323\n",
      "10 Train MSE:  0.028432388 \tSparsity loss:  0.34754923 \tTotal loss:  0.09794223\n",
      "INFO:tensorflow:Restoring parameters from ./tf_logs/15_AEs/5_Sparse/my_model_with_KL.ckpt\n"
     ]
    },
    {
     "data": {
      "image/png": "[encoded data removed]",
      "text/plain": [
       "<Figure size 576x432 with 4 Axes>"
      ]
     },
     "metadata": {
      "needs_background": "light"
     },
     "output_type": "display_data"
    }
   ],
   "source": [
    "### construction\n",
    "# architecture\n",
    "reset_graph()        # always a good idea\n",
    "n_inputs = 28 * 28   # 784 for MNIST\n",
    "n_hidden1 = 1000     # 1000 codings, constrained by sparsity\n",
    "n_outputs = n_inputs # symmetric archtecture (encoder - coding layer - decoder)\n",
    "# training details\n",
    "n_epochs = 11        # changed from default 10\n",
    "batch_size = 1000\n",
    "def kl_divergence(p, q):                                                    # Kullback-Leibler divergence: the ...\n",
    "    return p*tf.log(p/q) + (1-p)*tf.log((1-p)/((1-q)))                      # ... arguments must lie in (0, 1)\n",
    "learning_rate = 0.01\n",
    "sparsity_target = 0.1\n",
    "sparsity_weight = 0.2\n",
    "# layers\n",
    "X = tf.placeholder(tf.float32, shape=[None, n_inputs])                      # input layer\n",
    "hidden1 = tf.layers.dense(X, n_hidden1, activation=tf.nn.sigmoid)           # coding layer\n",
    "outputs = tf.layers.dense(hidden1, n_outputs)                               # output layer\n",
    "# cost function, optimizer, and training operation\n",
    "hidden1_mean = tf.reduce_mean(hidden1, axis=0)                              # mean activations over current batch\n",
    "sparsity_loss = tf.reduce_sum(kl_divergence(sparsity_target, hidden1_mean)) # Kullback-Leibler for sparsity loss\n",
    "reconstruction_loss = tf.reduce_mean(tf.square(outputs - X))                # mse for reconstruction loss\n",
    "loss = reconstruction_loss + sparsity_weight * sparsity_loss                # total (weighted) cost function \n",
    "optimizer = tf.train.AdamOptimizer(learning_rate)\n",
    "training_op = optimizer.minimize(loss)\n",
    "# variable initializer and saver node\n",
    "init = tf.global_variables_initializer()\n",
    "saver = tf.train.Saver()\n",
    "### execution phase\n",
    "with tf.Session() as sess:\n",
    "    init.run() # initialize variable\n",
    "    for epoch in range(n_epochs):                                           # loop over epochs\n",
    "        n_batches = mnist.train.num_examples // batch_size                  # get number of batches\n",
    "        for iteration in range(n_batches):                                  # iterate over batches\n",
    "            print(\"\\r{}%\".format(100 * iteration // n_batches), end=\"\")     # show progress on current epoch ...\n",
    "            sys.stdout.flush()                                              # ... and, yes, do show it now\n",
    "            X_batch, y_batch = mnist.train.next_batch(batch_size)           # get current batch\n",
    "            sess.run(training_op, feed_dict={X: X_batch})                   # feed only the X_batch (unsupervised)\n",
    "        reconstruction_loss_val, sparsity_loss_val, loss_val = sess.run([reconstruction_loss,   # run ...\n",
    "                                                                         sparsity_loss, loss],  # ... a ...\n",
    "                                                                        feed_dict={X: X_batch}) # ... session\n",
    "        print(\"\\r{}\".format(epoch), \"Train MSE: \", reconstruction_loss_val,                     # print results of ...\n",
    "              \"\\tSparsity loss: \", sparsity_loss_val, \"\\tTotal loss: \", loss_val)               # ... finished epoch\n",
    "        saver.save(sess,  \"./tf_logs/15_AEs/5_Sparse/my_model_with_KL.ckpt\")                    # save model\n",
    "show_reconstructed_digits(X, outputs, \"./tf_logs/15_AEs/5_Sparse/my_model_with_KL.ckpt\")        # show reconstructions"
   ]
  },
  {
   "cell_type": "markdown",
   "metadata": {},
   "source": [
    "In the above code, using the logistic activation function (`activation=tf.nn.sigmoid`) for the coding layer ensures that all activations lie in the interval $(0,\\,1)$, as required by the Kullback-Leibler divergence.<br>\n",
    "Using the mean squared error for the reconstruction loss may not be optimal due to its shallow gradients. The cross entropy is often a better choice. But to use it, both the input and the output must be scaled to the interval $(0, \\,1)$. Details on this can be found in the book and via the github link above.\n",
    "## Variational Autoencoders\n",
    "page 433<br>\n",
    "In 2014, Diederik Kingma and Max Welling have introduced **variational autoencoders**, one of the most popular types of autoencoders. They differ from quite a bit from most other autoencoders:\n",
    "- They are *probabilistic autoencoders*, meaning that their **outputs are partly determined by chance, even after training** (as opposed to denoising autoencoders, which use randomness only during training).\n",
    "- Most importantly, they are *generative autoencoders*, meaning that they **can generate new instances** that look like they were sampled from the training set.\n",
    "\n",
    "These properties make variational autoencoders similar to Random Boltzmann Machines (RBMs, see Appendix E in the book) but they are easier to train and generation of new instances is much faster since – unlike RBMs – they do not have to reach some *thermal equilibrium*. The basic structure is shared with other types of autoencoders: encoder and decoder are symmetric wrt each other and the coding space is in between. But instead of learning the weihgts and the bias for the coding layer, the goal seems to be to learn means and variances for $n$ separate normal distributions (or other distributions) in such a way that\n",
    "- for each input there is point in this $n$-dimensional space that leads to an output close to the input and\n",
    "- coding vectors that lie close to each other in this $n$-dimensional space tend to return similar outputs.\n",
    "\n",
    "To achieve this, gradient descent on the **latent loss** cost function,<br><br>\n",
    "`eps = 1e-10 # smoothing term to avoid log(0)`<br>\n",
    "`lat_loss=0.5*tf.reduce_sum(tf.square(hidden3_sigma)+tf.square(hidden3_mean)-1-tf.log(eps+tf.square(hidden3_sigma)))`,<br><br>\n",
    "shall be used. It is easy to see that with $\\sigma^2=e^{\\gamma}$, the latent loss can be rewritten as<br><br>\n",
    "`lat_loss=0.5*tf.reduce_sum(tf.exp(hidden3_gamma)+tf.square(hidden3_mean)-1-hidden3_gamma)`,<br><br>\n",
    "but it is not so easy to see why this cost function works. Further details can be found under some of the links listed at the beginning of this notebook and in the annotated document \"LatentLoss_VAE.pdf\". What follows is an implementation in TensorFlow as shown on github. **Generating Digits** is also demonstrated."
   ]
  },
  {
   "cell_type": "code",
   "execution_count": 15,
   "metadata": {},
   "outputs": [
    {
     "name": "stdout",
     "output_type": "stream",
     "text": [
      "0 Train total loss: 18791.533 \tReconstruction loss: 14682.374 \tLatent loss: 4109.1587\n",
      "1 Train total loss: 17575.0 \tReconstruction loss: 13556.966 \tLatent loss: 4018.0347\n",
      "2 Train total loss: 18016.67 \tReconstruction loss: 13925.4 \tLatent loss: 4091.2695\n",
      "3 Train total loss: 17784.266 \tReconstruction loss: 13960.13 \tLatent loss: 3824.1362\n",
      "4 Train total loss: 16711.764 \tReconstruction loss: 12753.172 \tLatent loss: 3958.592\n",
      "5 Train total loss: 16357.296 \tReconstruction loss: 12576.737 \tLatent loss: 3780.5583\n",
      "6 Train total loss: 16782.922 \tReconstruction loss: 12755.723 \tLatent loss: 4027.1982\n",
      "7 Train total loss: 15681.314 \tReconstruction loss: 11826.11 \tLatent loss: 3855.2046\n",
      "8 Train total loss: 16128.009 \tReconstruction loss: 12227.28 \tLatent loss: 3900.7283\n",
      "9 Train total loss: 15852.836 \tReconstruction loss: 11908.775 \tLatent loss: 3944.0605\n",
      "10 Train total loss: 15474.311 \tReconstruction loss: 11627.691 \tLatent loss: 3846.619\n",
      "11 Train total loss: 15817.809 \tReconstruction loss: 11897.891 \tLatent loss: 3919.9177\n",
      "12 Train total loss: 15928.055 \tReconstruction loss: 11987.191 \tLatent loss: 3940.8628\n",
      "13 Train total loss: 15812.875 \tReconstruction loss: 11852.509 \tLatent loss: 3960.3662\n",
      "14 Train total loss: 15989.249 \tReconstruction loss: 12033.195 \tLatent loss: 3956.0537\n",
      "15 Train total loss: 15562.061 \tReconstruction loss: 11681.941 \tLatent loss: 3880.1196\n",
      "16 Train total loss: 16278.74 \tReconstruction loss: 12254.225 \tLatent loss: 4024.5154\n",
      "17 Train total loss: 15799.888 \tReconstruction loss: 11838.668 \tLatent loss: 3961.2197\n",
      "18 Train total loss: 15910.436 \tReconstruction loss: 11962.109 \tLatent loss: 3948.3264\n",
      "19 Train total loss: 16121.607 \tReconstruction loss: 12115.461 \tLatent loss: 4006.146\n",
      "20 Train total loss: 15782.615 \tReconstruction loss: 11828.051 \tLatent loss: 3954.565\n",
      "21 Train total loss: 15341.232 \tReconstruction loss: 11383.41 \tLatent loss: 3957.8228\n",
      "22 Train total loss: 15432.941 \tReconstruction loss: 11527.158 \tLatent loss: 3905.7832\n",
      "23 Train total loss: 16126.182 \tReconstruction loss: 12034.508 \tLatent loss: 4091.6738\n",
      "24 Train total loss: 15270.165 \tReconstruction loss: 11454.59 \tLatent loss: 3815.5752\n",
      "25 Train total loss: 15636.356 \tReconstruction loss: 11585.968 \tLatent loss: 4050.3884\n",
      "26 Train total loss: 16326.146 \tReconstruction loss: 12331.896 \tLatent loss: 3994.2505\n",
      "27 Train total loss: 15697.833 \tReconstruction loss: 11671.775 \tLatent loss: 4026.0576\n",
      "28 Train total loss: 15415.469 \tReconstruction loss: 11526.35 \tLatent loss: 3889.1196\n",
      "29 Train total loss: 15894.68 \tReconstruction loss: 11858.558 \tLatent loss: 4036.1226\n",
      "30 Train total loss: 15462.01 \tReconstruction loss: 11421.959 \tLatent loss: 4040.0513\n",
      "31 Train total loss: 15891.475 \tReconstruction loss: 11918.861 \tLatent loss: 3972.6128\n",
      "32 Train total loss: 15167.48 \tReconstruction loss: 11285.952 \tLatent loss: 3881.5283\n",
      "33 Train total loss: 15980.988 \tReconstruction loss: 12079.236 \tLatent loss: 3901.7524\n",
      "34 Train total loss: 15392.416 \tReconstruction loss: 11462.426 \tLatent loss: 3929.9907\n",
      "35 Train total loss: 15584.754 \tReconstruction loss: 11629.038 \tLatent loss: 3955.716\n",
      "36 Train total loss: 15546.559 \tReconstruction loss: 11640.397 \tLatent loss: 3906.1616\n",
      "37 Train total loss: 15501.196 \tReconstruction loss: 11542.893 \tLatent loss: 3958.304\n",
      "38 Train total loss: 15338.582 \tReconstruction loss: 11322.793 \tLatent loss: 4015.7886\n",
      "39 Train total loss: 15478.877 \tReconstruction loss: 11595.184 \tLatent loss: 3883.6929\n",
      "40 Train total loss: 15524.03 \tReconstruction loss: 11562.664 \tLatent loss: 3961.3662\n",
      "41 Train total loss: 16105.42 \tReconstruction loss: 12060.779 \tLatent loss: 4044.6409\n",
      "42 Train total loss: 15535.196 \tReconstruction loss: 11540.6045 \tLatent loss: 3994.5916\n",
      "43 Train total loss: 15235.001 \tReconstruction loss: 11327.28 \tLatent loss: 3907.7205\n",
      "44 Train total loss: 15081.447 \tReconstruction loss: 11228.917 \tLatent loss: 3852.5298\n",
      "45 Train total loss: 15509.521 \tReconstruction loss: 11676.116 \tLatent loss: 3833.4055\n",
      "46 Train total loss: 14443.765 \tReconstruction loss: 10578.573 \tLatent loss: 3865.1914\n",
      "47 Train total loss: 15574.55 \tReconstruction loss: 11657.591 \tLatent loss: 3916.9587\n",
      "48 Train total loss: 15560.17 \tReconstruction loss: 11687.17 \tLatent loss: 3872.9998\n",
      "49 Train total loss: 15433.255 \tReconstruction loss: 11484.154 \tLatent loss: 3949.1003\n",
      "50 Train total loss: 15253.806 \tReconstruction loss: 11359.463 \tLatent loss: 3894.3428\n"
     ]
    },
    {
     "data": {
      "image/png": "[encoded data removed]",
      "text/plain": [
       "<Figure size 576x3600 with 60 Axes>"
      ]
     },
     "metadata": {
      "needs_background": "light"
     },
     "output_type": "display_data"
    }
   ],
   "source": [
    "### construction\n",
    "n_inputs = 28 * 28    # input (MNIST: 784)\n",
    "n_hidden1 = 500       # encoder\n",
    "n_hidden2 = 500       # encoder\n",
    "n_hidden3 = 20        # codings\n",
    "n_hidden4 = n_hidden2 # decoder\n",
    "n_hidden5 = n_hidden1 # decoder\n",
    "n_outputs = n_inputs  # output\n",
    "# training and inference details\n",
    "learning_rate = 0.001\n",
    "n_epochs = 51         # adjusted from default 50\n",
    "batch_size = 150\n",
    "n_digits = 60\n",
    "# own initializer for own dense layer\n",
    "initializer = tf.contrib.layers.variance_scaling_initializer()\n",
    "my_dense_layer = partial(tf.layers.dense, activation=tf.nn.elu, kernel_initializer=initializer)\n",
    "# layers\n",
    "X = tf.placeholder(tf.float32, [None, n_inputs])                   # input\n",
    "hidden1 = my_dense_layer(X, n_hidden1)                             # encoder\n",
    "hidden2 = my_dense_layer(hidden1, n_hidden2)                       # encoder\n",
    "hidden3_mean = my_dense_layer(hidden2, n_hidden3, activation=None) # coding layer: train the means and the ...\n",
    "hidden3_gamma = my_dense_layer(hidden2, n_hidden3,activation=None) # ... standard deviations (or gammas, see text) ...\n",
    "noise = tf.random_normal(tf.shape(hidden3_gamma),dtype=tf.float32) # ... to randomly draw the output of the coding ...\n",
    "hidden3 = hidden3_mean + tf.exp(0.5 * hidden3_gamma) * noise       # ... layer, subject to the current instance\n",
    "hidden4 = my_dense_layer(hidden3, n_hidden4)                       # decoder\n",
    "hidden5 = my_dense_layer(hidden4, n_hidden5)                       # decoder\n",
    "logits = my_dense_layer(hidden4, n_outputs, activation=None)       # logits\n",
    "outputs = tf.sigmoid(logits)                                       # output (activation function applied to logits)\n",
    "# cross entropy for reconstruction loss, latent loss variational coding layer, total cost, optimizer, and training op.\n",
    "xentropy = tf.nn.sigmoid_cross_entropy_with_logits(labels=X, logits=logits)\n",
    "reconstruction_loss = tf.reduce_sum(xentropy)\n",
    "latent_loss = 0.5 * tf.reduce_sum(tf.exp(hidden3_gamma) + tf.square(hidden3_mean) - 1 - hidden3_gamma)\n",
    "loss = reconstruction_loss + latent_loss\n",
    "optimizer = tf.train.AdamOptimizer(learning_rate=learning_rate)\n",
    "training_op = optimizer.minimize(loss)\n",
    "# global initializer (saver as usual but skipped here and in session)\n",
    "init = tf.global_variables_initializer()\n",
    "### execution\n",
    "with tf.Session() as sess:\n",
    "    init.run()\n",
    "    # loop over epochs\n",
    "    for epoch in range(n_epochs):\n",
    "        n_batches = mnist.train.num_examples // batch_size\n",
    "        # loop over batches\n",
    "        for iteration in range(n_batches):\n",
    "            print(\"\\r{}%\".format(100 * iteration // n_batches), end=\"\")\n",
    "            sys.stdout.flush()\n",
    "            X_batch, y_batch = mnist.train.next_batch(batch_size)\n",
    "            sess.run(training_op, feed_dict={X: X_batch})\n",
    "        # get and print losses for current epoch\n",
    "        loss_val, reconstruction_loss_val, latent_loss_val = sess.run([loss, reconstruction_loss, latent_loss],\n",
    "                                                                      feed_dict={X: X_batch})\n",
    "        print(\"\\r{}\".format(epoch), \"Train total loss:\", loss_val, \"\\tReconstruction loss:\",\n",
    "              reconstruction_loss_val, \"\\tLatent loss:\", latent_loss_val)\n",
    "    # DIGIT GENERATION (in only 2 lines of code)\n",
    "    codings_rnd = np.random.normal(size=[n_digits, n_hidden3])   # sample n_digits codings from a normal distribution\n",
    "    outputs_val = outputs.eval(feed_dict={hidden3: codings_rnd}) # use ongoing session to obtain outputs from codings\n",
    "# plotting some generated digits (=outputs)\n",
    "plt.figure(figsize=(8, 50))                  # establish figure\n",
    "for iteration in range(n_digits):            # loop over digits\n",
    "    plt.subplot(n_digits, 10, iteration + 1) # establish subplot\n",
    "    plot_image(outputs_val[iteration])       # plot current digit"
   ]
  },
  {
   "cell_type": "markdown",
   "metadata": {},
   "source": [
    "Some of these generated \"digits\" look very convincing while others do not. But we did neither use much traininig nor much fine tuning. Taking that into account, the result is actually surprisingly OK.\n",
    "## Other Autoencoders\n",
    "page 437<br>\n",
    "The success of image recognition, text translation, speech recognition, and other supervised learning tasks have somewhat overshadowed the advances in unsupervised learning. But it is booming! In fact it is booming so strongly that a list of all types of novel autoencoders would be unreasonably long. So here is a brief but by no means exhaustive list of novel autoencoders:\n",
    "- **Contractive autoencoder** (CAE, https://goo.gl/U5t9Ux)<br>\n",
    "The autoencoder is constrained during training in such a way that similar inputs will have similar codings.\n",
    "- **Stacked convolutional autoencoders** (https://goo.gl/PTwsol)<br>\n",
    "Autoencoders that use convolutional layers, e.g., 2-D convolutions for image reconstruction.\n",
    "- **Generative stochastic network** (GSN, https://goo.gl/HjON1m)<br>\n",
    "A version of denoising autoencoders that also allows to generate new data.\n",
    "- **Winnter-take-all autoencoder** (WTA, https://goo.gl/I1LvzL)<br>\n",
    "This algorithm is constrained by sparse codings. Sparisity is achieved by taking only the top $k$% activations of the coding layer over an entire training batch (the other activations are set to $0$). A similar WTA approach can be used to produce sparse convolutional autoencoders.\n",
    "- **Adversarial autoencoder** (https://goo.gl/enC5fB)<br>\n",
    "One autoencoder is trained to reproduce the input and at the same time another autoencoder is trained to produce inputs that the first autoencoder cannot reproduce well. This pushes the first autoencoder to learn robust codings.\n",
    "\n",
    "## Exercises\n",
    "page 438\n",
    "### 1.-7.\n",
    "Solutions are shown in Appendix A of the book and in the separate notebook *ExercisesWithoutCode*.\n",
    "### 8. Let's use a denoising autoencoder to pretrain an image classifier:\n",
    "- You can use MNIST (simplest), or another large set of images such as CIFAR10 (https://goo.gl/VbsmxG) if you want a bigger challenge. If you choose CIFAR10, you need to write code to load batches of images for training. If you want to skip this part, TensorFlow's model zoo contains tools to do just that (https://goo.gl/3iENgb).\n",
    "- Split the dataset into an training set and a test set. Train a deep denoising autoencoder on the full training set.\n",
    "- Check that the images are fairly well reconstructed, and visualize the low-level features. Visualize the images that most activate each neuron in the coding layer.\n",
    "- Build a classification deep nerual network, reusing the lower layers of the autoencoder. Train it using only 10% of the training set. Can you get it to perform as well as the same classifier trained on the full training set?"
   ]
  },
  {
   "cell_type": "code",
   "execution_count": 16,
   "metadata": {},
   "outputs": [
    {
     "name": "stdout",
     "output_type": "stream",
     "text": [
      "A solution may follow later.\n"
     ]
    }
   ],
   "source": [
    "print(\"A solution may follow later.\")"
   ]
  },
  {
   "cell_type": "markdown",
   "metadata": {},
   "source": [
    "### 9. *Semantic hashing*, introduced in 2008 by Ruslan Salakhutdinov and Geoffrey Hinton (https://goo.gl/LXzFX6), is a technique used for efficient *information retrieval*: a document (e.g., an image) is passed through a system, typically a neural network, which outputs a fairly low-dimensional binary vectore (e.g., 30 bits). Two similar documents are likely to have identical or very similar hashes, By indexing each document using its hash, it is possible to retireve many documents similar to ta prticual document alomost instantly, even if there are billions of documents: just compute the hash of the document and look up all documents with that same hash (or hashses differing by just one or two bits). Let's implement semantic hashing using a slightly tweaked stacked autoencoder:\n",
    "- Create a stacked autoencoder containing two hidden layers below the coding layer, and train it on the image dataset you used in the previous exercise. The coding layer should contain 30 neurons and use the logistic activation function to output values between 0 and 1. After training, to produce the hash of an image, you can simply run it through the autonecoder, take the output of the coding layer, and round every value to the closest integer (0 or 1).\n",
    "- One neat trick proposed by Salkhutdinov and Hinton is to add Gaussian noise (with zero mean) to the inputs of the coding layer, during training only. In order to preserve a high signal-to-noise ratio, the autoencoder will learn to feed large values to the coding layer (so that the noise becomes negligible). In turn, this means that the logistic function of the coding layer will likely saturate at $0$ or $1$. As a result, rounding the coding to $0$ or $1$ won't distort them too much, and htis will improve the reliability for the hashes.\n",
    "- Compute the hash of every image, and see if images with identical hashes look alike. Since MNIST and CIFAR10 are labeled, a more objective way to measure the performance of the autoencoder for sematic hashing is to ensure that images with the same hash generally have the same class. One way to do this is to measure the average Gini purity (introduced in Chapter 6) of the sets of images with identical (or very similar) hashes.\n",
    "- Try fine-tuning the hyperparameters using cross-validation.\n",
    "- Note that with a labeled dataset, another approach is to train a convolutional neural network (see Chapter 13) for classification, then use the layer below the output layer to produce the hashes. See Jinma Gua and Hianmin Li's 2015 paper (https://goo.gl/i9FTln). See if that performs better."
   ]
  },
  {
   "cell_type": "code",
   "execution_count": 17,
   "metadata": {},
   "outputs": [
    {
     "name": "stdout",
     "output_type": "stream",
     "text": [
      "A solution may follow later.\n"
     ]
    }
   ],
   "source": [
    "print(\"A solution may follow later.\")"
   ]
  },
  {
   "cell_type": "markdown",
   "metadata": {},
   "source": [
    "### 10. Train a variational autoencoder on the image dataset used in the previous exersices (MNIST or CIFAR10), and make it generate images. Alternatively, you can try to find an unlabeled dataset that you are interested in and see if you can generate new samples."
   ]
  },
  {
   "cell_type": "code",
   "execution_count": 18,
   "metadata": {},
   "outputs": [
    {
     "name": "stdout",
     "output_type": "stream",
     "text": [
      "A solution may follow later.\n"
     ]
    }
   ],
   "source": [
    "print(\"A solution may follow later.\")"
   ]
  }
 ],
 "metadata": {
  "kernelspec": {
   "display_name": "Python 3",
   "language": "python",
   "name": "python3"
  },
  "language_info": {
   "codemirror_mode": {
    "name": "ipython",
    "version": 3
   },
   "file_extension": ".py",
   "mimetype": "text/x-python",
   "name": "python",
   "nbconvert_exporter": "python",
   "pygments_lexer": "ipython3",
   "version": "3.6.9"
  }
 },
 "nbformat": 4,
 "nbformat_minor": 2
}
