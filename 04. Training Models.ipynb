{
 "cells": [
  {
   "cell_type": "markdown",
   "metadata": {},
   "source": [
    "# Training Models\n",
    "See https://github.com/ageron/handson-ml/blob/master/04_training_linear_models.ipynb.\n",
    "\n",
    "## Linear Regression\n",
    "### The Normal Equation\n",
    "page 108<br>\n",
    "A straightforward derivation of the Normal Equation can be found under the following link (from caption to first subsection): https://en.wikipedia.org/wiki/Linear_least_squares_(mathematics)#Derivation_of_the_normal_equations."
   ]
  },
  {
   "cell_type": "code",
   "execution_count": 1,
   "metadata": {},
   "outputs": [],
   "source": [
    "# Use some default code (taken from the Github link above) that will be useful throughout this notebook.\n",
    "# to make this notebook's output stable across runs\n",
    "import numpy as np\n",
    "np.random.seed(42)\n",
    "# To plot pretty figures\n",
    "%matplotlib inline\n",
    "import matplotlib\n",
    "import matplotlib.pyplot as plt\n",
    "plt.rcParams['axes.labelsize'] = 14\n",
    "plt.rcParams['xtick.labelsize'] = 12\n",
    "plt.rcParams['ytick.labelsize'] = 12"
   ]
  },
  {
   "cell_type": "code",
   "execution_count": 2,
   "metadata": {},
   "outputs": [
    {
     "data": {
      "image/png": "[encoded data removed]",
      "text/plain": [
       "<Figure size 432x288 with 1 Axes>"
      ]
     },
     "metadata": {
      "needs_background": "light"
     },
     "output_type": "display_data"
    }
   ],
   "source": [
    "X = 2 * np.random.rand(100,1)          # 100 random numbers between 0 and 2\n",
    "y = 4 + 3 * X + np.random.randn(100,1) # quadratic function and added random noise (normally distributed)\n",
    "plt.plot(X, y, \"b.\")                   # plot blue dots\n",
    "plt.xlabel(\"$x$\", fontsize = 18)       # specify the x-label\n",
    "plt.ylabel(\"$y$\", fontsize = 18)       # specify the y-label\n",
    "plt.axis([0, 2, 0, 15])                # specify the range of the axes\n",
    "plt.show()"
   ]
  },
  {
   "cell_type": "markdown",
   "metadata": {},
   "source": [
    "The Normal Equation, $\\theta=(X^T\\cdot X)^{-1}\\cdot X^T\\cdot y$, is explained under the link above and on pages 107/108 of the book."
   ]
  },
  {
   "cell_type": "code",
   "execution_count": 3,
   "metadata": {},
   "outputs": [
    {
     "data": {
      "text/plain": [
       "array([[4.21509616],\n",
       "       [2.77011339]])"
      ]
     },
     "execution_count": 3,
     "metadata": {},
     "output_type": "execute_result"
    }
   ],
   "source": [
    "X_b = np.c_[np.ones((100, 1)), X] # add x0 = 1 to each instance\n",
    "theta_best = np.linalg.inv(X_b.T.dot(X_b)).dot(X_b.T).dot(y) # calculate the above formula\n",
    "theta_best"
   ]
  },
  {
   "cell_type": "markdown",
   "metadata": {},
   "source": [
    "This result needs to be compared to our choice of $\\theta_0=4$ and $\\theta_1=3$. The deviation is because of the noise. Now, this result can be used to make predictions."
   ]
  },
  {
   "cell_type": "code",
   "execution_count": 4,
   "metadata": {},
   "outputs": [
    {
     "name": "stdout",
     "output_type": "stream",
     "text": [
      "[[0]\n",
      " [2]]\n",
      "[[1. 0.]\n",
      " [1. 2.]]\n",
      "[[4.21509616]\n",
      " [9.75532293]]\n"
     ]
    }
   ],
   "source": [
    "X_new = np.array([[0], [2]])            # two new instances (only one x-value for each instance)\n",
    "print(X_new)\n",
    "X_new_b = np.c_[np.ones((2, 1)), X_new] # adding the default 1 for each instance\n",
    "print(X_new_b)\n",
    "y_predict = X_new_b.dot(theta_best)\n",
    "print(y_predict)"
   ]
  },
  {
   "cell_type": "markdown",
   "metadata": {},
   "source": [
    "Let's plot the predicitons obtained from our best fit based on the Normal Equation."
   ]
  },
  {
   "cell_type": "code",
   "execution_count": 5,
   "metadata": {},
   "outputs": [
    {
     "data": {
      "text/plain": [
       "<function matplotlib.pyplot.show(*args, **kw)>"
      ]
     },
     "execution_count": 5,
     "metadata": {},
     "output_type": "execute_result"
    },
    {
     "data": {
      "image/png": "[encoded data removed]",
      "text/plain": [
       "<Figure size 432x288 with 1 Axes>"
      ]
     },
     "metadata": {
      "needs_background": "light"
     },
     "output_type": "display_data"
    }
   ],
   "source": [
    "plt.plot(X_new, y_predict, \"r_\")\n",
    "plt.plot(X, y, \"b.\")\n",
    "plt.axis([0, 2, 0, 15])\n",
    "plt.show"
   ]
  },
  {
   "cell_type": "markdown",
   "metadata": {},
   "source": [
    "Note that we coded everything ourselves! Of course, there is also a Scikit-Learn version for this. Let's try it out!"
   ]
  },
  {
   "cell_type": "code",
   "execution_count": 6,
   "metadata": {},
   "outputs": [
    {
     "name": "stdout",
     "output_type": "stream",
     "text": [
      "[4.21509616] [[2.77011339]]\n"
     ]
    },
    {
     "data": {
      "text/plain": [
       "array([[4.21509616],\n",
       "       [9.75532293]])"
      ]
     },
     "execution_count": 6,
     "metadata": {},
     "output_type": "execute_result"
    }
   ],
   "source": [
    "from sklearn.linear_model import LinearRegression\n",
    "lin_reg = LinearRegression()\n",
    "lin_reg.fit(X, y)\n",
    "print(lin_reg.intercept_, lin_reg.coef_)\n",
    "lin_reg.predict(X_new) # note that we do not need to enter the 1s automatically - Scikit-Learn take care of this"
   ]
  },
  {
   "cell_type": "markdown",
   "metadata": {},
   "source": [
    "As expected for an analytical model like the Normal Equation, the same input leads to the same output: the results using the Scikit-Learn version are the same as those produced by our own code above.\n",
    "### Computational Complexity\n",
    "page 110<br><br>\n",
    "!!!<br>\n",
    "The Normal Equation relies on the matrix inverse of $X^T\\cdot X$ and thus has computational complexity of $O(n^{2.4})$ to $O(n^{3})$. As a consequence it becomes rather inefficient when the number of features gets large, e.g. 100000. On the other hand, computation time scales linearly with the number of instances for training, so large training sets can be handled efficiently. Moreover, it also scales linearly with the number of instances to predict and with the number of features to predict. In short, training may be slow if there are a lot of features but inference/prediction will be fast.\n",
    "## Gradient Descent\n",
    "page 111<br>\n",
    "Gradient descent start with a random inital set of model parameter. For this set, the gradient of the cost function is calculated. Then, a step is taken downward the slope. The idea is that by repeating this procedure, the global minimum will be reached. However, there are several pitfalls like plateaus (gradient is zero) and local minima (gradient is also zero). Moreover, the step size is important. If it is too small, the procedure can take a long time. If it is too large, one might jump from a point close to the global minimum to another point even further from the minimum. Therefore, the step size, or *learning rate*, usually has a large initial value and the decreases more and more.<br>\n",
    "<br>\n",
    "Using equal scaling for all features helps making the convergence of gradient descent fast. A similar scale can be obtained, e.g., with Scikit-Learn's *StandardScaler* class.\n",
    "### Batch Gradient Descent\n",
    "page 114<br>\n",
    "The mean square error and its gradient are given by\n",
    "$${\\rm MSE}(X)=\\frac{1}{m}\\sum_{i=1}^m\\left(\\theta^T\\cdot x^{(i)}-y^{(i)}\\right)^2\\,,\\quad\\frac{\\partial}{\\partial\\theta_j}{\\rm MSE}(\\theta)=\\frac{2}{m}\\sum_{i=1}^m\\left(\\theta^T\\cdot x^{(i)}-y^{(i)}\\right)x_j^{(i)}\\,.$$ Calculating the derivative for each $\\theta_j$ in this way, the gradient can be written as $\\nabla_{\\theta}{\\rm MSE}(\\theta)=(2/m)X^T\\cdot(X\\cdot\\theta-y)$, where the bracket is simply a list where each element corresponds to an instance as shown above. To obtain the j-th component of the gradient this is preceded by the transpose matrix $X^T$, so the list has the appropriate ordering the scalar product between the $X^T$ and the bracket restores the summation over instances $i$.<br><br>\n",
    "Notice that this formula involves calculations over the full training set $X$, at each gradient descent step! This is why the algorithm is called *Batch Gradient Descent*: it uses the whole batch of trainng data at every step. As a result it is terribly slow on very large training sets (but we will see much faster gradient descent algorithms shortly). However, gradient descent scales well with the number of features; trainng a linear regression model when there are hundreds of thousands of features is much faster using gradient descent than using the Normal Equation.\n",
    "<br><br>\n",
    "When the gradient is obtained, we go a step in the opposite direction the gradient is pointing. This is where the step size $\\eta$ comes in:\n",
    "$$\\theta^{\\text{(next step)}}=\\theta-\\eta\\nabla_{\\theta}{\\rm MSE}(\\theta)\\,.$$\n",
    "Now, let's code this!"
   ]
  },
  {
   "cell_type": "code",
   "execution_count": 7,
   "metadata": {},
   "outputs": [
    {
     "name": "stdout",
     "output_type": "stream",
     "text": [
      "[[0.01300189]\n",
      " [1.45353408]]\n",
      "[[4.21509616]\n",
      " [2.77011339]]\n"
     ]
    }
   ],
   "source": [
    "eta = 0.1                       # step size = learning rate (here the learning rate is constant)\n",
    "n_iterations = 1000             # number of steps\n",
    "m = 100                         # number of instances (see second code cell)\n",
    "theta = np.random.randn(2,1)    # random initialization of the two model parameters\n",
    "print(theta)\n",
    "for iteration in range(n_iterations):\n",
    "    gradients = 2/m * X_b.T.dot(X_b.dot(theta) - y)\n",
    "    theta = theta - eta * gradients\n",
    "print(theta)"
   ]
  },
  {
   "cell_type": "markdown",
   "metadata": {},
   "source": [
    "Impressively, this is exactly what we found via the Normal Equation! But the learning rate is very important: in addition to 0.1, try other values, too! The results can differ significantly. **Grid search** (see chapter 2) can be a useful tool to find a good learning rate. Also consider stopping the iteration when the norm of the gradient becomes very small, i.e., smaller than some defined value $\\epsilon$ (the so-called *tolerance*). This typically happens when the minimum is (almost) reached.<br><br>\n",
    "**Convergence Rate**<br>\n",
    "When the cost function is convex and its slope does not change abruptly (as is the case for the MSE cost function), it can be shown hat Batch Gradient Descent with a fixed learning rate has a *convergence rate* of $O(1/{\\rm iterations})$. In other words, if you divide the tolerance $\\epsilon$ by 10 (to have a more precise solution), then the algorithm will have to run about 10 times more iterations.\n",
    "### Stochastic Gradient Descent\n",
    "page 117<br>\n",
    "Instead of calculating the gradient on the entire \"batch\" (all instances), stochastic gradient descent calculates the gradient only for one randomly (hence *stochastic*) chosen instance. This is obviously much faster and allows the use of huge training sets (many, many instances). So stochastic gradient descent is an option for out of core training. However, due to its stochastic nature, this procedure does not go straight to a minimum but bounces around, up and down in the cost function, only decreasing on average. This may help escape minima in the cost function that are local but not global. But it also means that the algorithm does not settle at a minimum but bounces around it. So once the algorithm stops, its parameters are good, but not optimal. To counter that issue at least to a certain extent, the step size can be decreased as the minimum is approached. This is called *simulated annealing*, in analogy to the treatment of a metal that leads to desired properties when it cools down. The function that determines the step size / learning rate is called the *learning schedule*. If the step size decreases to fast, the algorithm might stop far away from the minimum. If it decreases too slowly, it may jump further and further away from it.<br>\n",
    "Now, let's code it!"
   ]
  },
  {
   "cell_type": "code",
   "execution_count": 8,
   "metadata": {},
   "outputs": [
    {
     "data": {
      "text/plain": [
       "array([[4.18475289],\n",
       "       [2.73036719]])"
      ]
     },
     "execution_count": 8,
     "metadata": {},
     "output_type": "execute_result"
    }
   ],
   "source": [
    "n_epochs = 50                 # number of iterations through training set (here: \"epochs\" - above: \"iterations\")\n",
    "t0, t1 = 5, 50                # parameters for the learning schedule\n",
    "def learning_schedule(t):     # make step size eta (below) smaller in every step\n",
    "    return t0 / (t + t1)\n",
    "theta = np.random.randn(2,1)  # random initialization\n",
    "for epoch in range(n_epochs): # loop through all epochs ...\n",
    "    for i in range(m):        # ... and for each epoch, loop through entire training set ...\n",
    "        random_index = np.random.randint(m)          # ... where some instances may not occur due to random choice\n",
    "        xi = X_b[random_index:random_index+1]        # dx at random x; note that randint(m) lies in [0,m-1]\n",
    "        yi =y[random_index:random_index+1]           # dy for corresponding random x\n",
    "        gradients = 2 * xi.T.dot(xi.dot(theta) - yi) # use the above gradient equation (inline) with m = 1 as ...\n",
    "        eta = learning_schedule(epoch * m + i)       # ... as only one instance is considered | update step size\n",
    "        theta = theta - eta * gradients              # make the step in the according direction\n",
    "theta                         # show the result"
   ]
  },
  {
   "cell_type": "markdown",
   "metadata": {},
   "source": [
    "To make sure that each instance in considered in any epoch, one may shuffle the instances (=> randomness), loop through the shuffled instances, and then shuffling them again before the next loop. However, this tends to converge more slowly.<br><br>\n",
    "The following code uses the version from Scikit-Learn."
   ]
  },
  {
   "cell_type": "code",
   "execution_count": 9,
   "metadata": {},
   "outputs": [
    {
     "data": {
      "text/plain": [
       "(array([4.22609703]), array([2.79227913]))"
      ]
     },
     "execution_count": 9,
     "metadata": {},
     "output_type": "execute_result"
    }
   ],
   "source": [
    "from sklearn.linear_model import SGDRegressor               # load the stochastic gradient descent regressor\n",
    "sgd_reg = SGDRegressor(max_iter=50, penalty=None, eta0=0.1) # using max_iter instead of n_iter\n",
    "sgd_reg.fit(X, y.ravel())                                   # training (after flattening y via \"ravel\")\n",
    "sgd_reg.intercept_, sgd_reg.coef_                           # parameter prediction"
   ]
  },
  {
   "cell_type": "markdown",
   "metadata": {},
   "source": [
    "This solution is similar to the one we obtained via our own code. SGD is fast and gives good results for this task.\n",
    "### Mini-batch Gradient Descent\n",
    "page 119<br>\n",
    "Mini-batch gradient descent is a compromise between the two extremes discussed above: while batch gradient descent calculates the gradient on the entire batch and stochastic gradient descent only on one instance, mini-batch calculates the gradient on a to be specified number of instances. Hence the name mini-batch gradient descent. The main advantage of mini-batch gradient descent is that proper choice of the size of the mini-batch can give a performance boost when the ensuing matrix operations exploit the hardware well. As expected, mini-batch gradient descent deviates less from the optimal gradient than stochastic gradient descent. So usually, it ends up walking around closer to the minimum than stochastic gradient descent but it is also less capable of escaping local minima.<br>\n",
    "Note that if the learning schedule is chosen well, both stochastic and mini-batch gradient descent can stop at the minimum.<br><br>\n",
    "**General note**<br>\n",
    "There is almost no difference after training: all these algorithms end up with very similar models and make predictions in exactly the same way. \\[This general note refers to the three types of gradient descent algorithms and to the normal equation.\\]\n",
    "## Polynomial Regression\n",
    "page 121<br>\n",
    "Linear models can also be used on polynomial data. This can be achieved by combining linear features to additional features of higher power. This technique is called *polynomial regression*. To try this, let's generate some nonlinear data."
   ]
  },
  {
   "cell_type": "code",
   "execution_count": 10,
   "metadata": {},
   "outputs": [
    {
     "name": "stdout",
     "output_type": "stream",
     "text": [
      "[2.94407494]\n",
      "(100, 1)\n",
      "[2.94407494 8.66757727]\n",
      "(100, 2)\n"
     ]
    }
   ],
   "source": [
    "m = 100                                        # 100 instances ...\n",
    "X = 6 * np.random.rand(m, 1) - 3               # ... between -3 and +3\n",
    "y = 0.5 * X**2 + X + 2 + np.random.randn(m, 1) # y=0.5X^2+X+2\n",
    "# a straight line is not expected to fit this data\n",
    "from sklearn.preprocessing import PolynomialFeatures             # import stuff from sklearn\n",
    "poly_features = PolynomialFeatures(degree=2, include_bias=False) # this adds polynomial features up to 2nd order\n",
    "X_poly = poly_features.fit_transform(X)                          # use the above to establish polynomial data\n",
    "print(X[0])\n",
    "print(X.shape)\n",
    "print(X_poly[0])\n",
    "print(X_poly.shape)"
   ]
  },
  {
   "cell_type": "markdown",
   "metadata": {},
   "source": [
    "Having added quadratic features, all features required for a *linear* fit should now be there: the constant offset and the linear terms are fitted anyway, and the quadratic terms can be fitted linearly with the newly engineered quadratic features. These should have little to no weight on the linear terms, and the linear features should have little to no weight on the quadratic terms. Let's check the linear regression!"
   ]
  },
  {
   "cell_type": "code",
   "execution_count": 11,
   "metadata": {},
   "outputs": [
    {
     "data": {
      "text/plain": [
       "(array([1.89554823]), array([[0.95707476, 0.49025797]]))"
      ]
     },
     "execution_count": 11,
     "metadata": {},
     "output_type": "execute_result"
    }
   ],
   "source": [
    "lin_reg = LinearRegression()      # choose algorithm\n",
    "lin_reg.fit(X_poly, y)            # fitting / training\n",
    "lin_reg.intercept_, lin_reg.coef_ # offset (2), linear (1), and quadratic (0.5) terms"
   ]
  },
  {
   "cell_type": "markdown",
   "metadata": {},
   "source": [
    "Note that polynomial regression is also capable of finding combinations of features in the data. This is because _PolynomialFeatures_ up to , e.g., degree 2 not only includes $a^2$ and $b^2$ but also $ab$.<br><br>\n",
    "**Warning / caution**<br>\n",
    "*PolynomialFeatures(degree=d)* transforms an array containin $n$ features into an array containing $(n+d)!/(d!n!)$ features, where $n!$ is the *factorial* of $n$, equal to $1\\times2\\times3\\times\\cdots\\times n$. Beware of the combinatorial explosion of the number of features!\n",
    "## Learning Curves\n",
    "page 123<br>\n",
    "Not surprisingly, using a high-order polynomial fit is prone to overfitting the data while a low-order polynomial might underfit it. An overfitted algorithm typically performs well on the training data but significantly worse on the validation data. An underfitting algorithm typically performs poor on both.<br>\n",
    "Another way to look for over- and underfitting is via the *learning curves*, which show the performance on the training and validation data as a function of the size of the training data. An example code is as follows."
   ]
  },
  {
   "cell_type": "code",
   "execution_count": 12,
   "metadata": {},
   "outputs": [
    {
     "data": {
      "image/png": "[encoded data removed]",
      "text/plain": [
       "<Figure size 432x288 with 1 Axes>"
      ]
     },
     "metadata": {
      "needs_background": "light"
     },
     "output_type": "display_data"
    }
   ],
   "source": [
    "from sklearn.metrics import mean_squared_error       # import metric\n",
    "from sklearn.model_selection import train_test_split # import training and testing set splitting\n",
    "def plot_learning_curves(model, X, y):               # define the function that make the below plots\n",
    "    X_train, X_val, y_train, y_val = train_test_split(X, y, test_size=0.2)    # training and testing set splitting\n",
    "    train_errors, val_errors = [], []                # data containers for plots\n",
    "    for m in range(1, len(X_train)):                 # loop through the data for the points on the x-axis\n",
    "        model.fit(X_train[:m], y_train[:m])          # train the model on the training data of the current size\n",
    "        y_train_predict = model.predict(X_train[:m]) # make predictions with the trained set of the current size\n",
    "        y_val_predict = model.predict(X_val)         # make predictions on the entire validation set\n",
    "        train_errors.append(mean_squared_error(y_train_predict, y_train[:m])) # judge predictions on training set\n",
    "        val_errors.append(mean_squared_error(y_val_predict, y_val))           # judge predictions on validation set\n",
    "    plt.plot(np.sqrt(train_errors), \"r-+\", linewidth=2, label=\"train\")        # plot training graph\n",
    "    plt.plot(np.sqrt(val_errors), \"b_\", linewidth=3, label=\"val\")             # plot validation graph\n",
    "lin_reg = LinearRegression()                         # use a linear regressor\n",
    "plot_learning_curves(lin_reg, X, y)                  # apply the above function => produce plots"
   ]
  },
  {
   "cell_type": "markdown",
   "metadata": {},
   "source": [
    "Some remarks are due. For little training data, the algorithm can fit the data points perfectly, i.e., the error (y-axis) is zero for the training set. However, the poorly trained model performs terribly on the validation set. With more training instances, the model cannot fit perfectly anymore so the error increases. It reaches a plateau once the algorithm is sufficiently fitted: more data will not change the model significantly, anymore. For the validation set, the algorithm performs similarly and also reaches a plateau once the parameters do not change significantly, anymore. Usually, the algorithm performs a bit better on the training set than on the validation set as it is fitted to the training set.<br><br>\n",
    "**Tip or suggestion**<br>\n",
    "If your model is underfitting the training data, adding more training examples will not help. You need to use a more complex model or come up with better features.<br><br>\n",
    "Now, let's try something that is likely to overfit the data: a 10th-degree polynomial."
   ]
  },
  {
   "cell_type": "code",
   "execution_count": 13,
   "metadata": {},
   "outputs": [
    {
     "data": {
      "image/png": "[encoded data removed]",
      "text/plain": [
       "<Figure size 432x288 with 1 Axes>"
      ]
     },
     "metadata": {
      "needs_background": "light"
     },
     "output_type": "display_data"
    }
   ],
   "source": [
    "from sklearn.pipeline import Pipeline             # import Pipeline from sklearn\n",
    "polynomial_regression = Pipeline((                # establish the model via the pipeline\n",
    "        (\"poly_features\", PolynomialFeatures(degree=10, include_bias=False)),\n",
    "        (\"lin_reg\", LinearRegression()),\n",
    "    ))\n",
    "plot_learning_curves(polynomial_regression, X, y) # call the function defined above; the model is a parameter of it"
   ]
  },
  {
   "cell_type": "markdown",
   "metadata": {},
   "source": [
    "There are two major differences to the previous figure:\n",
    "- The eror on the training set is much lower than for the underfitting model.\n",
    "- There is a significant gap between the lines with the validation error being higher. This is the hallmark of overfitting. However, a (much) larger training set might bring the lines closer to each other.\n",
    "\n",
    "**Tip or suggestion**<br>\n",
    "One way to imporve an overfitting model is to feed it more training data until the validation error reaches the training error.<br><br>\n",
    "**Excursion: The Bias7Variance Tradeoff**<br>\n",
    "An important theoretical result of statistics and Machine Learning is the fact that a model's generalization error can be expressed as the sum of three very different errors:\n",
    "- Bias\n",
    "This part of the generalization error is due to wrong assumptions, such as assuming that the data is linear when it is actually quadratic. A high-bias model is most likely to underfit the training data.\n",
    "- Variance\n",
    "This part is due to the model's excessive sensitivity to small variations in the training data. A model with many degrees of freedom (such as a high-degree polynomial model) is likely to have high variance, and thus to overfit the training data.\n",
    "- Irreducible error\n",
    "This part is due to the noisiness of the data itself. The only way to reduce this part of the error is to clean up the data (e.g., fix the data sources, such as broken sensors, or detect and remove outliers).\n",
    "\n",
    "Increasing a model's complexity will typically increase its variance and reduce its bias. Conversely, reducing a model's complexity increases its bias and reduces its variance. This is why it is called a tradeoff.\n",
    "## Regularized Linear Models\n",
    "page 127<br>\n",
    "Overfitting can be countered with regularization, i.e., by constraining the weights of the model. This can be done by neglecting weights (or setting them to zero) or by establishing a \"cost\" for the adjustment of these weight. We will discuss Ridge Regression, Lasso Regression, and Elastic Net.<br>\n",
    "Here, regularization is introduced in the context of linear models. However, regularization is not restricted to linear models. In fact, it can be applied to any model that is trained with a cost function by simply adding an additional cost that increases for larger fitting parameters. Bias terms are usually excluded from the regularization.\n",
    "### Ridge Regression\n",
    "This is also called *Tikhonov regularization* and is a regularized version of linear regression that adds a *regularization term* of the form $\\alpha\\sum_{i=1}^n\\theta_i^2$ to the cost function. The regularization term should only be included during training but not when applying the trained model to make new predictions (test or all new). The hyperparameter $\\alpha$ determines how strongly the model is regularized.<br><br>\n",
    "**General note**<br>\n",
    "It is quite common for the cost function used during training to be different from the perfromance measue used for testing. Apart from regularization, another reason why they might be different is that a good training cost function should have optimization-friendly derivatives, while the perfromrance measure used for testing should be as close as possible to the final objective.  A good example of this is a classifier trained using a cost function such as the log loss (discussed in a moment) but evaluated using precision/recall.<br><br>\n",
    "The cost function for Ridge Regression is given by $J(\\theta)=\\text{MSE}(\\theta)+\\frac{\\alpha}{2}\\sum_{i=1}^n\\theta_i^2$. Note that the bias term $\\theta_0$ (offset on y-axis) is not regularized. The sum of squares can be rewritten as the squared norm of the vector of feature weights (without $\\theta_0$).<br><br>\n",
    "**Warning / caution**<br>\n",
    "It is important to scale the data (e.g., using a *StandardScaler*) before performing Ridge Regression, as it is sensitive to the scale of the input features. This is true of most regularized models.<br><br>\n",
    "Larger $\\alpha$ increases the bias and reduces the variance. Ridge regression can be applied to linear regression via the normal equation and via stochastic gradient descent. The formula corresponding to the normal equation is given by $\\theta=(X^T\\cdot X+\\alpha A)^{-1}\\cdot X^T\\cdot y$. Now let's code Ridge Regression with Scikit-Learn using a closed-form solution (normal equation)!"
   ]
  },
  {
   "cell_type": "code",
   "execution_count": 14,
   "metadata": {},
   "outputs": [
    {
     "data": {
      "text/plain": [
       "array([[1.55071465]])"
      ]
     },
     "execution_count": 14,
     "metadata": {},
     "output_type": "execute_result"
    }
   ],
   "source": [
    "# the next four lines are from the linked Github website above\n",
    "np.random.seed(42)\n",
    "m = 20\n",
    "X = 3 * np.random.rand(m, 1)\n",
    "y = 1 + 0.5 * X + np.random.randn(m, 1) / 1.5\n",
    "# continue with code as in the book\n",
    "from sklearn.linear_model import Ridge\n",
    "ridge_reg = Ridge(alpha=1, solver=\"cholesky\") # https://en.wikipedia.org/wiki/Cholesky_decomposition#Example\n",
    "ridge_reg.fit(X, y)\n",
    "ridge_reg.predict([[1.5]])"
   ]
  },
  {
   "cell_type": "markdown",
   "metadata": {},
   "source": [
    "And now the same for stochastic gradient descent."
   ]
  },
  {
   "cell_type": "code",
   "execution_count": 15,
   "metadata": {},
   "outputs": [
    {
     "data": {
      "text/plain": [
       "array([1.46543286])"
      ]
     },
     "execution_count": 15,
     "metadata": {},
     "output_type": "execute_result"
    }
   ],
   "source": [
    "sgd_reg = SGDRegressor(penalty=\"l2\") # note the use of the L2-norm (see text between \"General note\" and ...\n",
    "sgd_reg.fit(X, y.ravel())            # ... \"Warning / caution\" above), which identifies Rigde Regression\n",
    "sgd_reg.predict([[1.5]])"
   ]
  },
  {
   "cell_type": "markdown",
   "metadata": {},
   "source": [
    "### Lasso Regression\n",
    "page 130<br>\n",
    "While Ridge regression uses the regularization term $\\frac{\\alpha}{2}\\sum_{i=1}^n\\theta_i^2$, Lasso Regression uses the regularization term $\\alpha\\sum_{i=1}^n|\\theta_i|$. As a consequence, the total cost function turns from a smooth bowl (Ridge Regression) to a bowl with grooves / gutters that lead all the way down to the minimum (Lasso Regression). This is nicely illustrated in Fig. 4-19 on page 131. Following the gradient, the algorithm will hit such grooves and remain on them on its way to the minimum. As a consequence, the weights on the features corresponding to these grooves will be zero (or close to zero). So Lasso Regression disregards non-relevant features almost completely. This behavior is also hinted by the term *least absolute shrinkage and selection operator algorithm* (LASSO algorithm).<br><br>\n",
    "**Tip or suggestion**<br>\n",
    "On the Lasso cost functio, the BGD [batch gradient descent] path tends to bounce across the gutter [groove] toward the end. This is because the slope changes abruptly at $\\theta_2=0$, You need to gradually reduce the learning rate in order to actually converge to the global minimum.<br><br>\n",
    "The cost function of the Lasso Regression is not differentiable at $\\theta_i=0$ (for any $i\\in[1,n]$). But a useful gradient can still be obtained by subtituting the according gradient component with $sgn(\\theta_i)$ and calculating the *subgradient* (default derivatives) on the remaining components. Now, let's code this!"
   ]
  },
  {
   "cell_type": "code",
   "execution_count": 16,
   "metadata": {},
   "outputs": [
    {
     "data": {
      "text/plain": [
       "array([1.53788174])"
      ]
     },
     "execution_count": 16,
     "metadata": {},
     "output_type": "execute_result"
    }
   ],
   "source": [
    "from sklearn.linear_model import Lasso # here, we do not code ourselves but use a version from Scikit-Learn\n",
    "lasso_reg = Lasso(alpha=0.1)           # set the hyperparameter \\alpha\n",
    "lasso_reg.fit(X, y)                    # train the model\n",
    "lasso_reg.predict([[1.5]])             # make a prediction"
   ]
  },
  {
   "cell_type": "markdown",
   "metadata": {},
   "source": [
    "The prediction is close to the ones above for Ridge Regression (with the closed form and with stochastic gradient descent, respectively).\n",
    "### Elastic Net\n",
    "page 132<br>\n",
    "Getting rid of irrelevant features is beneficial but not attainable with Ridge regression, so Lasso regression is very promising. However, it can behave erratically if the number of features is greater than the number of instances or when several features are strongly correlated. To handle this, one can use an Elastic Net, which is a mixture of Ridge and Lasso. By tuning its hyperparameter $r$, one can choose the weights of the Ridge and Lasso cost functions: the cost function of an Elastic Net is given by\n",
    "$$J(\\theta)=\\text{MSE}(\\theta)+r\\alpha\\sum_{i=1}^n|\\theta_i|+\\frac{1-r}{2}\\sum_{i=1}^n\\theta_i^2\\,.$$\n",
    "With Scikit-Learn, the code is as simple as follows."
   ]
  },
  {
   "cell_type": "code",
   "execution_count": 17,
   "metadata": {},
   "outputs": [
    {
     "data": {
      "text/plain": [
       "array([1.54333232])"
      ]
     },
     "execution_count": 17,
     "metadata": {},
     "output_type": "execute_result"
    }
   ],
   "source": [
    "from sklearn.linear_model import ElasticNet       # importing elastic net from Scikit-Learn\n",
    "elastic_net = ElasticNet(alpha=0.1, l1_ratio=0.5) # setting the hyperparameters \\alpha and r in the formula above\n",
    "elastic_net.fit(X, y)                             # training\n",
    "elastic_net.predict([[1.5]])                       # inference"
   ]
  },
  {
   "cell_type": "markdown",
   "metadata": {},
   "source": [
    "### Early Stopping\n",
    "page 133<br>\n",
    "With more training, an algorithm initially becomes better on the validation set. But when training surpasses a certain threshold, overfitting sets in and performance on the validation set becomes worse. Early Stopping aborts training as soon as the cost function changes from going down to going up again. This kind of regularization technique works so well that Geoffrey Hinton, the \"Godfather of AI\", called it *beautiful free lunch*.<br><br>\n",
    "**Tip or suggestion**<br>\n",
    "With Stochastic and Mini-batch Gradient Descent, the curves are not so smooth, and it may be hard to know whether you have reached the minimum or not. One solution is to stop only after the validation error has been above the minimum for some time (when you are confident that the model will not do any better), then roll back the model parameters to the point where the validation error was at a minimum.<br><br>\n",
    "Let's implement this!"
   ]
  },
  {
   "cell_type": "code",
   "execution_count": 18,
   "metadata": {},
   "outputs": [
    {
     "data": {
      "text/plain": [
       "(543,\n",
       " SGDRegressor(alpha=0.0001, average=False, early_stopping=False, epsilon=0.1,\n",
       "              eta0=0.0005, fit_intercept=True, l1_ratio=0.15,\n",
       "              learning_rate='constant', loss='squared_loss', max_iter=1000,\n",
       "              n_iter_no_change=5, penalty=None, power_t=0.25, random_state=None,\n",
       "              shuffle=True, tol=0.001, validation_fraction=0.1, verbose=0,\n",
       "              warm_start=True))"
      ]
     },
     "execution_count": 18,
     "metadata": {},
     "output_type": "execute_result"
    }
   ],
   "source": [
    "# the next few lines are taken from the notebook on Github linked above\n",
    "# in short, data is generated and split into training and validation sets\n",
    "# then the data issent through a pipeline that generates polynomial features up to degree 90 and that applies ...\n",
    "# standard scaling\n",
    "from sklearn.preprocessing import StandardScaler\n",
    "np.random.seed(42)\n",
    "m = 100\n",
    "X = 6 * np.random.rand(m, 1) - 3\n",
    "y = 2 + X + 0.5 * X**2 + np.random.randn(m, 1)\n",
    "X_train, X_val, y_train, y_val = train_test_split(X[:50], y[:50].ravel(), test_size=0.5, random_state=10)\n",
    "poly_scaler = Pipeline([\n",
    "        (\"poly_features\", PolynomialFeatures(degree=90, include_bias=False)),\n",
    "        (\"std_scaler\", StandardScaler()),\n",
    "    ])\n",
    "X_train_poly_scaled = poly_scaler.fit_transform(X_train)\n",
    "X_val_poly_scaled = poly_scaler.transform(X_val)\n",
    "# now, continue according to the book\n",
    "from sklearn.base import clone   # this will allow to roll back to previous parameters\n",
    "sgd_reg = SGDRegressor(max_iter=1000, warm_start=True, penalty=None, learning_rate=\"constant\", eta0=0.0005)\n",
    "minimum_val_error = float(\"inf\") # initialize an infinite validation error\n",
    "best_epoch = None                # container for best epoch\n",
    "best_model = None                # container for best model\n",
    "for epoch in range(1000):        # try a thousand epochs\n",
    "    sgd_reg.fit(X_train_poly_scaled, y_train)            # see displayed text below\n",
    "    y_val_predict = sgd_reg.predict(X_val_poly_scaled)   # make prediction on validation set\n",
    "    val_error = mean_squared_error(y_val_predict, y_val) # checking the error\n",
    "    if val_error < minimum_val_error:                    # update the minimal validation error, the best epoch, ...\n",
    "        minimum_val_error = val_error                    # ... and the best model\n",
    "        best_epoch = epoch\n",
    "        best_model = clone(sgd_reg)\n",
    "best_epoch, best_model                                   # show results"
   ]
  },
  {
   "cell_type": "markdown",
   "metadata": {},
   "source": [
    "Note that with *warm_start=True*, training via the *fit()*-method resumes where it stopped before instead of starting over!<br><br>\n",
    "While we have introduced regularization for linear models, it can also be applied to other models. A model is regularized whenever fitted parameters are associated a penalty that is added to the cost function.\n",
    "## Logistic Regression\n",
    "page 134<br>\n",
    "Sometimes referred to as *Logit Regression*, Logistic Regression is one of those regression algorithms that are used for classification. It yields an output between 0 and 1 that is interpreted as the probability that the according instance belongs to a given class. This makes it a binary classifier.\n",
    "### Estimating Probabilities\n",
    "page 134<br>\n",
    "The output of some regression algorithm is mapped onto the interval [0, 1] via some function (that usually represents the integral of some probability distribution). Logistic Regression uses the *logistic* or *logit* function $p=h_{\\theta}(x)=\\sigma(\\theta^T\\cdot x)$, where the *sigmoid function* is the S-shaped function $\\sigma(t)=(1+e^{-t})^{-1}$. Binary classification is obtained by applying a heaviside function to $p-\\nu$, e.g., with $\\nu=0.5$. Logistic Regression predicts the positive class for $p\\geq0.5$ and the negative class for $p<0.5$.\n",
    "### Training and Cost Function\n",
    "page 135<br>\n",
    "The cost function $c(\\theta)$ should be large for wrong and small for correct predictions, i.e., $c(\\theta)=-log(p)$ for $y=1$ (positive class => small cost for true positives, large cost for false negatives) and $c(\\theta)=-log(1-p)$ for $y=0$ (negative class => large cost for false positives, small cost for true negatives). So the total cost on the entire training set with $m$ instances is given by\n",
    "$$J(\\theta)=-\\frac{1}{m_i}\\sum^m_{i=1}\\left(y^{(i)}\\text{log}(p^{(i)})-(1-y^{(i))})\\text{log}(1-p^{(i)})\\right)\\,.$$\n",
    "There is no closed-form equation like for the Normal Equation above. But gradient descent will still work fine. The gradient on the above cost function is\n",
    "$$\\frac{\\partial}{\\partial\\theta_j}J(\\theta)=\\frac{1}{m}\\sum_{i=1}^m\\left(p^{(i)}-y^{(i)}\\right)x_j^{(i)}\\,,$$\n",
    "where we have used $p^{(i)}=\\sigma(\\theta^T\\cdot x^{(i)})$ and basic differentiation rules (confirmed on paper by hand, see \"Gradients.pdf\").\n",
    "\n",
    "### Decision Boundaries\n",
    "page 136<br>\n",
    "We demonstrate Logistic Regression with the iris dataset that contains data on the petals (*Kronblätter*) and sepals (*Kelchblätter*) of 150 iris flowers. Each flower / instance belongs to one out of three species / classes. Here, we try to detect the species *Iris-Virginica*."
   ]
  },
  {
   "cell_type": "code",
   "execution_count": 19,
   "metadata": {},
   "outputs": [
    {
     "name": "stdout",
     "output_type": "stream",
     "text": [
      "['data', 'target', 'target_names', 'DESCR', 'feature_names', 'filename']\n"
     ]
    },
    {
     "name": "stderr",
     "output_type": "stream",
     "text": [
      "/anaconda3/lib/python3.6/site-packages/sklearn/linear_model/logistic.py:432: FutureWarning: Default solver will be changed to 'lbfgs' in 0.22. Specify a solver to silence this warning.\n",
      "  FutureWarning)\n"
     ]
    },
    {
     "data": {
      "text/plain": [
       "<matplotlib.legend.Legend at 0x118918710>"
      ]
     },
     "execution_count": 19,
     "metadata": {},
     "output_type": "execute_result"
    },
    {
     "data": {
      "image/png": "[encoded data removed]",
      "text/plain": [
       "<Figure size 432x288 with 1 Axes>"
      ]
     },
     "metadata": {
      "needs_background": "light"
     },
     "output_type": "display_data"
    }
   ],
   "source": [
    "# get the data\n",
    "from sklearn import datasets              # call datasets from sklearn\n",
    "iris = datasets.load_iris()               # put data in a data container (\"iris\")\n",
    "print(list(iris.keys()))                  # show what information is stored\n",
    "X = iris[\"data\"][:, 3:]                   # get the data on petals and sepals, but here, only the petal width\n",
    "y = (iris[\"target\"] == 2).astype(np.int)  # classify for \"Iris-Virginica\" (yes or no)\n",
    "# train the classifier\n",
    "from sklearn.linear_model import LogisticRegression # get the logistic regression\n",
    "log_reg = LogisticRegression()                      # give it a handy name\n",
    "log_reg.fit(X, y)                                   # train it\n",
    "# infer probabilities for newly generated instances (petal widths); parts of code taken from Github link above\n",
    "X_new = np.linspace(0, 3, 1000).reshape(-1, 1)                    # new instances\n",
    "y_proba = log_reg.predict_proba(X_new)                            # inference\n",
    "plt.plot(X_new, y_proba[:, 1], \"g-\", label=\"Iris-Virginica\")      # show probability as function of petal width\n",
    "plt.plot(X_new, y_proba[:, 0], \"b--\", label=\"Not Iris-Virginica\") # probability of opposite class\n",
    "plt.xlabel(\"Petal width (cm)\", fontsize=14)                       # x-axis\n",
    "plt.ylabel(\"Probability\", fontsize=14)                            # y-axis\n",
    "plt.legend(loc=\"center left\", fontsize=14)                        # legend"
   ]
  },
  {
   "cell_type": "markdown",
   "metadata": {},
   "source": [
    "Instead of asking for the probabilities via the *predict_proba()* method, one can also ask directly for the predicted class, using the *predict()* method."
   ]
  },
  {
   "cell_type": "code",
   "execution_count": 20,
   "metadata": {},
   "outputs": [
    {
     "data": {
      "text/plain": [
       "array([1, 0])"
      ]
     },
     "execution_count": 20,
     "metadata": {},
     "output_type": "execute_result"
    }
   ],
   "source": [
    "log_reg.predict([[1.7], [1.5]]) # prediction on two instances yields two predictions"
   ]
  },
  {
   "cell_type": "markdown",
   "metadata": {},
   "source": [
    "By default, Scikit-Learn adds some regularization via Ridge Regression (L2 penalty) to Logistic Regression.<br><br>\n",
    "**General note**<br>\n",
    "The hyperparameter controlling the regularization strength of a Scikit-Learn *LogisticRegression* model is not *alpha* (as in other linear models), but its inverse: *C*. The higher the value of *C*, the *less* the model is regularized.\n",
    "### Softmax Regression\n",
    "page 139<br>\n",
    "Logistic Regression can be generalized for multiclass tasks (not multioutput tasks) via *Softmax Regression* or *Multinomial Logistic Regression*. Therefore, the algorithm is trained on a dataset with multiple classes where an individual parameter vector $\\theta^{(k)}$ is attributed to class $k$. Given a new instance, class $k$ is associated the *softmax score* $s_k(x)=(\\theta^{(k)})^T\\cdot x$, where $x$ is the feature vector. The *softmax function*,\n",
    "$$p_k=\\frac{exp(s_k(x))}{\\sum_{j=1}^Kexp(s_j(x))}\\,,$$\n",
    "yields the probability that this instance belongs to class $k$ (out of a total of $K$ classes). The classifier attributes the instance to that class with the highest probability. Note that the softmax score can be negative! The exponentals ensure that all probabilities are positive. And dividing by the sum of all exponentials yields an output between 0 and 1.<br><br>\n",
    "**Tip or suggestion**<br>\n",
    "The Softmax Regression classifier predicts only one class at a time (i.e., it is  multiclass, not multioutput) so it should be used only with mutually exclusive classes such as different types of plants. You cannot use it to recognize multiple people in one picture.<br><br>\n",
    "A suitable cost function for Softmax Regression is the *cross entropy*,\n",
    "$$J(\\Theta)=-\\frac{1}{m}\\sum_{i=1}^m\\sum_{k=1}^Ky_k^{(i)}log(p_k^{(i)})\\,,$$\n",
    "where $\\Theta$ is a matrix containing all parameter vectors $\\theta_k$, $K$ is the number of classes, $m$ is the number of instances, and $y_k^{(i)}$ equals 1 if the instance $i$ belongs to the class $k$ and 0 otherwise. For $K=2$, the cross entropy equals the cost function $J(\\theta)$ introduced above for Logistic Regression. For Gradient Descent, we require the gradient of the cost function. For the cross entropy cost function it is given by (see \"Gradients.pdf\")\n",
    "$$\\nabla_{\\theta^{(k)}}J(\\Theta)=\\frac{1}{m}\\sum_{i=1}^m\\left(p_k^{(i)}-y_k^{(i)}\\right)x^{(i)}\\,.$$\n",
    "**Cross Entropy**<br>\n",
    "Cross entropy originated from information theory. Sppose you want to efficently trasmit information about theweather every day. If there are eight options (sunny, raingy, etc.), you could encode each option using 3 bits since $2^3=8$. However, if you think ti will be sunny almost every day, it would be much more efficient to codes \"sunny\" on just one bit (0) and the other seven options on 4 bits (starting with a 1). Cross entropy measures the average number of bits you actually send per option. If your assumption about the weather is perfect, cross entropy will just be equal to the entropy of the weather itself (i.e., its intrinsic unpredictability). But if your assumption s are wrong (e.g., if it rains often), cross entropy will be greater by an amount called the *Kullback-Leibler divergence*.<br>\n",
    "The cross entropy between two probabilityy distributions $p$ and $q$ is defined as $H(p, q)=-\\sum_xp(x)log(q(x))$ (at least when the distributions are discrete).<br><br>\n",
    "Due to the different cost function, Softmax Regression is different from one-versus-all (OvA) Logistic Regression. Scikit-Learn would use OvA by default. But by setting the *multiclass* hyperparameter to \"multinomial\", we can ensure the use of Softmax Regression (see Scikit-Learn's documentation for details). Let's use Softmax Regression to classify the instances of the iris dataset into the three different species!"
   ]
  },
  {
   "cell_type": "code",
   "execution_count": 21,
   "metadata": {},
   "outputs": [
    {
     "data": {
      "text/plain": [
       "LogisticRegression(C=10, class_weight=None, dual=False, fit_intercept=True,\n",
       "                   intercept_scaling=1, l1_ratio=None, max_iter=100,\n",
       "                   multi_class='multinomial', n_jobs=None, penalty='l2',\n",
       "                   random_state=None, solver='lbfgs', tol=0.0001, verbose=0,\n",
       "                   warm_start=False)"
      ]
     },
     "execution_count": 21,
     "metadata": {},
     "output_type": "execute_result"
    }
   ],
   "source": [
    "X = iris[\"data\"][:, (2, 3)] # using petal length (2) and petal width (3)\n",
    "y = iris[\"target\"]          # is 0, 1, or 2 (corresponding to the species) by default\n",
    "softmax_reg = LogisticRegression(multi_class=\"multinomial\", # ensuring softmax, ...\n",
    "                                 solver=\"lbfgs\", C=10)      # ... specifying a \"solver\" (?), and the regularization\n",
    "softmax_reg.fit(X, y)       # fitting to the data"
   ]
  },
  {
   "cell_type": "markdown",
   "metadata": {},
   "source": [
    "Now, the classifier is trained and can be used to classify new instances. For an iris flower with 5cm long and 2cm wide petals, it predicts the following."
   ]
  },
  {
   "cell_type": "code",
   "execution_count": 22,
   "metadata": {},
   "outputs": [
    {
     "name": "stdout",
     "output_type": "stream",
     "text": [
      "[2]\n",
      "[[6.38014896e-07 5.74929995e-02 9.42506362e-01]]\n"
     ]
    }
   ],
   "source": [
    "print(softmax_reg.predict([[5, 2]]))       # show classification\n",
    "print(softmax_reg.predict_proba([[5, 2]])) # show probabilities"
   ]
  },
  {
   "cell_type": "markdown",
   "metadata": {},
   "source": [
    "## Exercises\n",
    "page 142\n",
    "### 1.-11.\n",
    "Solutions are shown in Appendix A of the book and in the separate notebook *ExercisesWithoutCode*.\n",
    "### 12.\n",
    "Implement Batch Gradient Descent with early stopping for Softmax Regression (withous Scikit-Learn)."
   ]
  },
  {
   "cell_type": "code",
   "execution_count": 23,
   "metadata": {},
   "outputs": [],
   "source": [
    "# start by adding the bias term to the features (always 1 timex \\theta_0)\n",
    "X_with_bias = np.c_[np.ones([len(X), 1]), X]"
   ]
  },
  {
   "cell_type": "markdown",
   "metadata": {},
   "source": [
    "Split the data in training and test sets without using Scikit-Learn."
   ]
  },
  {
   "cell_type": "code",
   "execution_count": 24,
   "metadata": {},
   "outputs": [],
   "source": [
    "test_ratio = 0.2                                          # 20% for testing\n",
    "validation_ratio = 0.2                                    # 20% for validation\n",
    "total_size = len(X_with_bias)                             # total number of instances\n",
    "test_size = int(total_size * test_ratio)                  # specifying size of test set\n",
    "validation_size = int(total_size * validation_ratio)      # specifying size of validation set\n",
    "train_size = total_size - test_size - validation_size     # using the remaining data for training\n",
    "rnd_indices = np.random.permutation(total_size)           # shuffle indices\n",
    "X_train = X_with_bias[rnd_indices[:train_size]]           # training data\n",
    "y_train = y[rnd_indices[:train_size]]                     # training labels\n",
    "X_valid = X_with_bias[rnd_indices[train_size:-test_size]] # validation data\n",
    "y_valid = y[rnd_indices[train_size:-test_size]]           # validation labels\n",
    "X_test = X_with_bias[rnd_indices[-test_size:]]            # test data\n",
    "y_test = y[rnd_indices[-test_size:]]                      # test labels"
   ]
  },
  {
   "cell_type": "markdown",
   "metadata": {},
   "source": [
    "The algorithm shall yield probabilities for each class. To accomplish this we can train it on instances where these proababilities are given. So we need to transform the classes 0, 1, and 2 (corresponding to the three species) to probabilities, e.g., [0, 0, 1] for class 2. This is *one-hot-encoding*."
   ]
  },
  {
   "cell_type": "code",
   "execution_count": 25,
   "metadata": {},
   "outputs": [
    {
     "name": "stdout",
     "output_type": "stream",
     "text": [
      "[2 1 2 2 0 0 2 2 0 1]\n",
      "[[0. 0. 1.]\n",
      " [0. 1. 0.]\n",
      " [0. 0. 1.]\n",
      " [0. 0. 1.]\n",
      " [1. 0. 0.]\n",
      " [1. 0. 0.]\n",
      " [0. 0. 1.]\n",
      " [0. 0. 1.]\n",
      " [1. 0. 0.]\n",
      " [0. 1. 0.]]\n"
     ]
    }
   ],
   "source": [
    "def to_one_hot(y):                       # define a function to do the job\n",
    "    n_classes = y.max() + 1              # this should yield 3 (there are three classes), unless we are ...\n",
    "                                         # ... unlucky with the splitting in training, test, and validation sets\n",
    "    m = len(y)                           # number of instances\n",
    "    Y_one_hot = np.zeros((m, n_classes)) # establish conatiner with default zeros\n",
    "    Y_one_hot[np.arange(m), y] = 1       # set the column corresponding to the species to 1\n",
    "    return Y_one_hot                     # return the result\n",
    "print(y_train[:10])                      # try it on the first 10 instances of the training set\n",
    "print(to_one_hot(y_train[:10]))          # it works"
   ]
  },
  {
   "cell_type": "markdown",
   "metadata": {},
   "source": [
    "Do the *one-hot-encoding* for all sets. And define the softmax function (see text above). And the numbers of inputs and outputs."
   ]
  },
  {
   "cell_type": "code",
   "execution_count": 26,
   "metadata": {},
   "outputs": [],
   "source": [
    "Y_train_one_hot = to_one_hot(y_train)\n",
    "Y_valid_one_hot = to_one_hot(y_valid)\n",
    "Y_test_one_hot = to_one_hot(y_test)\n",
    "def softmax(logits): # logits represents the softmax score (the simple result obtained from linear regression)\n",
    "    exps = np.exp(logits)                          # take the exponential\n",
    "    exp_sums = np.sum(exps, axis=1, keepdims=True) # sum within one row, put the result in each column of this row\n",
    "    return exps / exp_sums                         # return the ratio; it will be between 0 and 1\n",
    "# determine the numbers of inputs and outputs\n",
    "n_inputs = X_train.shape[1]         # 3 (petal length, petal width, and the bias term)\n",
    "n_outputs = len(np.unique(y_train)) # 3 (in random order: iris virginica, iris versicolor, and iris setosa)"
   ]
  },
  {
   "cell_type": "markdown",
   "metadata": {},
   "source": [
    "Here, we implement gradient descent via softmax regression. The gradient is calculated on the cross entropy cost function. The entire batch / training set is used. Early stopping will be added later."
   ]
  },
  {
   "cell_type": "code",
   "execution_count": 27,
   "metadata": {},
   "outputs": [
    {
     "name": "stdout",
     "output_type": "stream",
     "text": [
      "0 2.3693600795167478\n",
      "500 0.8663269853311856\n",
      "1000 0.691295587630911\n",
      "1500 0.5911932043615786\n",
      "2000 0.5295261038031163\n",
      "2500 0.48781266475148305\n",
      "3000 0.45728741551184304\n",
      "3500 0.4335715711723563\n",
      "4000 0.41430710655390646\n",
      "4500 0.3981298868497954\n",
      "5000 0.38419994097668625\n"
     ]
    }
   ],
   "source": [
    "eta = 0.01                                   # step size\n",
    "n_iterations = 5001                          # number of fitting iterations\n",
    "m = len(X_train)                             # number of training instances\n",
    "epsilon = 1e-7                               # add this to probablities to avoid divergence for log(0)\n",
    "Theta = np.random.randn(n_inputs, n_outputs) # initializing the 3x3 matrix Theta with random numbers\n",
    "for iteration in range(n_iterations):        # loop through iteratios\n",
    "    logits = X_train.dot(Theta)              # rows: training instances; columns: scores on the three classes\n",
    "    Y_proba = softmax(logits)                # same as logits, but scores converted to probabilities\n",
    "    loss = -np.mean(np.sum(Y_train_one_hot * np.log(Y_proba + epsilon), axis=1)) # value of cost function, see ...\n",
    "                                             # ... text further above for the formula (cross entropy)\n",
    "    error = Y_proba - Y_train_one_hot        # bracket in gradient formula (see text above); for all instances \n",
    "    if iteration % 500 == 0:                 # print the current iteration and the cost function (here: \"loss\") ...\n",
    "        print(iteration, loss)               # ... every 500 iterations\n",
    "    gradients = 1/m * X_train.T.dot(error)   # calculating the gradient vector of the cross entropy, see text ...\n",
    "                                             # ... above; the gradient has 3 components (because of 3 parameters)\n",
    "    Theta = Theta - eta * gradients          # go a step down in the cost function (aka \"update Theta\")"
   ]
  },
  {
   "cell_type": "markdown",
   "metadata": {},
   "source": [
    "The batch gradient descent has been carried out: the algorithm is trained (the parameters have been adjusted) and can now be used for inference on new instances, e.g., of the validation set."
   ]
  },
  {
   "cell_type": "code",
   "execution_count": 28,
   "metadata": {},
   "outputs": [
    {
     "name": "stdout",
     "output_type": "stream",
     "text": [
      "[[ 3.67597907 -0.52819338 -2.35321129]\n",
      " [-0.0566527   1.6954763   1.03442327]\n",
      " [ 1.29161942  0.77129777  3.98292438]]\n",
      "0.9\n"
     ]
    }
   ],
   "source": [
    "print(Theta)                                   # fitted parameters\n",
    "logits = X_valid.dot(Theta)                    # scores on instances of the validation set\n",
    "Y_proba = softmax(logits)                      # transform scores to probabilities\n",
    "y_predict = np.argmax(Y_proba, axis=1)         # take the column (class) with highest probability\n",
    "accuracy_score = np.mean(y_predict == y_valid) # check accuracy by comparing prediction with validation label\n",
    "print(accuracy_score)                          # print accuracy"
   ]
  },
  {
   "cell_type": "markdown",
   "metadata": {},
   "source": [
    "Now, we add some L2 penalty. The offset / bias term has to be excluded from this penalty. As can be seen from the L2 cost function for default Ridge Regression, the gradient of this cost function is simply $\\alpha\\theta$. This generalizes to Softmax Regression. In any case, however, the cost (and hence the gradient) on the bias terms shall be set to zero."
   ]
  },
  {
   "cell_type": "code",
   "execution_count": 29,
   "metadata": {},
   "outputs": [
    {
     "name": "stdout",
     "output_type": "stream",
     "text": [
      "0 5.462743474632974\n",
      "500 0.9471249674257382\n",
      "1000 0.7324650025970308\n",
      "1500 0.645701751533531\n",
      "2000 0.6044552366276194\n",
      "2500 0.5812208532805319\n",
      "3000 0.5661197013234697\n",
      "3500 0.5552574272772628\n",
      "4000 0.5469193670060655\n",
      "4500 0.5402520519530375\n",
      "5000 0.5347767243968085\n"
     ]
    }
   ],
   "source": [
    "# parameters are the same as above\n",
    "alpha = 0.1                                      # regularization hyperparameter\n",
    "Theta = np.random.randn(n_inputs, n_outputs)     # redo random initialization\n",
    "# same as above unless commented\n",
    "for iteration in range(n_iterations):\n",
    "    logits = X_train.dot(Theta)\n",
    "    Y_proba = softmax(logits)\n",
    "    xentropy_loss = -np.mean(np.sum(Y_train_one_hot * np.log(Y_proba + epsilon), axis=1)) # only a different name\n",
    "    l2_loss = 1/2 * np.sum(np.square(Theta[1:])) # include an L2 penalty for the second and third row of Theta\n",
    "    loss = xentropy_loss + alpha * l2_loss       # total loss\n",
    "    error = Y_proba - Y_train_one_hot\n",
    "    if iteration % 500 == 0:\n",
    "        print(iteration, loss)\n",
    "    gradients = 1/m * X_train.T.dot(error) + np.r_[np.zeros([1, n_outputs]), alpha * Theta[1:]] # see text above\n",
    "    Theta = Theta - eta * gradients"
   ]
  },
  {
   "cell_type": "markdown",
   "metadata": {},
   "source": [
    "Due to the regularization, the errors are larger than before. But the algorithm performs better with regularization!"
   ]
  },
  {
   "cell_type": "code",
   "execution_count": 30,
   "metadata": {},
   "outputs": [
    {
     "name": "stdout",
     "output_type": "stream",
     "text": [
      "[[ 2.9410926  -0.36925095 -2.61563935]\n",
      " [-0.80753667  0.27719638  0.55551934]\n",
      " [-0.40991112 -0.13109821  0.52964553]]\n",
      "0.9333333333333333\n"
     ]
    }
   ],
   "source": [
    "# same as above\n",
    "print(Theta)\n",
    "logits = X_valid.dot(Theta)\n",
    "Y_proba = softmax(logits)\n",
    "y_predict = np.argmax(Y_proba, axis=1)\n",
    "accuracy_score = np.mean(y_predict == y_valid)\n",
    "print(accuracy_score)"
   ]
  },
  {
   "cell_type": "markdown",
   "metadata": {},
   "source": [
    "To implement regularization, we only need to look at the error on the validation set and stop training once the cost function on the validation set changes from going down to going up. The entire cost function (including regularization) is used for the gradient descent. No cost function is considered for testing the performance on the test set once training (on the training and validation sets) is finished."
   ]
  },
  {
   "cell_type": "code",
   "execution_count": 31,
   "metadata": {},
   "outputs": [
    {
     "name": "stdout",
     "output_type": "stream",
     "text": [
      "0 7.136661450635477\n",
      "500 0.9475395286963446\n",
      "1000 0.7400215831918291\n",
      "1500 0.6552927389327922\n",
      "2000 0.6125813511183302\n",
      "2500 0.586655247255255\n",
      "3000 0.5687096639217433\n",
      "3500 0.5552277243201645\n",
      "4000 0.5445808555032354\n",
      "4500 0.5359010310301355\n",
      "5000 0.528668932596903\n",
      "5500 0.5225461218893984\n",
      "6000 0.517298217336884\n",
      "6500 0.5127556422606494\n",
      "7000 0.5087916169246894\n",
      "7500 0.5053088890002114\n",
      "8000 0.5022312796361857\n",
      "8500 0.4994980655615991\n",
      "9000 0.4970601192820889\n",
      "9500 0.49487718361588084\n",
      "10000 0.49291590202815877\n",
      "10500 0.49114836620837166\n",
      "11000 0.48955102586107996\n",
      "11500 0.4881038573197236\n",
      "12000 0.4867897204661952\n",
      "12500 0.4855938548943682\n",
      "13000 0.4845034805669422\n",
      "13500 0.48350747794818644\n",
      "14000 0.4825961293322275\n",
      "14500 0.48176090782537756\n",
      "15000 0.48099430382399877\n",
      "15500 0.48028968127776905\n",
      "16000 0.47964115782287164\n",
      "16500 0.47904350420074826\n",
      "17000 0.4784920593763271\n",
      "17500 0.47798265852605626\n",
      "18000 0.47751157164478436\n",
      "18500 0.4770754509672955\n",
      "19000 0.4766712857481564\n",
      "19500 0.47629636321651836\n",
      "20000 0.4759482347383592\n",
      "20500 0.47562468639051303\n",
      "21000 0.475323713288592\n",
      "21500 0.475043497121999\n",
      "22000 0.47478238643937076\n",
      "22500 0.47453887930131633\n",
      "23000 0.47431160797761646\n",
      "23500 0.4740993254157533\n",
      "24000 0.4739008932487798\n",
      "24500 0.47371527114477785\n",
      "25000 0.4735415073287366\n",
      "25500 0.47337873013166243\n",
      "26000 0.47322614044191813\n",
      "26500 0.4730830049508477\n",
      "27000 0.4729486500992016\n",
      "27500 0.4728224566431879\n",
      "28000 0.4727038547694734\n",
      "28500 0.4725923196974515\n",
      "29000 0.4724873677148096\n",
      "29500 0.47238855259908175\n",
      "30000 0.47229546238360287\n",
      "30500 0.47220771643125425\n",
      "31000 0.472124962783695\n",
      "31500 0.472046875757521\n",
      "32000 0.4719731537620694\n",
      "32500 0.4719035173164258\n",
      "33000 0.47183770724570595\n",
      "33500 0.4717754830388645\n",
      "34000 0.47171662135221615\n",
      "34500 0.4716609146445493\n",
      "35000 0.4716081699312098\n",
      "35500 0.4715582076458521\n",
      "36000 0.47151086059973446\n",
      "36500 0.4714659730294609\n",
      "37000 0.4714233997250047\n",
      "37500 0.47138300523066323\n",
      "38000 0.47134466311232504\n",
      "38500 0.4713082552850819\n",
      "39000 0.47127367139579746\n",
      "39500 0.4712408082557695\n",
      "40000 0.4712095693190812\n",
      "40500 0.47117986420266106\n",
      "41000 0.4711516082444408\n",
      "41500 0.47112472209633827\n",
      "42000 0.471099131349097\n",
      "42500 0.4710747661862831\n",
      "43000 0.47105156106498813\n",
      "43500 0.4710294544210075\n",
      "44000 0.4710083883964644\n",
      "44500 0.4709883085880263\n",
      "45000 0.47096916381403253\n",
      "45500 0.4709509058989906\n",
      "46000 0.4709334894740378\n",
      "46500 0.4709168717920871\n",
      "47000 0.47090101255648303\n",
      "47500 0.4708858737620968\n",
      "48000 0.47087141954787715\n",
      "48500 0.4708576160599647\n",
      "49000 0.47084443132453796\n",
      "49500 0.4708318351296451\n",
      "50000 0.47081979891532644\n",
      "50500 0.4708082956713904\n",
      "51000 0.4707972998422665\n",
      "51500 0.4707867872383955\n",
      "52000 0.47077673495366623\n",
      "52500 0.4707671212884478\n",
      "53000 0.47075792567780106\n",
      "53500 0.47074912862448703\n",
      "54000 0.47074071163641906\n",
      "54500 0.47073265716823565\n",
      "55000 0.4707249485666938\n",
      "55500 0.4707175700196093\n",
      "56000 0.4707105065080858\n",
      "56500 0.47070374376180374\n",
      "57000 0.4706972682171475\n",
      "57500 0.47069106697797436\n",
      "58000 0.470685127778838\n",
      "58500 0.47067943895049846\n",
      "59000 0.470673989387559\n",
      "59500 0.47066876851808304\n",
      "60000 0.4706637662750594\n",
      "60500 0.4706589730695866\n",
      "61000 0.4706543797656641\n",
      "61500 0.47064997765647953\n",
      "62000 0.4706457584420956\n",
      "62500 0.4706417142084437\n",
      "63000 0.4706378374075351\n",
      "63500 0.4706341208388169\n",
      "64000 0.47063055763159084\n",
      "64500 0.4706271412284354\n",
      "65000 0.47062386536955947\n",
      "65500 0.4706207240780317\n",
      "66000 0.47061771164583294\n",
      "66500 0.4706148226206759\n",
      "67000 0.4706120517935465\n",
      "67500 0.4706093941869236\n",
      "68000 0.47060684504363337\n",
      "68500 0.47060439981630126\n",
      "69000 0.470602054157365\n",
      "69500 0.47059980390961575\n",
      "70000 0.4705976450972338\n",
      "70500 0.4705955739172939\n",
      "71000 0.47059358673170737\n",
      "71500 0.47059168005958024\n",
      "72000 0.4705898505699619\n",
      "72500 0.4705880950749578\n",
      "73000 0.4705864105231952\n",
      "73500 0.47058479399361064\n",
      "74000 0.4705832426895492\n",
      "74500 0.47058175393315543\n",
      "75000 0.4705803251600381\n",
      "75500 0.47057895391419857\n",
      "76000 0.4705776378432023\n",
      "76500 0.47057637469358515\n",
      "77000 0.4705751623064802\n",
      "77500 0.4705739986134525\n",
      "78000 0.47057288163253175\n",
      "78500 0.47057180946443317\n",
      "79000 0.47057078028895466\n",
      "79500 0.47056979236154206\n",
      "80000 0.4705688440100164\n",
      "80500 0.47056793363144916\n",
      "81000 0.4705670596891842\n",
      "81500 0.4705662207099941\n",
      "82000 0.4705654152813681\n",
      "82500 0.4705646420489211\n",
      "83000 0.47056389971392104\n",
      "83500 0.4705631870309279\n",
      "84000 0.47056250280553724\n",
      "84500 0.4705618458922253\n",
      "85000 0.4705612151922892\n",
      "85500 0.4705606096518804\n",
      "86000 0.470560028260121\n",
      "86500 0.4705594700473078\n",
      "87000 0.4705589340831908\n",
      "87500 0.47055841947532884\n",
      "88000 0.47055792536751656\n",
      "88500 0.4705574509382797\n",
      "89000 0.47055699539943463\n",
      "89500 0.47055655799471163\n",
      "90000 0.4705561379984349\n",
      "90500 0.47055573471426126\n",
      "91000 0.470555347473972\n",
      "91500 0.47055497563631576\n",
      "92000 0.4705546185859013\n",
      "92500 0.4705542757321371\n",
      "93000 0.4705539465082148\n",
      "93500 0.4705536303701373\n",
      "94000 0.4705533267957861\n",
      "94500 0.47055303528402903\n",
      "95000 0.4705527553538643\n",
      "95500 0.47055248654360143\n",
      "96000 0.4705522284100758\n",
      "96500 0.4705519805278954\n",
      "97000 0.47055174248872017\n",
      "97500 0.4705515139005703\n",
      "98000 0.4705512943871629\n",
      "98500 0.4705510835872775\n",
      "99000 0.47055088115414634\n",
      "99500 0.4705506867548709\n",
      "100000 0.4705505000698609\n",
      "100500 0.47055032079229825\n",
      "101000 0.4705501486276217\n",
      "101500 0.4705499832930333\n",
      "102000 0.47054982451702454\n",
      "102500 0.47054967203892206\n",
      "103000 0.47054952560845276\n",
      "103500 0.47054938498532395\n",
      "104000 0.4705492499388252\n",
      "104500 0.47054912024744133\n",
      "105000 0.47054899569848485\n",
      "105500 0.47054887608774143\n",
      "106000 0.470548761219131\n",
      "106500 0.47054865090438025\n",
      "107000 0.4705485449627128\n",
      "107500 0.4705484432205461\n",
      "108000 0.4705483455112057\n",
      "108500 0.47054825167464875\n",
      "109000 0.4705481615571977\n",
      "109500 0.47054807501128754\n",
      "110000 0.47054799189522056\n",
      "110500 0.47054791207293245\n",
      "111000 0.4705478354137673\n",
      "111500 0.47054776179226243\n",
      "112000 0.47054769108793987\n",
      "112500 0.47054762318510907\n",
      "113000 0.4705475579726748\n",
      "113500 0.47054749534395524\n",
      "114000 0.47054743519650477\n",
      "114500 0.4705473774319461\n",
      "115000 0.4705473219558083\n",
      "115500 0.4705472686773705\n",
      "116000 0.47054721750951345\n",
      "116500 0.470547168368576\n",
      "117000 0.4705471211742166\n",
      "117500 0.4705470758492829\n",
      "118000 0.470547032319683\n",
      "118500 0.47054699051426563\n",
      "119000 0.4705469503647013\n",
      "119500 0.4705469118053721\n",
      "120000 0.4705468747732624\n",
      "120500 0.4705468392078562\n",
      "121000 0.4705468050510372\n",
      "121500 0.47054677224699437\n",
      "122000 0.47054674074212927\n",
      "122500 0.4705467104849693\n",
      "123000 0.47054668142608264\n",
      "123500 0.47054665351799707\n",
      "124000 0.4705466267151223\n",
      "124500 0.47054660097367573\n",
      "125000 0.4705465762516102\n",
      "125500 0.47054655250854505\n",
      "126000 0.4705465297057003\n",
      "126500 0.47054650780583285\n",
      "127000 0.470546486773176\n",
      "127500 0.4705464665733802\n",
      "128000 0.47054644717345717\n",
      "128500 0.4705464285417262\n",
      "129000 0.4705464106477612\n",
      "129500 0.4705463934623426\n",
      "130000 0.47054637695740803\n",
      "130500 0.47054636110600734\n",
      "131000 0.4705463458822578\n",
      "131500 0.4705463312613023\n",
      "132000 0.47054631721926876\n",
      "132500 0.47054630373323036\n",
      "133000 0.47054629078116894\n",
      "133500 0.47054627834193824\n",
      "134000 0.47054626639523\n",
      "134500 0.47054625492154034\n",
      "135000 0.47054624390213773\n",
      "135500 0.4705462333190329\n",
      "136000 0.470546223154949\n",
      "136500 0.4705462133932934\n",
      "137000 0.47054620401813074\n",
      "137500 0.4705461950141572\n",
      "138000 0.47054618636667433\n",
      "138500 0.47054617806156646\n",
      "139000 0.47054617008527644\n",
      "139500 0.47054616242478475\n",
      "140000 0.4705461550675868\n",
      "140500 0.47054614800167355\n",
      "141000 0.47054614121551175\n",
      "141500 0.4705461346980244\n",
      "142000 0.47054612843857346\n",
      "142500 0.47054612242694216\n",
      "143000 0.47054611665331836\n",
      "143500 0.47054611110827826\n",
      "144000 0.47054610578277145\n",
      "144500 0.47054610066810576\n",
      "145000 0.4705460957559332\n",
      "145500 0.47054609103823686\n",
      "146000 0.4705460865073164\n",
      "146500 0.4705460821557771\n",
      "147000 0.4705460779765167\n",
      "147500 0.4705460739627143\n",
      "148000 0.470546070107819\n",
      "148500 0.47054606640553964\n",
      "149000 0.4705460628498334\n",
      "149500 0.47054605943489736\n",
      "150000 0.4705460561551583\n",
      "150500 0.4705460530052636\n",
      "151000 0.4705460499800723\n",
      "151500 0.4705460470746476\n",
      "152000 0.4705460442842475\n",
      "152500 0.47054604160431823\n",
      "153000 0.470546039030486\n",
      "153500 0.4705460365585506\n",
      "154000 0.4705460341844776\n",
      "154500 0.4705460319043928\n",
      "155000 0.4705460297145749\n",
      "155500 0.47054602761145037\n",
      "156000 0.470546025591587\n",
      "156500 0.4705460236516883\n",
      "157000 0.47054602178858856\n",
      "157500 0.4705460199992475\n",
      "158000 0.4705460182807447\n",
      "158500 0.47054601663027573\n",
      "159000 0.4705460150451475\n",
      "159500 0.4705460135227726\n"
     ]
    },
    {
     "name": "stdout",
     "output_type": "stream",
     "text": [
      "160000 0.4705460120606671\n",
      "160500 0.47054601065644475\n",
      "161000 0.47054600930781404\n",
      "161500 0.4705460080125742\n",
      "162000 0.47054600676861125\n",
      "162500 0.4705460055738955\n",
      "163000 0.470546004426477\n",
      "163500 0.4705460033244834\n",
      "164000 0.47054600226611654\n",
      "164500 0.4705460012496488\n",
      "165000 0.4705460002734219\n",
      "165500 0.47054599933584246\n",
      "166000 0.4705459984353807\n",
      "166500 0.4705459975705669\n",
      "167000 0.47054599673998987\n",
      "167500 0.4705459959422943\n",
      "168000 0.4705459951761785\n",
      "168500 0.4705459944403919\n",
      "169000 0.4705459937337342\n",
      "169500 0.47054599305505196\n",
      "170000 0.470545992403238\n",
      "170500 0.4705459917772282\n",
      "171000 0.4705459911760014\n",
      "171500 0.47054599059857605\n",
      "172000 0.4705459900440101\n",
      "172500 0.4705459895113987\n",
      "173000 0.47054598899987243\n",
      "173500 0.47054598850859686\n",
      "174000 0.47054598803677006\n",
      "174500 0.4705459875836223\n",
      "175000 0.47054598714841367\n",
      "175500 0.4705459867304346\n",
      "176000 0.47054598632900246\n",
      "176500 0.4705459859434624\n",
      "177000 0.4705459855731853\n",
      "177500 0.47054598521756685\n",
      "178000 0.47054598487602683\n",
      "178500 0.47054598454800767\n",
      "179000 0.47054598423297456\n",
      "179500 0.4705459839304129\n",
      "180000 0.470545983639829\n",
      "180500 0.47054598336074915\n",
      "181000 0.47054598309271745\n",
      "181500 0.4705459828352966\n",
      "182000 0.4705459825880668\n",
      "182500 0.4705459823506243\n",
      "183000 0.4705459821225818\n",
      "183500 0.47054598190356717\n",
      "184000 0.4705459816932229\n",
      "184500 0.4705459814912057\n",
      "185000 0.47054598129718617\n",
      "185500 0.47054598111084744\n",
      "186000 0.4705459809318857\n",
      "186500 0.47054598076000864\n",
      "187000 0.4705459805949358\n",
      "187500 0.47054598043639817\n",
      "188000 0.47054598028413663\n",
      "188500 0.47054598013790294\n",
      "189000 0.47054597999745834\n",
      "189500 0.4705459798625737\n",
      "190000 0.47054597973302886\n",
      "190500 0.4705459796086125\n",
      "191000 0.4705459794891216\n",
      "191500 0.47054597937436116\n",
      "192000 0.4705459792641439\n",
      "192500 0.47054597915829\n",
      "193000 0.47054597905662654\n",
      "193500 0.47054597895898786\n",
      "194000 0.47054597886521443\n",
      "194500 0.47054597877515336\n",
      "195000 0.47054597868865766\n",
      "195500 0.47054597860558617\n",
      "196000 0.4705459785258035\n",
      "196500 0.470545978449179\n",
      "197000 0.470545978375588\n",
      "197500 0.47054597830491063\n",
      "198000 0.4705459782370309\n",
      "198500 0.4705459781718385\n",
      "199000 0.47054597810922705\n",
      "199500 0.47054597804909426\n",
      "200000 0.4705459779913419\n",
      "200500 0.47054597793587594\n",
      "201000 0.4705459778826059\n",
      "201500 0.4705459778314446\n",
      "202000 0.4705459777823086\n",
      "202500 0.4705459777351179\n",
      "203000 0.4705459776897955\n",
      "203500 0.47054597764626716\n",
      "204000 0.47054597760446215\n",
      "204500 0.47054597756431205\n",
      "205000 0.4705459775257515\n",
      "205500 0.47054597748871735\n",
      "206000 0.4705459774531494\n",
      "206500 0.4705459774189895\n",
      "207000 0.4705459773861821\n",
      "207500 0.47054597735467324\n",
      "208000 0.47054597732441195\n",
      "208500 0.4705459772953484\n",
      "209000 0.47054597726743563\n",
      "209500 0.4705459772406279\n",
      "210000 0.47054597721488145\n",
      "210500 0.4705459771901541\n",
      "211000 0.4705459771664058\n",
      "211500 0.47054597714359747\n",
      "212000 0.4705459771216923\n",
      "212500 0.47054597710065427\n",
      "213000 0.4705459770804491\n",
      "213500 0.47054597706104384\n",
      "214000 0.4705459770424067\n",
      "214500 0.4705459770245075\n",
      "215000 0.4705459770073168\n",
      "215500 0.4705459769908066\n",
      "216000 0.47054597697494993\n",
      "216500 0.4705459769597211\n",
      "217000 0.4705459769450955\n",
      "217500 0.4705459769310485\n",
      "218000 0.4705459769175578\n",
      "218500 0.470545976904601\n",
      "219000 0.47054597689215716\n",
      "219500 0.470545976880206\n",
      "220000 0.47054597686872784\n",
      "220500 0.4705459768577043\n",
      "221000 0.47054597684711696\n",
      "221500 0.47054597683694893\n",
      "222000 0.47054597682718335\n",
      "222500 0.4705459768178042\n",
      "223000 0.47054597680879656\n",
      "223500 0.4705459768001456\n",
      "224000 0.47054597679183685\n",
      "224500 0.4705459767838572\n",
      "225000 0.4705459767761935\n",
      "225500 0.47054597676883314\n",
      "226000 0.47054597676176413\n",
      "226500 0.470545976754975\n",
      "227000 0.4705459767484546\n",
      "227500 0.47054597674219245\n",
      "228000 0.47054597673617804\n",
      "228500 0.4705459767304019\n",
      "229000 0.4705459767248543\n",
      "229500 0.47054597671952625\n",
      "230000 0.47054597671440923\n",
      "230500 0.47054597670949494\n",
      "231000 0.4705459767047749\n",
      "231500 0.4705459767002418\n",
      "232000 0.47054597669588827\n",
      "232500 0.470545976691707\n",
      "233000 0.4705459766876913\n",
      "233500 0.4705459766838346\n",
      "234000 0.47054597668013043\n",
      "234500 0.47054597667657316\n",
      "235000 0.4705459766731567\n",
      "235500 0.4705459766698752\n",
      "236000 0.47054597666672376\n",
      "236500 0.47054597666369713\n",
      "237000 0.47054597666079023\n",
      "237500 0.47054597665799847\n",
      "238000 0.4705459766553173\n",
      "238500 0.47054597665274217\n",
      "239000 0.47054597665026887\n",
      "239500 0.47054597664789377\n",
      "240000 0.4705459766456125\n",
      "240500 0.4705459766434217\n",
      "241000 0.4705459766413175\n",
      "241500 0.47054597663929665\n",
      "242000 0.47054597663735576\n",
      "242500 0.4705459766354917\n",
      "243000 0.47054597663370146\n",
      "243500 0.47054597663198205\n",
      "244000 0.47054597663033093\n",
      "244500 0.47054597662874487\n",
      "245000 0.47054597662722186\n",
      "245500 0.4705459766257588\n",
      "246000 0.470545976624354\n",
      "246500 0.47054597662300474\n",
      "247000 0.4705459766217087\n",
      "247500 0.4705459766204642\n",
      "248000 0.47054597661926895\n",
      "248500 0.47054597661812086\n",
      "249000 0.47054597661701836\n",
      "249500 0.47054597661595954\n",
      "250000 0.47054597661494235\n",
      "250500 0.47054597661396563\n",
      "251000 0.47054597661302755\n",
      "251500 0.4705459766121267\n",
      "252000 0.4705459766112614\n",
      "252500 0.47054597661043057\n",
      "253000 0.47054597660963227\n",
      "253500 0.47054597660886577\n",
      "254000 0.4705459766081298\n",
      "254500 0.4705459766074227\n",
      "255000 0.4705459766067437\n",
      "255500 0.47054597660609154\n",
      "256000 0.47054597660546527\n",
      "256500 0.47054597660486364\n",
      "257000 0.47054597660428593\n",
      "257500 0.4705459766037311\n",
      "258000 0.4705459766031982\n",
      "258500 0.4705459766026864\n",
      "259000 0.470545976602195\n",
      "259500 0.4705459766017229\n",
      "260000 0.47054597660126946\n",
      "260500 0.47054597660083397\n",
      "261000 0.4705459766004159\n",
      "261500 0.47054597660001424\n",
      "262000 0.4705459765996285\n",
      "262500 0.470545976599258\n",
      "263000 0.4705459765989022\n",
      "263500 0.4705459765985606\n",
      "264000 0.4705459765982324\n",
      "264500 0.4705459765979173\n",
      "265000 0.47054597659761455\n",
      "265500 0.47054597659732367\n",
      "266000 0.47054597659704445\n",
      "266500 0.4705459765967763\n",
      "267000 0.470545976596519\n",
      "267500 0.4705459765962715\n",
      "268000 0.4705459765960339\n",
      "268500 0.47054597659580577\n",
      "269000 0.4705459765955868\n",
      "269500 0.47054597659537634\n",
      "270000 0.4705459765951741\n",
      "270500 0.4705459765949799\n",
      "271000 0.47054597659479347\n",
      "271500 0.47054597659461456\n",
      "272000 0.4705459765944425\n",
      "272500 0.4705459765942773\n",
      "273000 0.4705459765941188\n",
      "273500 0.4705459765939666\n",
      "274000 0.47054597659382\n",
      "274155 0.47054597659377595\n",
      "274156 0.47054597659377595 early stopping!\n"
     ]
    }
   ],
   "source": [
    "n_iterations = 500001                             # update the number of iterations\n",
    "# other parameters are the same as above\n",
    "best_loss = np.infty\n",
    "Theta = np.random.randn(n_inputs, n_outputs)\n",
    "# same as above unless commented\n",
    "for iteration in range(n_iterations):\n",
    "    logits = X_train.dot(Theta)\n",
    "    Y_proba = softmax(logits)\n",
    "    error = Y_proba - Y_train_one_hot\n",
    "    # L2 loss and print command follows further below\n",
    "    gradients = 1/m * X_train.T.dot(error) + np.r_[np.zeros([1, n_outputs]), alpha * Theta[1:]]\n",
    "    Theta = Theta - eta * gradients\n",
    "    # now, we have an updated Theta, apply it to the validation set, and calculate the loss\n",
    "    logits = X_valid.dot(Theta)                                                           # uses the validation set\n",
    "    Y_proba = softmax(logits)\n",
    "    xentropy_loss = -np.mean(np.sum(Y_valid_one_hot * np.log(Y_proba + epsilon), axis=1)) # uses the validation set\n",
    "    l2_loss = 1/2 * np.sum(np.square(Theta[1:]))\n",
    "    loss = xentropy_loss + alpha * l2_loss\n",
    "    # print the loss, update best_loss and stop the algorithm if the loss goes up\n",
    "    if iteration % 500 == 0:\n",
    "        print(iteration, loss)\n",
    "    if loss < best_loss:                          # if the loss is lower than before ...\n",
    "        best_loss = loss                          # ... update the best loss ...\n",
    "    else:\n",
    "        print(iteration - 1, best_loss)           # ... otherwise ...\n",
    "        print(iteration, loss, \"early stopping!\") # ... print the current iteration and loss ...\n",
    "        break                                     # ... and stop training"
   ]
  },
  {
   "cell_type": "markdown",
   "metadata": {},
   "source": [
    "The above algorithm can take long or short, depending on the random initialization. With early stopping, the result is even better!"
   ]
  },
  {
   "cell_type": "code",
   "execution_count": 32,
   "metadata": {},
   "outputs": [
    {
     "name": "stdout",
     "output_type": "stream",
     "text": [
      "[[ 4.91629615  1.15388443 -4.20136277]\n",
      " [-1.10367556  0.12239051  0.98128505]\n",
      " [-0.44627435 -0.1526877   0.59896204]]\n",
      "1.0\n"
     ]
    }
   ],
   "source": [
    "# same as above\n",
    "print(Theta)\n",
    "logits = X_valid.dot(Theta)\n",
    "Y_proba = softmax(logits)\n",
    "y_predict = np.argmax(Y_proba, axis=1)\n",
    "accuracy_score = np.mean(y_predict == y_valid)\n",
    "print(accuracy_score)"
   ]
  },
  {
   "cell_type": "markdown",
   "metadata": {},
   "source": [
    "Now, let's make predictions on the entire dataset!"
   ]
  },
  {
   "cell_type": "code",
   "execution_count": 33,
   "metadata": {},
   "outputs": [
    {
     "data": {
      "image/png": "[encoded data removed]",
      "text/plain": [
       "<Figure size 720x288 with 1 Axes>"
      ]
     },
     "metadata": {
      "needs_background": "light"
     },
     "output_type": "display_data"
    }
   ],
   "source": [
    "# establish a grid of instances for the contour plot\n",
    "x0, x1 = np.meshgrid(np.linspace(0, 8, 500).reshape(-1, 1), np.linspace(0, 3.5, 200).reshape(-1, 1),)\n",
    "X_new = np.c_[x0.ravel(), x1.ravel()]                    # petal length and petal width\n",
    "X_new_with_bias = np.c_[np.ones([len(X_new), 1]), X_new] # include constant values of 1 for bias terms\n",
    "# softmax score, probabilities, prediction\n",
    "logits = X_new_with_bias.dot(Theta)\n",
    "Y_proba = softmax(logits)\n",
    "y_predict = np.argmax(Y_proba, axis=1)\n",
    "# reshape probabilities and predictions\n",
    "zz1 = Y_proba[:, 1].reshape(x0.shape)\n",
    "zz = y_predict.reshape(x0.shape)\n",
    "# plot the instances of the iris dataset\n",
    "plt.figure(figsize=(10, 4))\n",
    "plt.plot(X[y==2, 0], X[y==2, 1], \"g^\", label=\"Iris-Virginica\")\n",
    "plt.plot(X[y==1, 0], X[y==1, 1], \"bs\", label=\"Iris-Versicolor\")\n",
    "plt.plot(X[y==0, 0], X[y==0, 1], \"yo\", label=\"Iris-Setosa\")\n",
    "# define colormap with 3 specified colors for the 3 classes\n",
    "from matplotlib.colors import ListedColormap\n",
    "custom_cmap = ListedColormap(['#fafab0','#9898ff','#a0faa0'])\n",
    "# make the contour plot based on the instances defined by the grid and the according predictions of the model\n",
    "plt.contourf(x0, x1, zz, cmap=custom_cmap)\n",
    "contour = plt.contour(x0, x1, zz1, cmap=plt.cm.brg)\n",
    "plt.clabel(contour, inline=1, fontsize=12)\n",
    "plt.xlabel(\"Petal length\", fontsize=14)\n",
    "plt.ylabel(\"Petal width\", fontsize=14)\n",
    "plt.legend(loc=\"upper left\", fontsize=14)\n",
    "plt.axis([0, 7, 0, 3.5])\n",
    "plt.show()"
   ]
  },
  {
   "cell_type": "markdown",
   "metadata": {},
   "source": [
    "The accuracy of predictions on the test set is quite good but not perfect. This is probably because with only 150 instances, the overall dataset is rather small."
   ]
  },
  {
   "cell_type": "code",
   "execution_count": 34,
   "metadata": {},
   "outputs": [
    {
     "name": "stdout",
     "output_type": "stream",
     "text": [
      "[[ 4.91629615  1.15388443 -4.20136277]\n",
      " [-1.10367556  0.12239051  0.98128505]\n",
      " [-0.44627435 -0.1526877   0.59896204]]\n",
      "0.9\n"
     ]
    }
   ],
   "source": [
    "# same as above but for test set\n",
    "print(Theta)\n",
    "logits = X_test.dot(Theta)                    # test set\n",
    "Y_proba = softmax(logits)\n",
    "y_predict = np.argmax(Y_proba, axis=1)\n",
    "accuracy_score = np.mean(y_predict == y_test) # test set\n",
    "print(accuracy_score)"
   ]
  }
 ],
 "metadata": {
  "kernelspec": {
   "display_name": "Python 3",
   "language": "python",
   "name": "python3"
  },
  "language_info": {
   "codemirror_mode": {
    "name": "ipython",
    "version": 3
   },
   "file_extension": ".py",
   "mimetype": "text/x-python",
   "name": "python",
   "nbconvert_exporter": "python",
   "pygments_lexer": "ipython3",
   "version": "3.6.9"
  }
 },
 "nbformat": 4,
 "nbformat_minor": 2
}
