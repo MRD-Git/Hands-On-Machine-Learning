{
 "cells": [
  {
   "cell_type": "markdown",
   "metadata": {},
   "source": [
    "# Ensemble Learning and Random Forests\n",
    "page 181<br>\n",
    "See\n",
    "- https://github.com/ageron/handson-ml/blob/master/07_ensemble_learning_and_random_forests.ipynb,\n",
    "- https://www.kaggle.com/general/18793 (strategy A), and\n",
    "- https://docs.python.org/3/library/functions.html#enumerate.\n",
    "\n",
    "Aggregating answers from many randomly chosen people often yields a better insight on a question than asking one or a few experts. This is called the *wisdom of the crowd*. The machine learning analog to this is *Ensemble Learning* which gathers predictions from several predictors instead of just using one predictor. An algorithm that automatically employs ensemble learning is called an *ensemble Method*.<br>\n",
    "*Random Forests* aggregate predictions from many different decision trees that differ by each other because of random conditions imposed on them. For example, the selection of hyperparameters and/or of training instances may be selected randomly.\n",
    "## Voting Classifiers\n",
    "page 181<br>\n",
    "A *hard voting* classifier predicts that class that is predicted by the majority of classifiers in the predictor ensemble. Importantly, this method often performs better than the best classifier in the ensemble. A voting classifier can work very well even if all the classifiers in the ensemble are only marginally better than random guessing. This is due to the *law of large numbers*: flipping a slightly biased coin (51% heads vs. 49% tails) only three times and then hard voting for the majority face will not yield a very reliable prediction. But hard voting after flipping the coin 1000 times will yield a 75% accuracy.<br><br>\n",
    "**Suggestion or tip**<br>\n",
    "Ensemble methods work best when the predictors are as independent from one another as possible. One way to get diverse classifiers is to train them using very different algorithms. This increases the chance that they will make very different types of erors, improving the ensemble's accuracy.<br><br>\n",
    "Below, we use a hard voting classifier on different classifiers, all of them from Scikit-Learn to separate a moons dataset."
   ]
  },
  {
   "cell_type": "code",
   "execution_count": 1,
   "metadata": {},
   "outputs": [
    {
     "name": "stderr",
     "output_type": "stream",
     "text": [
      "/home/matthias/anaconda3/lib/python3.6/site-packages/sklearn/linear_model/logistic.py:432: FutureWarning: Default solver will be changed to 'lbfgs' in 0.22. Specify a solver to silence this warning.\n",
      "  FutureWarning)\n",
      "/home/matthias/anaconda3/lib/python3.6/site-packages/sklearn/ensemble/forest.py:245: FutureWarning: The default value of n_estimators will change from 10 in version 0.20 to 100 in 0.22.\n",
      "  \"10 in version 0.20 to 100 in 0.22.\", FutureWarning)\n",
      "/home/matthias/anaconda3/lib/python3.6/site-packages/sklearn/svm/base.py:193: FutureWarning: The default value of gamma will change from 'auto' to 'scale' in version 0.22 to account better for unscaled features. Set gamma explicitly to 'auto' or 'scale' to avoid this warning.\n",
      "  \"avoid this warning.\", FutureWarning)\n"
     ]
    },
    {
     "data": {
      "text/plain": [
       "VotingClassifier(estimators=[('lr',\n",
       "                              LogisticRegression(C=1.0, class_weight=None,\n",
       "                                                 dual=False, fit_intercept=True,\n",
       "                                                 intercept_scaling=1,\n",
       "                                                 l1_ratio=None, max_iter=100,\n",
       "                                                 multi_class='warn',\n",
       "                                                 n_jobs=None, penalty='l2',\n",
       "                                                 random_state=None,\n",
       "                                                 solver='warn', tol=0.0001,\n",
       "                                                 verbose=0, warm_start=False)),\n",
       "                             ('rf',\n",
       "                              RandomForestClassifier(bootstrap=True,\n",
       "                                                     class_weight=None,\n",
       "                                                     criterion='gini',...\n",
       "                                                     oob_score=False,\n",
       "                                                     random_state=None,\n",
       "                                                     verbose=0,\n",
       "                                                     warm_start=False)),\n",
       "                             ('svc',\n",
       "                              SVC(C=1.0, cache_size=200, class_weight=None,\n",
       "                                  coef0=0.0, decision_function_shape='ovr',\n",
       "                                  degree=3, gamma='auto_deprecated',\n",
       "                                  kernel='rbf', max_iter=-1, probability=False,\n",
       "                                  random_state=None, shrinking=True, tol=0.001,\n",
       "                                  verbose=False))],\n",
       "                 flatten_transform=True, n_jobs=None, voting='hard',\n",
       "                 weights=None)"
      ]
     },
     "execution_count": 1,
     "metadata": {},
     "output_type": "execute_result"
    }
   ],
   "source": [
    "# make moons data and split it into training and testing sets (from Github link above)\n",
    "from sklearn.model_selection import train_test_split\n",
    "from sklearn.datasets import make_moons\n",
    "X, y = make_moons(n_samples=500, noise=0.30, random_state=42)\n",
    "X_train, X_test, y_train, y_test = train_test_split(X, y, random_state=42)\n",
    "# importing four different classiers\n",
    "from sklearn.ensemble import RandomForestClassifier\n",
    "from sklearn.ensemble import VotingClassifier\n",
    "from sklearn.linear_model import LogisticRegression\n",
    "from sklearn.svm import SVC\n",
    "log_clf = LogisticRegression()     # logistic regression classifier\n",
    "rnd_clf = RandomForestClassifier() # random forest classifier\n",
    "svm_clf = SVC()                    # support vector machine classifier          # below is the hard voting classifier\n",
    "voting_clf = VotingClassifier(estimators=[('lr', log_clf), ('rf', rnd_clf), ('svc', svm_clf)], voting='hard')\n",
    "voting_clf.fit(X_train, y_train)   # train the hard voting classifier"
   ]
  },
  {
   "cell_type": "markdown",
   "metadata": {},
   "source": [
    "Here, the ensemble only consists of three classifiers so the *law of large numbers* does not really apply. And still the ensemble predictions made by the hard voting classifier yield the best accuracy on some occasions. While the support vector machine and the logistic regression always return the same accuracy, the random forest classifier involves randomness and thus has a varying accuracy over different runs."
   ]
  },
  {
   "cell_type": "code",
   "execution_count": 2,
   "metadata": {},
   "outputs": [
    {
     "name": "stdout",
     "output_type": "stream",
     "text": [
      "LogisticRegression 0.864\n",
      "RandomForestClassifier 0.88\n",
      "SVC 0.888\n",
      "VotingClassifier 0.904\n"
     ]
    },
    {
     "name": "stderr",
     "output_type": "stream",
     "text": [
      "/home/matthias/anaconda3/lib/python3.6/site-packages/sklearn/linear_model/logistic.py:432: FutureWarning: Default solver will be changed to 'lbfgs' in 0.22. Specify a solver to silence this warning.\n",
      "  FutureWarning)\n",
      "/home/matthias/anaconda3/lib/python3.6/site-packages/sklearn/ensemble/forest.py:245: FutureWarning: The default value of n_estimators will change from 10 in version 0.20 to 100 in 0.22.\n",
      "  \"10 in version 0.20 to 100 in 0.22.\", FutureWarning)\n",
      "/home/matthias/anaconda3/lib/python3.6/site-packages/sklearn/svm/base.py:193: FutureWarning: The default value of gamma will change from 'auto' to 'scale' in version 0.22 to account better for unscaled features. Set gamma explicitly to 'auto' or 'scale' to avoid this warning.\n",
      "  \"avoid this warning.\", FutureWarning)\n",
      "/home/matthias/anaconda3/lib/python3.6/site-packages/sklearn/linear_model/logistic.py:432: FutureWarning: Default solver will be changed to 'lbfgs' in 0.22. Specify a solver to silence this warning.\n",
      "  FutureWarning)\n",
      "/home/matthias/anaconda3/lib/python3.6/site-packages/sklearn/svm/base.py:193: FutureWarning: The default value of gamma will change from 'auto' to 'scale' in version 0.22 to account better for unscaled features. Set gamma explicitly to 'auto' or 'scale' to avoid this warning.\n",
      "  \"avoid this warning.\", FutureWarning)\n"
     ]
    }
   ],
   "source": [
    "from sklearn.metrics import accuracy_score\n",
    "for clf in (log_clf, rnd_clf, svm_clf, voting_clf):\n",
    "    clf.fit(X_train, y_train)\n",
    "    y_pred = clf.predict(X_test)\n",
    "    print(clf.__class__.__name__, accuracy_score(y_test, y_pred))"
   ]
  },
  {
   "cell_type": "markdown",
   "metadata": {},
   "source": [
    "*Hard voting* simply classifies according to the majority vote without taking into account how confident these votes are. A measure for confidence of a vote could be the probability that a classifier gives for its vote if such probability is computed by the classifier. In Scikit-Learn, one thus needs a \"predict_proba()\" method. Classifying according to the aggregated confidences / probabilities is called *soft voting*. To implement this in a similar fashion as the hard voting above, we simply have the support vector machine classifier calculate probabilities and change the \"voting\" hyperparameter of the voting classifier from \"hard\" to \"soft\"."
   ]
  },
  {
   "cell_type": "code",
   "execution_count": 3,
   "metadata": {},
   "outputs": [
    {
     "name": "stdout",
     "output_type": "stream",
     "text": [
      "LogisticRegression 0.864\n",
      "RandomForestClassifier 0.896\n",
      "SVC 0.888\n",
      "VotingClassifier 0.888\n"
     ]
    },
    {
     "name": "stderr",
     "output_type": "stream",
     "text": [
      "/home/matthias/anaconda3/lib/python3.6/site-packages/sklearn/linear_model/logistic.py:432: FutureWarning: Default solver will be changed to 'lbfgs' in 0.22. Specify a solver to silence this warning.\n",
      "  FutureWarning)\n",
      "/home/matthias/anaconda3/lib/python3.6/site-packages/sklearn/svm/base.py:193: FutureWarning: The default value of gamma will change from 'auto' to 'scale' in version 0.22 to account better for unscaled features. Set gamma explicitly to 'auto' or 'scale' to avoid this warning.\n",
      "  \"avoid this warning.\", FutureWarning)\n",
      "/home/matthias/anaconda3/lib/python3.6/site-packages/sklearn/linear_model/logistic.py:432: FutureWarning: Default solver will be changed to 'lbfgs' in 0.22. Specify a solver to silence this warning.\n",
      "  FutureWarning)\n",
      "/home/matthias/anaconda3/lib/python3.6/site-packages/sklearn/svm/base.py:193: FutureWarning: The default value of gamma will change from 'auto' to 'scale' in version 0.22 to account better for unscaled features. Set gamma explicitly to 'auto' or 'scale' to avoid this warning.\n",
      "  \"avoid this warning.\", FutureWarning)\n",
      "/home/matthias/anaconda3/lib/python3.6/site-packages/sklearn/linear_model/logistic.py:432: FutureWarning: Default solver will be changed to 'lbfgs' in 0.22. Specify a solver to silence this warning.\n",
      "  FutureWarning)\n",
      "/home/matthias/anaconda3/lib/python3.6/site-packages/sklearn/svm/base.py:193: FutureWarning: The default value of gamma will change from 'auto' to 'scale' in version 0.22 to account better for unscaled features. Set gamma explicitly to 'auto' or 'scale' to avoid this warning.\n",
      "  \"avoid this warning.\", FutureWarning)\n"
     ]
    }
   ],
   "source": [
    "svm_clf = SVC(probability=True)  # instruct SVC to calculate probabilities (taken from Github link above)\n",
    "voting_clf = VotingClassifier(estimators=[('lr', log_clf), ('rf', rnd_clf), ('svc', svm_clf)], voting='soft')\n",
    "voting_clf.fit(X_train, y_train) # train the soft voting classifier (see last hyperparameter in the above line)\n",
    "for clf in (log_clf, rnd_clf, svm_clf, voting_clf):\n",
    "    clf.fit(X_train, y_train)\n",
    "    y_pred = clf.predict(X_test)\n",
    "    print(clf.__class__.__name__, accuracy_score(y_test, y_pred))"
   ]
  },
  {
   "cell_type": "markdown",
   "metadata": {},
   "source": [
    "## Bagging and Pasting\n",
    "page 185<br>\n",
    "Instead of training different models, one can also get different predictions by training the same model on different data. *Bagging* and *Pasting* are both techniques to obtain diverse (and smaller: size $m_1$) training sets from the full (and larger: size $m_2\\geq m_1$) training set. This is done in a random fashion. When each training instance may occur only once in each sampled training set (size $m_1$), this is called *pasting*. When it may occur several times in the same sampled training set (size $m_1$), it is called *bagging* which is short for *bootstrap aggregating* (any instance will be strapped in, no matter what it is). The aggregation function is usually *statistical mode*, which is the same as hard voting, for classification and the average for regression.<br>\n",
    "Due to the smaller training sets ($m_1$), each predictor has a higher bias (and probably also a higher variance) than if it was trained on the full training set ($m_2$). But the aggregation reduces both bias (assumption made on the data and thus on the model) and variance (model is sensitive to the addition of a new training instance). As the small training sets exist in parallel, the classifiers that are trained on only one of these small training sets each, can also be trained in parallel (they do not depend on each other). This can make training very fast if many predictors can be trained in parallel. The same applies for predictions. This possible speed-up makes bagging and pasting very popular methods.\n",
    "### Bagging and Pasting in Scikit-Learn\n",
    "page 186<br>\n",
    "*Bagging* in implemented in Scikit-Learn with \"BaggingClassifier\" for classification and \"BaggingRegressor\" for regression. *Pasting* uses exactly these algorithms yet with the bootstrapping (bootstrap aggregating = bagging) hyperparameter set to \"bootstrap=False\". An ensemble using one and the same algorithm trained on several small training sets (established with Bagging or Pasting) has usually a similar bias but a smaller variance than one single such algorithm trained on the entire training set, see Figure 7-5 on page 187.<br>\n",
    "Usually, *Bagging* performs a bit better than *Pasting* because allowing instances to occur several times in a small training set produces a more diverse ensemble of small training sets. But if enough compute is available one may also try both: sometimes *Pasting* produces better results."
   ]
  },
  {
   "cell_type": "code",
   "execution_count": 4,
   "metadata": {},
   "outputs": [
    {
     "data": {
      "text/plain": [
       "0.904"
      ]
     },
     "execution_count": 4,
     "metadata": {},
     "output_type": "execute_result"
    }
   ],
   "source": [
    "from sklearn.ensemble import BaggingClassifier\n",
    "from sklearn.tree import DecisionTreeClassifier\n",
    "# using \"n_jobs=-1\" in the following line uses all available cores (see last few sentences before \"Bagging and ...\n",
    "# ... Pasting in Scikit-Learn\" above); also note \"bootstrap=True\" for bagging\n",
    "bag_clf = BaggingClassifier(DecisionTreeClassifier(), n_estimators=500, max_samples=100, bootstrap=True, n_jobs=-1)\n",
    "bag_clf.fit(X_train, y_train)\n",
    "y_pred = bag_clf.predict(X_test)\n",
    "accuracy_score(y_test, y_pred)"
   ]
  },
  {
   "cell_type": "markdown",
   "metadata": {},
   "source": [
    "**General note**<br>\n",
    "The \"BaggingClassifier\" automatically performs soft voting instead of hard voting if the base classifier can estimate class probabilities (i.e., if it has a \"predict_proba()\" method), which is the case with Decision Trees classifiers.\n",
    "### Out-of-Bag Evaluation\n",
    "page 187<br>\n",
    "For *Bagging* with $m_1=m_2$, on average only about 63% of the instances in the full training set (size $m_2$) occur in the sampled training set (size $m_1$). This is a logical consequence of bootstrap aggregation, i.e., putting an instance in the sampled training set even if it occurs there already (once ore more times). That means that on average there are about 37% *out-of-bag* (oob) instances that do not occur in the sampled training set and can thus be used for testing. These oob instances are different for all predictors in the ensemble.<br>\n",
    "Setting \"oob_score=True\" for a \"BaggingClassifier\" with \"bootstrap=True\" (default) in Scikit-Learn produces an automatic oob evaluation after training."
   ]
  },
  {
   "cell_type": "code",
   "execution_count": 5,
   "metadata": {},
   "outputs": [
    {
     "data": {
      "text/plain": [
       "0.896"
      ]
     },
     "execution_count": 5,
     "metadata": {},
     "output_type": "execute_result"
    }
   ],
   "source": [
    "# use all available cores for training and compute the score performed on the out-of-bag instances for each classifier\n",
    "bag_clf = BaggingClassifier(DecisionTreeClassifier(), n_estimators=500, bootstrap=True, n_jobs=-1, oob_score=True)\n",
    "# train\n",
    "bag_clf.fit(X_train, y_train)\n",
    "# show the out-of-bag score (this must be an average of \"oob_score\" over all \"n_estimators\" or something like that)\n",
    "bag_clf.oob_score_"
   ]
  },
  {
   "cell_type": "markdown",
   "metadata": {},
   "source": [
    "However, ons should note that the entire ensemble has (most likely) seen all instances so our *BaggingClassifier* might still be prone to overfitting. Let's check that with the test set!"
   ]
  },
  {
   "cell_type": "code",
   "execution_count": 6,
   "metadata": {},
   "outputs": [
    {
     "name": "stdout",
     "output_type": "stream",
     "text": [
      "0.904\n",
      "[[0.34730539 0.65269461]\n",
      " [0.3030303  0.6969697 ]\n",
      " [1.         0.        ]\n",
      " [0.         1.        ]\n",
      " [0.         1.        ]\n",
      " [0.07853403 0.92146597]\n",
      " [0.31413613 0.68586387]\n",
      " [0.02105263 0.97894737]\n",
      " [1.         0.        ]\n",
      " [0.9742268  0.0257732 ]\n",
      " [0.82474227 0.17525773]\n",
      " [0.         1.        ]\n",
      " [0.76536313 0.23463687]\n",
      " [0.83798883 0.16201117]\n",
      " [0.97340426 0.02659574]\n",
      " [0.06806283 0.93193717]\n",
      " [0.         1.        ]\n",
      " [0.98888889 0.01111111]\n",
      " [0.94210526 0.05789474]\n",
      " [0.99009901 0.00990099]\n",
      " [0.03108808 0.96891192]\n",
      " [0.33510638 0.66489362]\n",
      " [0.88442211 0.11557789]\n",
      " [1.         0.        ]\n",
      " [0.95530726 0.04469274]\n",
      " [0.         1.        ]\n",
      " [1.         0.        ]\n",
      " [1.         0.        ]\n",
      " [0.         1.        ]\n",
      " [0.61290323 0.38709677]\n",
      " [0.         1.        ]\n",
      " [1.         0.        ]\n",
      " [0.         1.        ]\n",
      " [0.         1.        ]\n",
      " [0.17919075 0.82080925]\n",
      " [1.         0.        ]\n",
      " [0.         1.        ]\n",
      " [0.36708861 0.63291139]\n",
      " [0.         1.        ]\n",
      " [1.         0.        ]\n",
      " [0.25263158 0.74736842]\n",
      " [0.32142857 0.67857143]\n",
      " [1.         0.        ]\n",
      " [1.         0.        ]\n",
      " [0.         1.        ]\n",
      " [1.         0.        ]\n",
      " [1.         0.        ]\n",
      " [0.01554404 0.98445596]\n",
      " [1.         0.        ]\n",
      " [0.00549451 0.99450549]\n",
      " [1.         0.        ]\n",
      " [0.91304348 0.08695652]\n",
      " [0.94472362 0.05527638]\n",
      " [0.98453608 0.01546392]\n",
      " [0.         1.        ]\n",
      " [0.03723404 0.96276596]\n",
      " [0.96923077 0.03076923]\n",
      " [0.         1.        ]\n",
      " [0.         1.        ]\n",
      " [0.00552486 0.99447514]\n",
      " [0.97252747 0.02747253]\n",
      " [0.79881657 0.20118343]\n",
      " [0.42307692 0.57692308]\n",
      " [1.         0.        ]\n",
      " [0.         1.        ]\n",
      " [0.71666667 0.28333333]\n",
      " [1.         0.        ]\n",
      " [1.         0.        ]\n",
      " [0.88043478 0.11956522]\n",
      " [1.         0.        ]\n",
      " [0.66853933 0.33146067]\n",
      " [0.08571429 0.91428571]\n",
      " [0.61714286 0.38285714]\n",
      " [0.90909091 0.09090909]\n",
      " [0.         1.        ]\n",
      " [0.12883436 0.87116564]\n",
      " [0.89325843 0.10674157]\n",
      " [1.         0.        ]\n",
      " [0.         1.        ]\n",
      " [0.98901099 0.01098901]\n",
      " [0.         1.        ]\n",
      " [0.02197802 0.97802198]\n",
      " [0.02777778 0.97222222]\n",
      " [0.36315789 0.63684211]\n",
      " [1.         0.        ]\n",
      " [0.         1.        ]\n",
      " [0.835      0.165     ]\n",
      " [0.00555556 0.99444444]\n",
      " [0.         1.        ]\n",
      " [0.         1.        ]\n",
      " [0.26344086 0.73655914]\n",
      " [1.         0.        ]\n",
      " [0.         1.        ]\n",
      " [0.         1.        ]\n",
      " [0.         1.        ]\n",
      " [0.95544554 0.04455446]\n",
      " [0.72772277 0.27227723]\n",
      " [0.         1.        ]\n",
      " [1.         0.        ]\n",
      " [0.18232044 0.81767956]\n",
      " [0.64705882 0.35294118]\n",
      " [0.         1.        ]\n",
      " [0.01546392 0.98453608]\n",
      " [0.52247191 0.47752809]\n",
      " [1.         0.        ]\n",
      " [0.02083333 0.97916667]\n",
      " [1.         0.        ]\n",
      " [0.27272727 0.72727273]\n",
      " [0.51396648 0.48603352]\n",
      " [1.         0.        ]\n",
      " [0.01025641 0.98974359]\n",
      " [0.98802395 0.01197605]\n",
      " [0.26470588 0.73529412]\n",
      " [0.90116279 0.09883721]\n",
      " [1.         0.        ]\n",
      " [1.         0.        ]\n",
      " [0.         1.        ]\n",
      " [0.         1.        ]\n",
      " [0.78021978 0.21978022]\n",
      " [1.         0.        ]\n",
      " [0.00555556 0.99444444]\n",
      " [1.         0.        ]\n",
      " [1.         0.        ]\n",
      " [1.         0.        ]\n",
      " [0.99497487 0.00502513]\n",
      " [1.         0.        ]\n",
      " [0.         1.        ]\n",
      " [0.96551724 0.03448276]\n",
      " [0.98882682 0.01117318]\n",
      " [0.02139037 0.97860963]\n",
      " [0.24309392 0.75690608]\n",
      " [0.96969697 0.03030303]\n",
      " [0.2962963  0.7037037 ]\n",
      " [1.         0.        ]\n",
      " [0.         1.        ]\n",
      " [0.         1.        ]\n",
      " [0.70718232 0.29281768]\n",
      " [0.44047619 0.55952381]\n",
      " [0.39487179 0.60512821]\n",
      " [0.88095238 0.11904762]\n",
      " [0.93888889 0.06111111]\n",
      " [0.07692308 0.92307692]\n",
      " [0.77837838 0.22162162]\n",
      " [0.00584795 0.99415205]\n",
      " [0.         1.        ]\n",
      " [0.01630435 0.98369565]\n",
      " [0.96097561 0.03902439]\n",
      " [0.99489796 0.00510204]\n",
      " [1.         0.        ]\n",
      " [0.01169591 0.98830409]\n",
      " [0.         1.        ]\n",
      " [0.02105263 0.97894737]\n",
      " [0.         1.        ]\n",
      " [1.         0.        ]\n",
      " [1.         0.        ]\n",
      " [0.95187166 0.04812834]\n",
      " [1.         0.        ]\n",
      " [1.         0.        ]\n",
      " [0.99459459 0.00540541]\n",
      " [0.         1.        ]\n",
      " [0.39893617 0.60106383]\n",
      " [0.2606383  0.7393617 ]\n",
      " [0.00606061 0.99393939]\n",
      " [0.         1.        ]\n",
      " [0.33       0.67      ]\n",
      " [1.         0.        ]\n",
      " [1.         0.        ]\n",
      " [0.         1.        ]\n",
      " [1.         0.        ]\n",
      " [0.         1.        ]\n",
      " [0.         1.        ]\n",
      " [0.98245614 0.01754386]\n",
      " [0.         1.        ]\n",
      " [0.         1.        ]\n",
      " [1.         0.        ]\n",
      " [0.00526316 0.99473684]\n",
      " [0.62359551 0.37640449]\n",
      " [0.92820513 0.07179487]\n",
      " [0.         1.        ]\n",
      " [0.99382716 0.00617284]\n",
      " [0.98924731 0.01075269]\n",
      " [1.         0.        ]\n",
      " [0.         1.        ]\n",
      " [0.         1.        ]\n",
      " [1.         0.        ]\n",
      " [0.11801242 0.88198758]\n",
      " [1.         0.        ]\n",
      " [0.03225806 0.96774194]\n",
      " [0.         1.        ]\n",
      " [1.         0.        ]\n",
      " [0.         1.        ]\n",
      " [0.0245098  0.9754902 ]\n",
      " [0.99465241 0.00534759]\n",
      " [0.94240838 0.05759162]\n",
      " [0.76315789 0.23684211]\n",
      " [0.64480874 0.35519126]\n",
      " [0.         1.        ]\n",
      " [0.14917127 0.85082873]\n",
      " [1.         0.        ]\n",
      " [0.93529412 0.06470588]\n",
      " [0.98888889 0.01111111]\n",
      " [1.         0.        ]\n",
      " [0.00507614 0.99492386]\n",
      " [0.         1.        ]\n",
      " [0.45212766 0.54787234]\n",
      " [0.84393064 0.15606936]\n",
      " [0.         1.        ]\n",
      " [0.         1.        ]\n",
      " [1.         0.        ]\n",
      " [0.         1.        ]\n",
      " [0.         1.        ]\n",
      " [0.98       0.02      ]\n",
      " [0.         1.        ]\n",
      " [0.21578947 0.78421053]\n",
      " [0.         1.        ]\n",
      " [1.         0.        ]\n",
      " [0.         1.        ]\n",
      " [0.         1.        ]\n",
      " [1.         0.        ]\n",
      " [0.81967213 0.18032787]\n",
      " [0.99494949 0.00505051]\n",
      " [0.         1.        ]\n",
      " [0.06779661 0.93220339]\n",
      " [1.         0.        ]\n",
      " [0.03296703 0.96703297]\n",
      " [0.         1.        ]\n",
      " [0.05524862 0.94475138]\n",
      " [1.         0.        ]\n",
      " [0.80645161 0.19354839]\n",
      " [0.         1.        ]\n",
      " [0.9144385  0.0855615 ]\n",
      " [0.98550725 0.01449275]\n",
      " [0.19895288 0.80104712]\n",
      " [0.22051282 0.77948718]\n",
      " [1.         0.        ]\n",
      " [0.         1.        ]\n",
      " [0.         1.        ]\n",
      " [0.         1.        ]\n",
      " [0.24064171 0.75935829]\n",
      " [0.96825397 0.03174603]\n",
      " [0.         1.        ]\n",
      " [1.         0.        ]\n",
      " [0.98895028 0.01104972]\n",
      " [0.         1.        ]\n",
      " [0.46236559 0.53763441]\n",
      " [1.         0.        ]\n",
      " [0.         1.        ]\n",
      " [1.         0.        ]\n",
      " [0.         1.        ]\n",
      " [0.         1.        ]\n",
      " [0.08542714 0.91457286]\n",
      " [0.1027027  0.8972973 ]\n",
      " [0.98930481 0.01069519]\n",
      " [0.02312139 0.97687861]\n",
      " [1.         0.        ]\n",
      " [0.4076087  0.5923913 ]\n",
      " [0.14689266 0.85310734]\n",
      " [0.55789474 0.44210526]\n",
      " [0.55932203 0.44067797]\n",
      " [0.         1.        ]\n",
      " [1.         0.        ]\n",
      " [0.         1.        ]\n",
      " [0.         1.        ]\n",
      " [0.61538462 0.38461538]\n",
      " [0.         1.        ]\n",
      " [1.         0.        ]\n",
      " [0.25294118 0.74705882]\n",
      " [0.80526316 0.19473684]\n",
      " [0.06857143 0.93142857]\n",
      " [1.         0.        ]\n",
      " [0.82183908 0.17816092]\n",
      " [0.         1.        ]\n",
      " [0.         1.        ]\n",
      " [0.09392265 0.90607735]\n",
      " [0.03314917 0.96685083]\n",
      " [0.         1.        ]\n",
      " [1.         0.        ]\n",
      " [0.91208791 0.08791209]\n",
      " [0.16949153 0.83050847]\n",
      " [0.98445596 0.01554404]\n",
      " [0.00518135 0.99481865]\n",
      " [0.58888889 0.41111111]\n",
      " [0.10106383 0.89893617]\n",
      " [0.98314607 0.01685393]\n",
      " [0.82702703 0.17297297]\n",
      " [0.         1.        ]\n",
      " [0.9950495  0.0049505 ]\n",
      " [0.93922652 0.06077348]\n",
      " [0.         1.        ]\n",
      " [0.         1.        ]\n",
      " [1.         0.        ]\n",
      " [0.         1.        ]\n",
      " [1.         0.        ]\n",
      " [0.31147541 0.68852459]\n",
      " [0.99363057 0.00636943]\n",
      " [1.         0.        ]\n",
      " [0.         1.        ]\n",
      " [0.         1.        ]\n",
      " [0.87027027 0.12972973]\n",
      " [0.         1.        ]\n",
      " [1.         0.        ]\n",
      " [0.80208333 0.19791667]\n",
      " [0.93491124 0.06508876]\n",
      " [1.         0.        ]\n",
      " [0.77472527 0.22527473]\n",
      " [0.52409639 0.47590361]\n",
      " [0.00591716 0.99408284]\n",
      " [0.92349727 0.07650273]\n",
      " [0.         1.        ]\n",
      " [1.         0.        ]\n",
      " [0.84042553 0.15957447]\n",
      " [1.         0.        ]\n",
      " [1.         0.        ]\n",
      " [0.71910112 0.28089888]\n",
      " [0.10880829 0.89119171]\n",
      " [0.48888889 0.51111111]\n",
      " [0.2816092  0.7183908 ]\n",
      " [0.         1.        ]\n",
      " [0.9122807  0.0877193 ]\n",
      " [0.82741117 0.17258883]\n",
      " [0.00555556 0.99444444]\n",
      " [1.         0.        ]\n",
      " [0.99401198 0.00598802]\n",
      " [1.         0.        ]\n",
      " [0.         1.        ]\n",
      " [0.03428571 0.96571429]\n",
      " [0.95081967 0.04918033]\n",
      " [0.94117647 0.05882353]\n",
      " [1.         0.        ]\n",
      " [0.45762712 0.54237288]\n",
      " [1.         0.        ]\n",
      " [0.         1.        ]\n",
      " [0.99435028 0.00564972]\n",
      " [0.         1.        ]\n",
      " [1.         0.        ]\n",
      " [1.         0.        ]\n",
      " [1.         0.        ]\n",
      " [0.         1.        ]\n",
      " [0.96907216 0.03092784]\n",
      " [0.         1.        ]\n",
      " [0.05464481 0.94535519]\n",
      " [0.         1.        ]\n",
      " [0.         1.        ]\n",
      " [1.         0.        ]\n",
      " [1.         0.        ]\n",
      " [0.         1.        ]\n",
      " [1.         0.        ]\n",
      " [0.02197802 0.97802198]\n",
      " [1.         0.        ]\n",
      " [0.12307692 0.87692308]\n",
      " [0.         1.        ]\n",
      " [0.00502513 0.99497487]\n",
      " [0.         1.        ]\n",
      " [0.31609195 0.68390805]\n",
      " [0.06451613 0.93548387]\n",
      " [0.21164021 0.78835979]\n",
      " [1.         0.        ]\n",
      " [0.97905759 0.02094241]\n",
      " [0.2        0.8       ]\n",
      " [0.98947368 0.01052632]\n",
      " [0.00534759 0.99465241]\n",
      " [0.         1.        ]\n",
      " [1.         0.        ]\n",
      " [0.95402299 0.04597701]\n",
      " [0.32978723 0.67021277]\n",
      " [0.99415205 0.00584795]\n",
      " [1.         0.        ]\n",
      " [0.00512821 0.99487179]\n",
      " [0.99441341 0.00558659]\n",
      " [0.         1.        ]\n",
      " [0.02873563 0.97126437]\n",
      " [0.98958333 0.01041667]\n",
      " [1.         0.        ]\n",
      " [0.03448276 0.96551724]\n",
      " [0.63125    0.36875   ]]\n"
     ]
    }
   ],
   "source": [
    "y_pred = bag_clf.predict(X_test)      # make predictions on the test set\n",
    "print(accuracy_score(y_test, y_pred)) # check the accuracy of these predictions\n",
    "print(bag_clf.oob_decision_function_) # show the predicted class probabilities"
   ]
  },
  {
   "cell_type": "markdown",
   "metadata": {},
   "source": [
    "Even over several runs - all of which produce different results because of randomness - there is not really a sign of overfitting. The \"oob_score\" further above might be an average of the scores of the \"n_estimators\" individual scores. Due to the *law of large numbers*, it is not surprising that the ensemble performs better than the average individual classifier.<br>\n",
    "The \"oob_decision_function\" variable allows access to the class probabilities (the calculation of a *probability* is due to the fact that the base estimator has a \"predict_proba()\" method). These are inferred from aggregated oob-scores."
   ]
  },
  {
   "cell_type": "markdown",
   "metadata": {},
   "source": [
    "## Random Patches and Random Subspaces\n",
    "page 188<br>\n",
    "Instead of only sampling a selection of instances, it is also possible to only sample a selection of features. For the Scikit-Learn's \"BaggingClassifier\" class this is controlled by the hyperparameters \"max_features\" and \"bootstrap_features\", which are the feature analogues of \"max_samples\" and \"bootstrap\". Sampling both instances and features is called the *Random Patches* method. Sampling features (\"bootstrap_features=True\" and/or \"max_features\"<1.0) while keeping all training instances (\"bootstrap=False\" and \"max_samples=1.0\") is called the *Random Subspaces* method. These methods can be used to get (even) more diversity in the predictor ensemble.\n",
    "## Random Forests\n",
    "page 189<br>\n",
    "Instead of having a \"BaggingClassifier\" employ the \"DecisionTreeClassifier\" algorithm, one can directly use Scikit-Learn's \"RandomForestClassifier\" (or the \"RandomForestRegressor\" instead of the \"DecisionTreeRegressor\") which is optimized towards Decision Trees. The \"BaggingClassifier\" is still useful if one wishes to aggregate decisions from different kinds of algorithms (other than only Decistion Trees). Let's try the \"RandomForestClassifier\"!"
   ]
  },
  {
   "cell_type": "code",
   "execution_count": 7,
   "metadata": {},
   "outputs": [
    {
     "data": {
      "text/plain": [
       "0.912"
      ]
     },
     "execution_count": 7,
     "metadata": {},
     "output_type": "execute_result"
    }
   ],
   "source": [
    "from sklearn.ensemble import RandomForestClassifier\n",
    "rnd_clf = RandomForestClassifier(n_estimators=500, max_leaf_nodes=16, n_jobs=-1)\n",
    "rnd_clf.fit(X_train, y_train)\n",
    "y_pred_rf = rnd_clf.predict(X_test)\n",
    "accuracy_score(y_test, y_pred_rf)"
   ]
  },
  {
   "cell_type": "markdown",
   "metadata": {},
   "source": [
    "By and large, the \"RandomForestClassifier\" has the same hyperparameters as the combination of the \"BaggingClassifier\" (to control the ensemble) and the \"DecisionTreeClassifier\" (to control the individual trees). See page 189 and footnote 11 there for details. The following \"BaggingClassifier\" is roughly equivalent to the above code."
   ]
  },
  {
   "cell_type": "code",
   "execution_count": 8,
   "metadata": {},
   "outputs": [
    {
     "data": {
      "text/plain": [
       "0.912"
      ]
     },
     "execution_count": 8,
     "metadata": {},
     "output_type": "execute_result"
    }
   ],
   "source": [
    "bag_clf = BaggingClassifier(\n",
    "    DecisionTreeClassifier(splitter=\"random\", max_leaf_nodes=16),\n",
    "    n_estimators=500, max_samples=1.0, bootstrap=True, n_jobs=-1)\n",
    "bag_clf.fit(X_train, y_train)\n",
    "y_pred_bag = bag_clf.predict(X_test)\n",
    "accuracy_score(y_test, y_pred_bag)"
   ]
  },
  {
   "cell_type": "markdown",
   "metadata": {},
   "source": [
    "### Extra-Trees\n",
    "page 190<br>\n",
    "Due to the *law of large numbers*, ensembles and thus Random Forests rely on the independency of the aggregated predictions. Randomness leads to diversity and thus to independency. *Extremely Randomized Trees* or *Extra-Trees* use a random feature subset at each node, just like a regular tree in a Random Forest would do by default. (Note that this is different for a single Decision Tree that would search for the most relevant feature.) But *Extra-Trees* go further than the regular tree in the Random Forest by choosing a random threshold. For the ensemble, this leads once again to higher bias and lower variance. And it makes the growing of Extra-Trees much faster than a regular Random Forest. In Scikit-Learn, Extra Trees are implemented with the \"ExtraTreeRegressor\" and \"ExtraTreeClassifier\" classes.<br><br>\n",
    "**Tip or suggestion**<br>\n",
    "It is hard to tell in advance whether a \"RandomForestClassifier\" will perform better or worse than an \"ExtraTreesClassifier\". Generally, the only way to know is to try both and compare them using cross-validation (and tuning the hpyerparameters using grid search).\n",
    "### Feature Importance\n",
    "page 190<br>\n",
    "For Random Forests, Scikit-Learn can measure how much a feature reduces the impurity (or entropy). Averaging this reduction of impurity (or entropy) over all trees gives the correctly weighted importance of that feature. Doing this for all features and normalizing the outcomes so they sum up to 1 shows the relative importance of a feature. Scikit-Learn does this automatically. The feature importances are accessible through the \"feature_importances_\" variable. Below, we output the feature importances of the iris dataset."
   ]
  },
  {
   "cell_type": "code",
   "execution_count": 9,
   "metadata": {},
   "outputs": [
    {
     "name": "stdout",
     "output_type": "stream",
     "text": [
      "sepal length (cm) 0.08896156580520413\n",
      "sepal width (cm) 0.023193330492913406\n",
      "petal length (cm) 0.43867548329692174\n",
      "petal width (cm) 0.4491696204049606\n"
     ]
    }
   ],
   "source": [
    "from sklearn.datasets import load_iris\n",
    "iris = load_iris()\n",
    "rnd_clf = RandomForestClassifier(n_estimators=500, n_jobs=-1)\n",
    "rnd_clf.fit(iris[\"data\"], iris[\"target\"])\n",
    "for name, score in zip(iris[\"feature_names\"], rnd_clf.feature_importances_):\n",
    "    print(name, score)"
   ]
  },
  {
   "cell_type": "markdown",
   "metadata": {},
   "source": [
    "So Random Forests are very handy to find out what features are actually important. This can be used for feature selection.\n",
    "## Boosting\n",
    "page 191<br>\n",
    "*Hypothesis Boosting* or just *Boosting* for short refers to sequentially ordered predictors where each tries to correct its predecessor. This allows the combination of many weak learners into one strong learner. However, parallelization of sequential predictors is not possible since the predecessor relies on the predictions of its successor. There are many boosting methods available but *AdaBoost* and *Gradient Boosting* are by far the most popular ones.\n",
    "### AdaBosst\n",
    "page 192<br>\n",
    "*Adaptive Boosting* or *AdaBoost* for short uses a sequence of predictors where each successor increases the weight of those instances that have been misclassified by its predecessor. The amount by which the weight of these instances is increased can be manipulated with a *learning rate* hyperparameter. Once the entire sequence of predictors is trained, the ensemble makes predictions based on all predictors, where each predictor's prediction is weighted by its accuracy.<br><br>\n",
    "**Warning / caution**<br>\n",
    "There is one important drawback to this sequential learning technique: it cannot be parallelized (or only partially), since each predictor can only be trained after the previous predictor has been trained and evaluated. As a result, it does not scale as well as bagging or pasting.<br><br>\n",
    "The weight of all instances is initalized as $w^{(i)}=1/m$, with $m$ being the number of instances. The weighted error rate of the $j$-th predictor is defined as\n",
    "$$r_j=\\frac{\\sum_{i=1,y_j^{(i)}\\neq y^{(i)}}^mw^{(i)}}{\\sum_{i=1}^mw^{(i)}}\\,,$$\n",
    "where $y_j^{(i)}$ is the $j$-th predictor's predictions on instance $i$. This predictors weight $\\alpha_j$ is then determined via\n",
    "$$\\alpha_j=\\eta\\log\\frac{1-r_j}{r_j}\\,,$$\n",
    "where $\\eta$ is the *learning rate*. Note that $\\log\\frac{1-r_j}{r_j}=\\log(1-r_j)-\\log(r_j)$ goes to $-\\infty$ for $r_j\\to1$ (everything wrong => go the other direction) and to $+\\infty$ for $r_j\\to0$ (everything right => go this direction, very far). For the next predictor, the instance weights are updated as follows:\n",
    "$$w^{(i)}=\\left\\{\\begin{array}f\\text{$w^{(i)}\\,\\,\\,\\,\\,\\quad\\qquad$ if $y^{(i)}_j=y^{(i)}$,}\\\\\\text{$w^{(i)}\\exp(\\alpha_j)\\quad$ if $y^{(i)}_j\\neq y^{(i)}$.}\\end{array}\\right.$$\n",
    "Then all instance weights are normalized by dividing by $\\sum_{i=1}^mw^{(i)}$.<br>\n",
    "This iteration stops when the specified upper bound of total predictors has been reached or when a perfect predictor has been found ($r_{\\text{final}}=0$). AdaBoost predicts the class that gets the highest weighted prediction of all $N$ predictors:\n",
    "$$y(x)=\\text{argmax}_k\\sum_{j=1,\\,y_j(x)=k}^N\\alpha_j$$"
   ]
  },
  {
   "cell_type": "code",
   "execution_count": 10,
   "metadata": {},
   "outputs": [
    {
     "data": {
      "text/plain": [
       "0.896"
      ]
     },
     "execution_count": 10,
     "metadata": {},
     "output_type": "execute_result"
    }
   ],
   "source": [
    "from sklearn.ensemble import AdaBoostClassifier\n",
    "ada_clf = AdaBoostClassifier(\n",
    "    DecisionTreeClassifier(max_depth=1), n_estimators=200,\n",
    "    algorithm=\"SAMME.R\", learning_rate=0.5)\n",
    "ada_clf.fit(X_train, y_train)\n",
    "y_pred_ada = ada_clf.predict(X_test)\n",
    "accuracy_score(y_test, y_pred_ada)"
   ]
  },
  {
   "cell_type": "markdown",
   "metadata": {},
   "source": [
    "The above code produces 200 *Decision Stumps* (depth=1 => one decision node and two leaf nodes). In addition to the \"AdaBoostClassifier\", there is also an \"AdaBoostRegressor\". Scikit-Learn actually uses a multiclass version of AdaBoost called *SAMME* (Stagewise Additive Modeling using a Multiclass Exponential loss function). With just two classes, *SAMME* is equivalent to AdaBoost apart from the fact that it uses class probabilities instead of class predictions, i.e., soft voting instead of hard voting.<br><br>\n",
    "**Tip or suggestion**<br>\n",
    "If your AdaBoost ensemble is overfitting the training set, you can try reducing the number of estimators or more strongly regularizing the base estimator.\n",
    "### Gradient Boosting\n",
    "page 195<br>\n",
    "Instead of increasing the weight of misclassified instances, *Gradient Boosting* reduces errors by training a successor algorithm on the residual errors made by the preceding algorithm. Here, we implement this with Decision Trees that are trained on a noisy quadratic dataset."
   ]
  },
  {
   "cell_type": "code",
   "execution_count": 11,
   "metadata": {},
   "outputs": [
    {
     "name": "stdout",
     "output_type": "stream",
     "text": [
      "[0.75026781]\n"
     ]
    }
   ],
   "source": [
    "# generate noisy quadratic data\n",
    "import numpy as np\n",
    "np.random.seed(42)\n",
    "X = np.random.rand(100, 1) - 0.5\n",
    "y = 3*X[:, 0]**2 + 0.05 * np.random.randn(100)\n",
    "# hardcode gradient boosting (in 3 stages)\n",
    "from sklearn.tree import DecisionTreeRegressor\n",
    "tree_reg1 = DecisionTreeRegressor(max_depth=2)\n",
    "tree_reg1.fit(X, y)            # 1st set of predictions\n",
    "y2 = y - tree_reg1.predict(X)  # use the remaining error as features for the second predictor\n",
    "tree_reg2 = DecisionTreeRegressor(max_depth=2)\n",
    "tree_reg2.fit(X, y2)           # 2nd set of predictions\n",
    "y3 = y2 - tree_reg2.predict(X) # again, use the remaining errors as new features\n",
    "tree_reg3 = DecisionTreeRegressor(max_depth=2)\n",
    "tree_reg3.fit(X, y3)           # 3rd set of predictions\n",
    "# make prediction\n",
    "X_new = np.array([[0.8]])      # new instance\n",
    "y_pred = sum(tree.predict(X_new) for tree in (tree_reg1, tree_reg2, tree_reg3)) # the total prediction is the sum ...\n",
    "# ... of the first prediction plus the first and second correction\n",
    "print(y_pred)                  # show resulting total prediction"
   ]
  },
  {
   "cell_type": "markdown",
   "metadata": {},
   "source": [
    "Below, we use code from Github to display the progress of the regression as gradient boosting advances, i.e., as subsequent trees try to correct previous deviations."
   ]
  },
  {
   "cell_type": "code",
   "execution_count": 12,
   "metadata": {},
   "outputs": [
    {
     "data": {
      "text/plain": [
       "<Figure size 1100x1100 with 6 Axes>"
      ]
     },
     "metadata": {},
     "output_type": "display_data"
    }
   ],
   "source": [
    "# residual imports\n",
    "import matplotlib\n",
    "import matplotlib.pyplot as plt\n",
    "# define plotting function\n",
    "def plot_predictions(regressors, X, y, axes, label=None, style=\"r-\", data_style=\"b.\", data_label=None):\n",
    "    x1 = np.linspace(axes[0], axes[1], 500)\n",
    "    y_pred = sum(regressor.predict(x1.reshape(-1, 1)) for regressor in regressors)\n",
    "    plt.plot(X[:, 0], y, data_style, label=data_label)\n",
    "    plt.plot(x1, y_pred, style, linewidth=2, label=label)\n",
    "    if label or data_label:\n",
    "        plt.legend(loc=\"upper center\", fontsize=16)\n",
    "    plt.axis(axes)\n",
    "# plot figures\n",
    "plt.figure(figsize=(11,11))\n",
    "# first prediction\n",
    "plt.subplot(321)\n",
    "plot_predictions([tree_reg1], X, y, axes=[-0.5, 0.5, -0.1, 0.8], label=\"$h_1(x_1)$\", style=\"g-\",\n",
    "                 data_label=\"Training set\")\n",
    "plt.ylabel(\"$y$\", fontsize=16, rotation=0)\n",
    "plt.title(\"Residuals and tree predictions\", fontsize=16)\n",
    "# first ensemble = first prediction\n",
    "plt.subplot(322)\n",
    "plot_predictions([tree_reg1], X, y, axes=[-0.5, 0.5, -0.1, 0.8], label=\"$h(x_1) = h_1(x_1)$\",\n",
    "                 data_label=\"Training set\")\n",
    "plt.ylabel(\"$y$\", fontsize=16, rotation=0)\n",
    "plt.title(\"Ensemble predictions\", fontsize=16)\n",
    "# first correction\n",
    "plt.subplot(323)\n",
    "plot_predictions([tree_reg2], X, y2, axes=[-0.5, 0.5, -0.5, 0.5], label=\"$h_2(x_1)$\", style=\"g-\", data_style=\"k+\",\n",
    "                 data_label=\"Residuals\")\n",
    "plt.ylabel(\"$y - h_1(x_1)$\", fontsize=16)\n",
    "# second ensemble = first prediction + first correction\n",
    "plt.subplot(324)\n",
    "plot_predictions([tree_reg1, tree_reg2], X, y, axes=[-0.5, 0.5, -0.1, 0.8], label=\"$h(x_1) = h_1(x_1) + h_2(x_1)$\")\n",
    "plt.ylabel(\"$y$\", fontsize=16, rotation=0)\n",
    "# second correction\n",
    "plt.subplot(325)\n",
    "plot_predictions([tree_reg3], X, y3, axes=[-0.5, 0.5, -0.5, 0.5], label=\"$h_3(x_1)$\", style=\"g-\", data_style=\"k+\")\n",
    "plt.ylabel(\"$y - h_1(x_1) - h_2(x_1)$\", fontsize=16)\n",
    "plt.xlabel(\"$x_1$\", fontsize=16)\n",
    "# second ensemble = second prediction + second correction\n",
    "plt.subplot(326)\n",
    "plot_predictions([tree_reg1, tree_reg2, tree_reg3], X, y, axes=[-0.5, 0.5, -0.1, 0.8],\n",
    "                 label=\"$h(x_1) = h_1(x_1) + h_2(x_1) + h_3(x_1)$\")\n",
    "plt.xlabel(\"$x_1$\", fontsize=16)\n",
    "plt.ylabel(\"$y$\", fontsize=16, rotation=0)\n",
    "plt.show()"
   ]
  },
  {
   "cell_type": "markdown",
   "metadata": {},
   "source": [
    "In Scikit-Learn, one can simply use the \"GradientBoostingRegressor\" class instead of the above code. It has hyperparameters that tune the growth of the trees and other hyperparameters that control the gradient boosting. The following code is very similar to the one above."
   ]
  },
  {
   "cell_type": "code",
   "execution_count": 13,
   "metadata": {},
   "outputs": [
    {
     "data": {
      "text/plain": [
       "GradientBoostingRegressor(alpha=0.9, criterion='friedman_mse', init=None,\n",
       "                          learning_rate=1.0, loss='ls', max_depth=2,\n",
       "                          max_features=None, max_leaf_nodes=None,\n",
       "                          min_impurity_decrease=0.0, min_impurity_split=None,\n",
       "                          min_samples_leaf=1, min_samples_split=2,\n",
       "                          min_weight_fraction_leaf=0.0, n_estimators=3,\n",
       "                          n_iter_no_change=None, presort='auto',\n",
       "                          random_state=None, subsample=1.0, tol=0.0001,\n",
       "                          validation_fraction=0.1, verbose=0, warm_start=False)"
      ]
     },
     "execution_count": 13,
     "metadata": {},
     "output_type": "execute_result"
    }
   ],
   "source": [
    "from sklearn.ensemble import GradientBoostingRegressor\n",
    "gbrt = GradientBoostingRegressor(max_depth=2, n_estimators=3, learning_rate=1.0)\n",
    "gbrt.fit(X, y)"
   ]
  },
  {
   "cell_type": "markdown",
   "metadata": {},
   "source": [
    "Here, the learning rate hyperparameter determines how strongly subsequent trees are taken into account. Setting it to a low value has the effect that more trees are required to fit the data well. But the predictions usually generalize better. This regularization technique is called *shrinkage*."
   ]
  },
  {
   "cell_type": "code",
   "execution_count": 14,
   "metadata": {},
   "outputs": [
    {
     "data": {
      "text/plain": [
       "GradientBoostingRegressor(alpha=0.9, criterion='friedman_mse', init=None,\n",
       "                          learning_rate=0.1, loss='ls', max_depth=2,\n",
       "                          max_features=None, max_leaf_nodes=None,\n",
       "                          min_impurity_decrease=0.0, min_impurity_split=None,\n",
       "                          min_samples_leaf=1, min_samples_split=2,\n",
       "                          min_weight_fraction_leaf=0.0, n_estimators=30,\n",
       "                          n_iter_no_change=None, presort='auto',\n",
       "                          random_state=None, subsample=1.0, tol=0.0001,\n",
       "                          validation_fraction=0.1, verbose=0, warm_start=False)"
      ]
     },
     "execution_count": 14,
     "metadata": {},
     "output_type": "execute_result"
    }
   ],
   "source": [
    "# same code as above but with 10 times more estimators and 10 times smaller learning rate\n",
    "from sklearn.ensemble import GradientBoostingRegressor\n",
    "gbrt_slow = GradientBoostingRegressor(max_depth=2, n_estimators=30, learning_rate=0.1)\n",
    "gbrt_slow.fit(X, y)"
   ]
  },
  {
   "cell_type": "markdown",
   "metadata": {},
   "source": [
    "Let's plot the above trees (with code from Github). Note that using too many trees can lead to overfitting!"
   ]
  },
  {
   "cell_type": "code",
   "execution_count": 15,
   "metadata": {},
   "outputs": [
    {
     "data": {
      "image/png": "[encoded data removed]",
      "text/plain": [
       "<Figure size 792x288 with 2 Axes>"
      ]
     },
     "metadata": {},
     "output_type": "display_data"
    }
   ],
   "source": [
    "plt.figure(figsize=(11,4))\n",
    "plt.subplot(121) # first subplot\n",
    "plot_predictions([gbrt], X, y, axes=[-0.5, 0.5, -0.1, 0.8], label=\"Ensemble predictions\")\n",
    "plt.title(\"learning_rate={}, n_estimators={}\".format(gbrt.learning_rate, gbrt.n_estimators), fontsize=14)\n",
    "plt.subplot(122) # second subplot\n",
    "plot_predictions([gbrt_slow], X, y, axes=[-0.5, 0.5, -0.1, 0.8])\n",
    "plt.title(\"learning_rate={}, n_estimators={}\".format(gbrt_slow.learning_rate, gbrt_slow.n_estimators), fontsize=14)\n",
    "plt.show()"
   ]
  },
  {
   "cell_type": "markdown",
   "metadata": {},
   "source": [
    "One may attempt (but not guarantee) to find the optimum number of trees as follows: (i) make so many trees (with Gradient Boosting) that you think they will be surely enough (i.e., they will most likely not underfit); (ii) on the validation set, calculate your performance measure of choice after each added tree; (iii) when overfitting sets in, this measure should go up; (iv) use that number of trees that has led to the best performance; (v) retrain an algorithm with that number of trees.<br>\n",
    "Note that this is some kind of early stopping: the validation error goes up when overfitting sets in. Now, let's do this!"
   ]
  },
  {
   "cell_type": "code",
   "execution_count": 16,
   "metadata": {},
   "outputs": [
    {
     "data": {
      "text/plain": [
       "GradientBoostingRegressor(alpha=0.9, criterion='friedman_mse', init=None,\n",
       "                          learning_rate=0.1, loss='ls', max_depth=2,\n",
       "                          max_features=None, max_leaf_nodes=None,\n",
       "                          min_impurity_decrease=0.0, min_impurity_split=None,\n",
       "                          min_samples_leaf=1, min_samples_split=2,\n",
       "                          min_weight_fraction_leaf=0.0, n_estimators=61,\n",
       "                          n_iter_no_change=None, presort='auto',\n",
       "                          random_state=None, subsample=1.0, tol=0.0001,\n",
       "                          validation_fraction=0.1, verbose=0, warm_start=False)"
      ]
     },
     "execution_count": 16,
     "metadata": {},
     "output_type": "execute_result"
    }
   ],
   "source": [
    "from sklearn.metrics import mean_squared_error\n",
    "X_train, X_val, y_train, y_val = train_test_split(X, y)         # split dataset in training and validation sets\n",
    "gbrt = GradientBoostingRegressor(max_depth=2, n_estimators=120) # 120 predictors should be enough\n",
    "gbrt.fit(X_train, y_train)                                      # train the model\n",
    "errors = [mean_squared_error(y_val,y_pred) for y_pred in gbrt.staged_predict(X_val)] # THIS IS KEY: ...\n",
    "# ... with \"staged_predict\" one can calculate the mean squared error after each added predictor\n",
    "bst_n_estimators = np.argmin(errors)                            # in this row is the smallest validation error\n",
    "gbrt_best = GradientBoostingRegressor(max_depth=2, n_estimators=bst_n_estimators)    # retrain with this number of ...\n",
    "gbrt_best.fit(X_train, y_train)                                 # ... trees"
   ]
  },
  {
   "cell_type": "markdown",
   "metadata": {},
   "source": [
    "With code from Github, we plot the validation error as a function of the number of trees and we show the regression results obtained with the best model."
   ]
  },
  {
   "cell_type": "code",
   "execution_count": 17,
   "metadata": {},
   "outputs": [
    {
     "name": "stdout",
     "output_type": "stream",
     "text": [
      "0.0031284945152031435\n"
     ]
    },
    {
     "data": {
      "image/png": "[encoded data removed]",
      "text/plain": [
       "<Figure size 792x288 with 2 Axes>"
      ]
     },
     "metadata": {},
     "output_type": "display_data"
    },
    {
     "name": "stdout",
     "output_type": "stream",
     "text": [
      "0.003154387980516349\n"
     ]
    }
   ],
   "source": [
    "min_error = np.min(errors)  # above, we only inferred in which row (=number of trees) the erros is smallest; this ...\n",
    "print(min_error)            # ... here is the value of this smallest error\n",
    "plt.figure(figsize=(11, 4)) # make a plot\n",
    "# validation error\n",
    "plt.subplot(121)\n",
    "plt.plot(errors, \"b.-\")\n",
    "plt.plot([bst_n_estimators, bst_n_estimators], [0, min_error], \"k--\")\n",
    "plt.plot([0, 120], [min_error, min_error], \"k--\")\n",
    "plt.plot(bst_n_estimators, min_error, \"ko\")\n",
    "plt.text(bst_n_estimators, min_error*1.2, \"Minimum\", ha=\"center\", fontsize=14)\n",
    "plt.axis([0, 120, 0, 0.01])\n",
    "plt.xlabel(\"Number of trees\")\n",
    "plt.title(\"Validation error\", fontsize=14)\n",
    "# best model\n",
    "plt.subplot(122)\n",
    "plot_predictions([gbrt_best], X, y, axes=[-0.5, 0.5, -0.1, 0.8])\n",
    "plt.title(\"Best model (%d trees)\" % bst_n_estimators, fontsize=14)\n",
    "plt.show()\n",
    "# mean squared error of best model\n",
    "y_pred_best_val = gbrt_best.predict(X_val)\n",
    "mse_val_best=mean_squared_error(y_val, y_pred_best_val)\n",
    "print(mse_val_best)"
   ]
  },
  {
   "cell_type": "markdown",
   "metadata": {},
   "source": [
    "It is also possible to implement early stopping such that the algorithm stops immediately when the validation error goes up (instead of finishing all the way and then look back at the validation error minimum). This can be achieved with \"warm_start=True\", which has Scikit-Learn keep existing trees. The following code stops training once the validation error did not reach a new minimum for five iterations in a row."
   ]
  },
  {
   "cell_type": "code",
   "execution_count": 18,
   "metadata": {},
   "outputs": [
    {
     "name": "stdout",
     "output_type": "stream",
     "text": [
      "0.0031284945152031435\n",
      "67\n"
     ]
    }
   ],
   "source": [
    "gbrt = GradientBoostingRegressor(max_depth=2, warm_start=True) # keep existing trees with warm_start=True\n",
    "min_val_error = float(\"inf\")                      # placeholder for minimum validation error\n",
    "error_going_up = 0                                # count consecutive times of error not reaching a new minimum\n",
    "for n_estimators in range(1, 120):                # loop from 1 through 120\n",
    "    gbrt.n_estimators = n_estimators              # establish a new estimator (between 1 and 120)\n",
    "    gbrt.fit(X_train, y_train)                    # train the new estimator\n",
    "    y_pred = gbrt.predict(X_val)                  # make predictions on the validation set\n",
    "    val_error = mean_squared_error(y_val, y_pred) # calculate the mean squared error on the validation set\n",
    "    if val_error < min_val_error:                 # check if it is a new minimum error ...\n",
    "        min_val_error = val_error                 # ... and if so: update the minimum error ...\n",
    "        error_going_up = 0                        # ... and reset \"error_going_up\" to 0\n",
    "    else:                                         # otherwise ...\n",
    "        error_going_up += 1                       # increase \"error_going_up\" by 1 ...\n",
    "        if error_going_up == 5:                   # ... and if a count of 5 has been reached ...\n",
    "            print(min_val_error)                  # ... print the minimum validation error ...\n",
    "            print(n_estimators)                   # ... as well as the total number of trained estimators ...\n",
    "            break                                 # ... and finish the algorithm"
   ]
  },
  {
   "cell_type": "markdown",
   "metadata": {},
   "source": [
    "The \"GradientBoostingRegressor\" also supports *Stochastic Gradient Boosting*, whereby each tree is trained only on a fraction of all available training instances. This fraction can be set with the hyperparameter \"subsample\", e.g. *subsample=0.25* if each predictor shall be trained on only one randomly chosen quarter of all training instances. Again, this increases the bias but lowers the variance and makes the algorithm faster.<br><br>\n",
    "**General note**<br>\n",
    "It is possible to use Gradient Boosting with other cost functions. This is controlled by the \"loss hyperparameter\" 8see Scikit-Learn's documentation for more details).\n",
    "## Stacking\n",
    "page 200<br>\n",
    "We have learned that the aggregated predictions of the ensemble can be transformed into a final vote by hard or soft voting. Why not have a predictor make the final decision? *Stacked generalization* or *stacking* for short does exaclty that. For a given instance, the individual predictions of all the predictors act as features fed to a *blender* (final predictor) that makes the final decision.<br>\n",
    "In order to train the blender, one first splits the training set into two subsets and trains the ensemble (without the blender) on the first subset. When this is done, the ensemble makes predictions on the second subset, yielding as many features (predictions) as there are predictors in the ensemble. These predictions are *clean* as the ensemble has not seen these instances during training. Then, the blender is trained on these clean predictions. Instead of using a hold-out set for training, one may also employ out-of-fold predictions, see footnote 19 on page 200 and the second link above. Using out-of-fold predictions is called *stacking* and using a hold out set is called *blending* by some people.<br>\n",
    "In the second layer, one may actually train different blenders, e.g., an SVM, a Random Forest, and so on. The predictions of these blenders are then combined in a third layer. To this end, one needs to split the training data into three subsets: one to train the base predictors, the second to have the base predictors make predictions that the middle-layer blenders are trained on, and the third set for training of the top-level blender which takes predictions form the middle layer as input.<br>\n",
    "Scikit-Learn does not have a stacking algorithm. However, implementing stacking will be one of the exercises of this chapter.\n",
    "## Exercises\n",
    "page 202\n",
    "### 1.-7.\n",
    "Solutions are shown in Appendix A of the book and in the separate notebook *ExercisesWithoutCode*.\n",
    "### 8.\n",
    "Load the MNIST data (introduced in Chapter 3), and split it into a a training set, a validation set, and a test set (e.g., use 40000 instances for training, 10000 for validation, and 10000 for testing). Then train various classifiers, such as a Random Forest classifier, an Extra-Trees classifier, and an SVM. Next, try to combine them into an ensemble that outperforms them all on the validation set, using a soft or hard voting classifier. Once you have found one, try it on the test set. How much better does it perform compared to the indicidual classifiers?"
   ]
  },
  {
   "cell_type": "code",
   "execution_count": 20,
   "metadata": {},
   "outputs": [
    {
     "name": "stdout",
     "output_type": "stream",
     "text": [
      "Training the RandomForestClassifier(bootstrap=True, class_weight=None, criterion='gini',\n",
      "                       max_depth=None, max_features='auto', max_leaf_nodes=None,\n",
      "                       min_impurity_decrease=0.0, min_impurity_split=None,\n",
      "                       min_samples_leaf=1, min_samples_split=2,\n",
      "                       min_weight_fraction_leaf=0.0, n_estimators='warn',\n",
      "                       n_jobs=None, oob_score=False, random_state=42, verbose=0,\n",
      "                       warm_start=False)\n"
     ]
    },
    {
     "name": "stderr",
     "output_type": "stream",
     "text": [
      "/home/matthias/anaconda3/lib/python3.6/site-packages/sklearn/ensemble/forest.py:245: FutureWarning: The default value of n_estimators will change from 10 in version 0.20 to 100 in 0.22.\n",
      "  \"10 in version 0.20 to 100 in 0.22.\", FutureWarning)\n"
     ]
    },
    {
     "name": "stdout",
     "output_type": "stream",
     "text": [
      "Training the ExtraTreesClassifier(bootstrap=False, class_weight=None, criterion='gini',\n",
      "                     max_depth=None, max_features='auto', max_leaf_nodes=None,\n",
      "                     min_impurity_decrease=0.0, min_impurity_split=None,\n",
      "                     min_samples_leaf=1, min_samples_split=2,\n",
      "                     min_weight_fraction_leaf=0.0, n_estimators='warn',\n",
      "                     n_jobs=None, oob_score=False, random_state=42, verbose=0,\n",
      "                     warm_start=False)\n"
     ]
    },
    {
     "name": "stderr",
     "output_type": "stream",
     "text": [
      "/home/matthias/anaconda3/lib/python3.6/site-packages/sklearn/ensemble/forest.py:245: FutureWarning: The default value of n_estimators will change from 10 in version 0.20 to 100 in 0.22.\n",
      "  \"10 in version 0.20 to 100 in 0.22.\", FutureWarning)\n"
     ]
    },
    {
     "name": "stdout",
     "output_type": "stream",
     "text": [
      "Training the LinearSVC(C=1.0, class_weight=None, dual=True, fit_intercept=True,\n",
      "          intercept_scaling=1, loss='squared_hinge', max_iter=1000,\n",
      "          multi_class='ovr', penalty='l2', random_state=42, tol=0.0001,\n",
      "          verbose=0)\n"
     ]
    },
    {
     "name": "stderr",
     "output_type": "stream",
     "text": [
      "/home/matthias/anaconda3/lib/python3.6/site-packages/sklearn/svm/base.py:929: ConvergenceWarning: Liblinear failed to converge, increase the number of iterations.\n",
      "  \"the number of iterations.\", ConvergenceWarning)\n"
     ]
    },
    {
     "name": "stdout",
     "output_type": "stream",
     "text": [
      "Training the MLPClassifier(activation='relu', alpha=0.0001, batch_size='auto', beta_1=0.9,\n",
      "              beta_2=0.999, early_stopping=False, epsilon=1e-08,\n",
      "              hidden_layer_sizes=(100,), learning_rate='constant',\n",
      "              learning_rate_init=0.001, max_iter=200, momentum=0.9,\n",
      "              n_iter_no_change=10, nesterovs_momentum=True, power_t=0.5,\n",
      "              random_state=42, shuffle=True, solver='adam', tol=0.0001,\n",
      "              validation_fraction=0.1, verbose=False, warm_start=False)\n"
     ]
    },
    {
     "data": {
      "text/plain": [
       "[0.9469, 0.9492, 0.8397, 0.964]"
      ]
     },
     "execution_count": 20,
     "metadata": {},
     "output_type": "execute_result"
    }
   ],
   "source": [
    "# establish training, testing, and validation sets for the MNIST dataset\n",
    "from sklearn.datasets import fetch_openml\n",
    "mnist = fetch_openml('mnist_784')\n",
    "X = mnist.data.astype(\"float32\");\n",
    "y = mnist.target.astype(\"int64\");\n",
    "X_train_val, X_test, y_train_val, y_test = train_test_split(X, y, test_size=10000,random_state=42)\n",
    "X_train, X_val, y_train, y_val = train_test_split(X_train_val, y_train_val, test_size=10000, random_state=42)\n",
    "# establish 4 different classifiers\n",
    "from sklearn.ensemble import ExtraTreesClassifier\n",
    "from sklearn.svm import LinearSVC\n",
    "from sklearn.neural_network import MLPClassifier\n",
    "random_forest_clf = RandomForestClassifier(random_state=42)\n",
    "extra_trees_clf = ExtraTreesClassifier(random_state=42)\n",
    "svm_clf = LinearSVC(random_state=42)\n",
    "mlp_clf = MLPClassifier(random_state=42)\n",
    "# train the classifiers\n",
    "estimators = [random_forest_clf, extra_trees_clf, svm_clf, mlp_clf]\n",
    "for estimator in estimators:\n",
    "    print(\"Training the\", estimator)\n",
    "    estimator.fit(X_train, y_train)\n",
    "# show the scores\n",
    "[estimator.score(X_val, y_val) for estimator in estimators]"
   ]
  },
  {
   "cell_type": "code",
   "execution_count": 21,
   "metadata": {},
   "outputs": [
    {
     "name": "stderr",
     "output_type": "stream",
     "text": [
      "/home/matthias/anaconda3/lib/python3.6/site-packages/sklearn/svm/base.py:929: ConvergenceWarning: Liblinear failed to converge, increase the number of iterations.\n",
      "  \"the number of iterations.\", ConvergenceWarning)\n"
     ]
    },
    {
     "name": "stdout",
     "output_type": "stream",
     "text": [
      "0.9628\n"
     ]
    },
    {
     "data": {
      "text/plain": [
       "[0.9469, 0.9492, 0.8397, 0.964]"
      ]
     },
     "execution_count": 21,
     "metadata": {},
     "output_type": "execute_result"
    }
   ],
   "source": [
    "# combine the classifiers into a hard-voting ensemble classifier\n",
    "named_estimators = [\n",
    "    (\"random_forest_clf\", random_forest_clf),\n",
    "    (\"extra_trees_clf\", extra_trees_clf),\n",
    "    (\"svm_clf\", svm_clf),\n",
    "    (\"mlp_clf\", mlp_clf),\n",
    "]\n",
    "voting_clf = VotingClassifier(named_estimators)\n",
    "voting_clf.fit(X_train, y_train)\n",
    "# compare the ensemble score witht the individual scores\n",
    "print(voting_clf.score(X_val, y_val))\n",
    "[estimator.score(X_val, y_val) for estimator in voting_clf.estimators_]"
   ]
  },
  {
   "cell_type": "markdown",
   "metadata": {},
   "source": [
    "The ensemble is better than each of its constituents. However, the support vector machine is performing really bad. Maybe the ensemble is better without it."
   ]
  },
  {
   "cell_type": "code",
   "execution_count": 22,
   "metadata": {},
   "outputs": [
    {
     "data": {
      "text/plain": [
       "[('random_forest_clf',\n",
       "  RandomForestClassifier(bootstrap=True, class_weight=None, criterion='gini',\n",
       "                         max_depth=None, max_features='auto', max_leaf_nodes=None,\n",
       "                         min_impurity_decrease=0.0, min_impurity_split=None,\n",
       "                         min_samples_leaf=1, min_samples_split=2,\n",
       "                         min_weight_fraction_leaf=0.0, n_estimators=10,\n",
       "                         n_jobs=None, oob_score=False, random_state=42, verbose=0,\n",
       "                         warm_start=False)),\n",
       " ('extra_trees_clf',\n",
       "  ExtraTreesClassifier(bootstrap=False, class_weight=None, criterion='gini',\n",
       "                       max_depth=None, max_features='auto', max_leaf_nodes=None,\n",
       "                       min_impurity_decrease=0.0, min_impurity_split=None,\n",
       "                       min_samples_leaf=1, min_samples_split=2,\n",
       "                       min_weight_fraction_leaf=0.0, n_estimators=10, n_jobs=None,\n",
       "                       oob_score=False, random_state=42, verbose=0,\n",
       "                       warm_start=False)),\n",
       " ('svm_clf', None),\n",
       " ('mlp_clf',\n",
       "  MLPClassifier(activation='relu', alpha=0.0001, batch_size='auto', beta_1=0.9,\n",
       "                beta_2=0.999, early_stopping=False, epsilon=1e-08,\n",
       "                hidden_layer_sizes=(100,), learning_rate='constant',\n",
       "                learning_rate_init=0.001, max_iter=200, momentum=0.9,\n",
       "                n_iter_no_change=10, nesterovs_momentum=True, power_t=0.5,\n",
       "                random_state=42, shuffle=True, solver='adam', tol=0.0001,\n",
       "                validation_fraction=0.1, verbose=False, warm_start=False))]"
      ]
     },
     "execution_count": 22,
     "metadata": {},
     "output_type": "execute_result"
    }
   ],
   "source": [
    "# the following line removes the support vector machine from the ensemble, however ...\n",
    "voting_clf.set_params(svm_clf=None)\n",
    "voting_clf.estimators"
   ]
  },
  {
   "cell_type": "code",
   "execution_count": 23,
   "metadata": {},
   "outputs": [
    {
     "data": {
      "text/plain": [
       "[RandomForestClassifier(bootstrap=True, class_weight=None, criterion='gini',\n",
       "                        max_depth=None, max_features='auto', max_leaf_nodes=None,\n",
       "                        min_impurity_decrease=0.0, min_impurity_split=None,\n",
       "                        min_samples_leaf=1, min_samples_split=2,\n",
       "                        min_weight_fraction_leaf=0.0, n_estimators=10,\n",
       "                        n_jobs=None, oob_score=False, random_state=42, verbose=0,\n",
       "                        warm_start=False),\n",
       " ExtraTreesClassifier(bootstrap=False, class_weight=None, criterion='gini',\n",
       "                      max_depth=None, max_features='auto', max_leaf_nodes=None,\n",
       "                      min_impurity_decrease=0.0, min_impurity_split=None,\n",
       "                      min_samples_leaf=1, min_samples_split=2,\n",
       "                      min_weight_fraction_leaf=0.0, n_estimators=10, n_jobs=None,\n",
       "                      oob_score=False, random_state=42, verbose=0,\n",
       "                      warm_start=False),\n",
       " LinearSVC(C=1.0, class_weight=None, dual=True, fit_intercept=True,\n",
       "           intercept_scaling=1, loss='squared_hinge', max_iter=1000,\n",
       "           multi_class='ovr', penalty='l2', random_state=42, tol=0.0001,\n",
       "           verbose=0),\n",
       " MLPClassifier(activation='relu', alpha=0.0001, batch_size='auto', beta_1=0.9,\n",
       "               beta_2=0.999, early_stopping=False, epsilon=1e-08,\n",
       "               hidden_layer_sizes=(100,), learning_rate='constant',\n",
       "               learning_rate_init=0.001, max_iter=200, momentum=0.9,\n",
       "               n_iter_no_change=10, nesterovs_momentum=True, power_t=0.5,\n",
       "               random_state=42, shuffle=True, solver='adam', tol=0.0001,\n",
       "               validation_fraction=0.1, verbose=False, warm_start=False)]"
      ]
     },
     "execution_count": 23,
     "metadata": {},
     "output_type": "execute_result"
    }
   ],
   "source": [
    "# ... that command does not remove it from the trained ensemble\n",
    "voting_clf.estimators_"
   ]
  },
  {
   "cell_type": "markdown",
   "metadata": {},
   "source": [
    "In order to really remove the SVM from the (trained) ensemble, we can delete it explicitly as follows."
   ]
  },
  {
   "cell_type": "code",
   "execution_count": 24,
   "metadata": {},
   "outputs": [
    {
     "data": {
      "text/plain": [
       "0.964"
      ]
     },
     "execution_count": 24,
     "metadata": {},
     "output_type": "execute_result"
    }
   ],
   "source": [
    "del voting_clf.estimators_[2]  # delete the third estimator (SVM) from the trained ensemble\n",
    "voting_clf.score(X_val, y_val) # run the voting classifier again"
   ]
  },
  {
   "cell_type": "markdown",
   "metadata": {},
   "source": [
    "Indeed, the hard voting classifier performs a bit better withou the SVM!"
   ]
  },
  {
   "cell_type": "code",
   "execution_count": 25,
   "metadata": {},
   "outputs": [
    {
     "data": {
      "text/plain": [
       "0.9689"
      ]
     },
     "execution_count": 25,
     "metadata": {},
     "output_type": "execute_result"
    }
   ],
   "source": [
    "# now try soft voting\n",
    "voting_clf.voting = \"soft\"\n",
    "voting_clf.score(X_val, y_val)"
   ]
  },
  {
   "cell_type": "markdown",
   "metadata": {},
   "source": [
    "The soft voting classifier performs even a bit better than the hard voting classifier. Let's try is on the test set!"
   ]
  },
  {
   "cell_type": "code",
   "execution_count": 26,
   "metadata": {},
   "outputs": [
    {
     "name": "stdout",
     "output_type": "stream",
     "text": [
      "0.9687\n"
     ]
    },
    {
     "data": {
      "text/plain": [
       "[0.9437, 0.9474, 0.9629]"
      ]
     },
     "execution_count": 26,
     "metadata": {},
     "output_type": "execute_result"
    }
   ],
   "source": [
    "print(voting_clf.score(X_test, y_test))                                  # ensemble score with soft voting on test set\n",
    "[estimator.score(X_test,y_test) for estimator in voting_clf.estimators_] # individual scores on test set"
   ]
  },
  {
   "cell_type": "markdown",
   "metadata": {},
   "source": [
    "### 9.\n",
    "Run the individual classifiers from the previous exercise to make predictions on the validation set, and create a new training set with the resulting predictions: each training instance is a vector containing the set of predictions from all your classifiers for an image, and the target is the image's class. Congratulations, you have just trained a blender, and together with the classifiers they form a stacking ensemble! Now let's evaluate the ensemble on the test set. For each image in the test set, make predictions with all your classifiers, then feed the predictions to the blender to get the ensemble's predictions. How does it compare to the voting classifiers you trained earlier?"
   ]
  },
  {
   "cell_type": "code",
   "execution_count": 27,
   "metadata": {},
   "outputs": [
    {
     "data": {
      "text/plain": [
       "array([[5., 5., 8., 5.],\n",
       "       [8., 8., 8., 8.],\n",
       "       [2., 2., 2., 2.],\n",
       "       ...,\n",
       "       [7., 7., 7., 7.],\n",
       "       [6., 6., 6., 6.],\n",
       "       [7., 7., 7., 7.]], dtype=float32)"
      ]
     },
     "execution_count": 27,
     "metadata": {},
     "output_type": "execute_result"
    }
   ],
   "source": [
    "# collect all the predictions on the validation set of all 4 (still trained, see above) estimators\n",
    "X_val_predictions = np.empty((len(X_val), len(estimators)), dtype=np.float32) # data container\n",
    "for index, estimator in enumerate(estimators):                                # loop through columns / estimators ...\n",
    "    X_val_predictions[:, index] = estimator.predict(X_val)                    # ... see third link at top of page\n",
    "X_val_predictions                                                             # show the input for the blender"
   ]
  },
  {
   "cell_type": "code",
   "execution_count": 28,
   "metadata": {},
   "outputs": [
    {
     "name": "stdout",
     "output_type": "stream",
     "text": [
      "RandomForestClassifier(bootstrap=True, class_weight=None, criterion='gini',\n",
      "                       max_depth=None, max_features='auto', max_leaf_nodes=None,\n",
      "                       min_impurity_decrease=0.0, min_impurity_split=None,\n",
      "                       min_samples_leaf=1, min_samples_split=2,\n",
      "                       min_weight_fraction_leaf=0.0, n_estimators=200,\n",
      "                       n_jobs=None, oob_score=True, random_state=42, verbose=0,\n",
      "                       warm_start=False)\n",
      "0.9608\n"
     ]
    }
   ],
   "source": [
    "# train a random forest classifier on blending these predictions and check its score\n",
    "rnd_forest_blender = RandomForestClassifier(n_estimators=200, oob_score=True, random_state=42)\n",
    "print(rnd_forest_blender.fit(X_val_predictions, y_val))\n",
    "print(rnd_forest_blender.oob_score_)"
   ]
  },
  {
   "cell_type": "code",
   "execution_count": 29,
   "metadata": {},
   "outputs": [
    {
     "data": {
      "text/plain": [
       "0.9614"
      ]
     },
     "execution_count": 29,
     "metadata": {},
     "output_type": "execute_result"
    }
   ],
   "source": [
    "# establish test set instances (predicions of classifiers) and check the trained blender's predicions on them\n",
    "X_test_predictions = np.empty((len(X_test), len(estimators)), dtype=np.float32)\n",
    "for index, estimator in enumerate(estimators):\n",
    "    X_test_predictions[:, index] = estimator.predict(X_test)\n",
    "y_pred = rnd_forest_blender.predict(X_test_predictions)\n",
    "# accuracy of blending ensemble on the test set\n",
    "accuracy_score(y_test, y_pred)"
   ]
  }
 ],
 "metadata": {
  "kernelspec": {
   "display_name": "Python 3",
   "language": "python",
   "name": "python3"
  },
  "language_info": {
   "codemirror_mode": {
    "name": "ipython",
    "version": 3
   },
   "file_extension": ".py",
   "mimetype": "text/x-python",
   "name": "python",
   "nbconvert_exporter": "python",
   "pygments_lexer": "ipython3",
   "version": "3.6.8"
  }
 },
 "nbformat": 4,
 "nbformat_minor": 2
}
